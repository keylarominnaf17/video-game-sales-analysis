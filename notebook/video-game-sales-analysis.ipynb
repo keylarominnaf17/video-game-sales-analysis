{
 "cells": [
  {
   "cell_type": "markdown",
   "metadata": {},
   "source": [
    "# 1.1 Se abre el archivo de datos y se observa la informacion general"
   ]
  },
  {
   "cell_type": "code",
   "execution_count": 1,
   "metadata": {
    "tags": [
     "e5c1f0c2-db9f-43a0-99b9-4875c52427e8"
    ]
   },
   "outputs": [],
   "source": [
    "import pandas as pd\n",
    "import numpy as np\n",
    "import seaborn as sns\n",
    "from matplotlib import pyplot as plt\n"
   ]
  },
  {
   "cell_type": "code",
   "execution_count": 2,
   "metadata": {},
   "outputs": [],
   "source": [
    "games = pd.read_csv(\"/datasets/games.csv\")"
   ]
  },
  {
   "cell_type": "code",
   "execution_count": 3,
   "metadata": {},
   "outputs": [
    {
     "name": "stdout",
     "output_type": "stream",
     "text": [
      "<class 'pandas.core.frame.DataFrame'>\n",
      "RangeIndex: 16715 entries, 0 to 16714\n",
      "Data columns (total 11 columns):\n",
      " #   Column           Non-Null Count  Dtype  \n",
      "---  ------           --------------  -----  \n",
      " 0   Name             16713 non-null  object \n",
      " 1   Platform         16715 non-null  object \n",
      " 2   Year_of_Release  16446 non-null  float64\n",
      " 3   Genre            16713 non-null  object \n",
      " 4   NA_sales         16715 non-null  float64\n",
      " 5   EU_sales         16715 non-null  float64\n",
      " 6   JP_sales         16715 non-null  float64\n",
      " 7   Other_sales      16715 non-null  float64\n",
      " 8   Critic_Score     8137 non-null   float64\n",
      " 9   User_Score       10014 non-null  object \n",
      " 10  Rating           9949 non-null   object \n",
      "dtypes: float64(6), object(5)\n",
      "memory usage: 1.4+ MB\n"
     ]
    },
    {
     "data": {
      "text/html": [
       "<div>\n",
       "<style scoped>\n",
       "    .dataframe tbody tr th:only-of-type {\n",
       "        vertical-align: middle;\n",
       "    }\n",
       "\n",
       "    .dataframe tbody tr th {\n",
       "        vertical-align: top;\n",
       "    }\n",
       "\n",
       "    .dataframe thead th {\n",
       "        text-align: right;\n",
       "    }\n",
       "</style>\n",
       "<table border=\"1\" class=\"dataframe\">\n",
       "  <thead>\n",
       "    <tr style=\"text-align: right;\">\n",
       "      <th></th>\n",
       "      <th>Name</th>\n",
       "      <th>Platform</th>\n",
       "      <th>Year_of_Release</th>\n",
       "      <th>Genre</th>\n",
       "      <th>NA_sales</th>\n",
       "      <th>EU_sales</th>\n",
       "      <th>JP_sales</th>\n",
       "      <th>Other_sales</th>\n",
       "      <th>Critic_Score</th>\n",
       "      <th>User_Score</th>\n",
       "      <th>Rating</th>\n",
       "    </tr>\n",
       "  </thead>\n",
       "  <tbody>\n",
       "    <tr>\n",
       "      <th>count</th>\n",
       "      <td>16713</td>\n",
       "      <td>16715</td>\n",
       "      <td>16446.000000</td>\n",
       "      <td>16713</td>\n",
       "      <td>16715.000000</td>\n",
       "      <td>16715.000000</td>\n",
       "      <td>16715.000000</td>\n",
       "      <td>16715.000000</td>\n",
       "      <td>8137.000000</td>\n",
       "      <td>10014</td>\n",
       "      <td>9949</td>\n",
       "    </tr>\n",
       "    <tr>\n",
       "      <th>unique</th>\n",
       "      <td>11559</td>\n",
       "      <td>31</td>\n",
       "      <td>NaN</td>\n",
       "      <td>12</td>\n",
       "      <td>NaN</td>\n",
       "      <td>NaN</td>\n",
       "      <td>NaN</td>\n",
       "      <td>NaN</td>\n",
       "      <td>NaN</td>\n",
       "      <td>96</td>\n",
       "      <td>8</td>\n",
       "    </tr>\n",
       "    <tr>\n",
       "      <th>top</th>\n",
       "      <td>Need for Speed: Most Wanted</td>\n",
       "      <td>PS2</td>\n",
       "      <td>NaN</td>\n",
       "      <td>Action</td>\n",
       "      <td>NaN</td>\n",
       "      <td>NaN</td>\n",
       "      <td>NaN</td>\n",
       "      <td>NaN</td>\n",
       "      <td>NaN</td>\n",
       "      <td>tbd</td>\n",
       "      <td>E</td>\n",
       "    </tr>\n",
       "    <tr>\n",
       "      <th>freq</th>\n",
       "      <td>12</td>\n",
       "      <td>2161</td>\n",
       "      <td>NaN</td>\n",
       "      <td>3369</td>\n",
       "      <td>NaN</td>\n",
       "      <td>NaN</td>\n",
       "      <td>NaN</td>\n",
       "      <td>NaN</td>\n",
       "      <td>NaN</td>\n",
       "      <td>2424</td>\n",
       "      <td>3990</td>\n",
       "    </tr>\n",
       "    <tr>\n",
       "      <th>mean</th>\n",
       "      <td>NaN</td>\n",
       "      <td>NaN</td>\n",
       "      <td>2006.484616</td>\n",
       "      <td>NaN</td>\n",
       "      <td>0.263377</td>\n",
       "      <td>0.145060</td>\n",
       "      <td>0.077617</td>\n",
       "      <td>0.047342</td>\n",
       "      <td>68.967679</td>\n",
       "      <td>NaN</td>\n",
       "      <td>NaN</td>\n",
       "    </tr>\n",
       "    <tr>\n",
       "      <th>std</th>\n",
       "      <td>NaN</td>\n",
       "      <td>NaN</td>\n",
       "      <td>5.877050</td>\n",
       "      <td>NaN</td>\n",
       "      <td>0.813604</td>\n",
       "      <td>0.503339</td>\n",
       "      <td>0.308853</td>\n",
       "      <td>0.186731</td>\n",
       "      <td>13.938165</td>\n",
       "      <td>NaN</td>\n",
       "      <td>NaN</td>\n",
       "    </tr>\n",
       "    <tr>\n",
       "      <th>min</th>\n",
       "      <td>NaN</td>\n",
       "      <td>NaN</td>\n",
       "      <td>1980.000000</td>\n",
       "      <td>NaN</td>\n",
       "      <td>0.000000</td>\n",
       "      <td>0.000000</td>\n",
       "      <td>0.000000</td>\n",
       "      <td>0.000000</td>\n",
       "      <td>13.000000</td>\n",
       "      <td>NaN</td>\n",
       "      <td>NaN</td>\n",
       "    </tr>\n",
       "    <tr>\n",
       "      <th>25%</th>\n",
       "      <td>NaN</td>\n",
       "      <td>NaN</td>\n",
       "      <td>2003.000000</td>\n",
       "      <td>NaN</td>\n",
       "      <td>0.000000</td>\n",
       "      <td>0.000000</td>\n",
       "      <td>0.000000</td>\n",
       "      <td>0.000000</td>\n",
       "      <td>60.000000</td>\n",
       "      <td>NaN</td>\n",
       "      <td>NaN</td>\n",
       "    </tr>\n",
       "    <tr>\n",
       "      <th>50%</th>\n",
       "      <td>NaN</td>\n",
       "      <td>NaN</td>\n",
       "      <td>2007.000000</td>\n",
       "      <td>NaN</td>\n",
       "      <td>0.080000</td>\n",
       "      <td>0.020000</td>\n",
       "      <td>0.000000</td>\n",
       "      <td>0.010000</td>\n",
       "      <td>71.000000</td>\n",
       "      <td>NaN</td>\n",
       "      <td>NaN</td>\n",
       "    </tr>\n",
       "    <tr>\n",
       "      <th>75%</th>\n",
       "      <td>NaN</td>\n",
       "      <td>NaN</td>\n",
       "      <td>2010.000000</td>\n",
       "      <td>NaN</td>\n",
       "      <td>0.240000</td>\n",
       "      <td>0.110000</td>\n",
       "      <td>0.040000</td>\n",
       "      <td>0.030000</td>\n",
       "      <td>79.000000</td>\n",
       "      <td>NaN</td>\n",
       "      <td>NaN</td>\n",
       "    </tr>\n",
       "    <tr>\n",
       "      <th>max</th>\n",
       "      <td>NaN</td>\n",
       "      <td>NaN</td>\n",
       "      <td>2016.000000</td>\n",
       "      <td>NaN</td>\n",
       "      <td>41.360000</td>\n",
       "      <td>28.960000</td>\n",
       "      <td>10.220000</td>\n",
       "      <td>10.570000</td>\n",
       "      <td>98.000000</td>\n",
       "      <td>NaN</td>\n",
       "      <td>NaN</td>\n",
       "    </tr>\n",
       "  </tbody>\n",
       "</table>\n",
       "</div>"
      ],
      "text/plain": [
       "                               Name Platform  Year_of_Release   Genre  \\\n",
       "count                         16713    16715     16446.000000   16713   \n",
       "unique                        11559       31              NaN      12   \n",
       "top     Need for Speed: Most Wanted      PS2              NaN  Action   \n",
       "freq                             12     2161              NaN    3369   \n",
       "mean                            NaN      NaN      2006.484616     NaN   \n",
       "std                             NaN      NaN         5.877050     NaN   \n",
       "min                             NaN      NaN      1980.000000     NaN   \n",
       "25%                             NaN      NaN      2003.000000     NaN   \n",
       "50%                             NaN      NaN      2007.000000     NaN   \n",
       "75%                             NaN      NaN      2010.000000     NaN   \n",
       "max                             NaN      NaN      2016.000000     NaN   \n",
       "\n",
       "            NA_sales      EU_sales      JP_sales   Other_sales  Critic_Score  \\\n",
       "count   16715.000000  16715.000000  16715.000000  16715.000000   8137.000000   \n",
       "unique           NaN           NaN           NaN           NaN           NaN   \n",
       "top              NaN           NaN           NaN           NaN           NaN   \n",
       "freq             NaN           NaN           NaN           NaN           NaN   \n",
       "mean        0.263377      0.145060      0.077617      0.047342     68.967679   \n",
       "std         0.813604      0.503339      0.308853      0.186731     13.938165   \n",
       "min         0.000000      0.000000      0.000000      0.000000     13.000000   \n",
       "25%         0.000000      0.000000      0.000000      0.000000     60.000000   \n",
       "50%         0.080000      0.020000      0.000000      0.010000     71.000000   \n",
       "75%         0.240000      0.110000      0.040000      0.030000     79.000000   \n",
       "max        41.360000     28.960000     10.220000     10.570000     98.000000   \n",
       "\n",
       "       User_Score Rating  \n",
       "count       10014   9949  \n",
       "unique         96      8  \n",
       "top           tbd      E  \n",
       "freq         2424   3990  \n",
       "mean          NaN    NaN  \n",
       "std           NaN    NaN  \n",
       "min           NaN    NaN  \n",
       "25%           NaN    NaN  \n",
       "50%           NaN    NaN  \n",
       "75%           NaN    NaN  \n",
       "max           NaN    NaN  "
      ]
     },
     "execution_count": 3,
     "metadata": {},
     "output_type": "execute_result"
    }
   ],
   "source": [
    "games.info()\n",
    "games.describe(include=\"all\")"
   ]
  },
  {
   "cell_type": "markdown",
   "metadata": {},
   "source": [
    "Comentarios: Se encontraron varios valores no nulos dentro de las columnas: \"name\", \"year_of_release\", \"genre\", \"critic_score\", \"user_score\" y \"rating\". "
   ]
  },
  {
   "cell_type": "code",
   "execution_count": 4,
   "metadata": {},
   "outputs": [
    {
     "name": "stdout",
     "output_type": "stream",
     "text": [
      "                           Name Platform  Year_of_Release         Genre  \\\n",
      "0                    Wii Sports      Wii           2006.0        Sports   \n",
      "1             Super Mario Bros.      NES           1985.0      Platform   \n",
      "2                Mario Kart Wii      Wii           2008.0        Racing   \n",
      "3             Wii Sports Resort      Wii           2009.0        Sports   \n",
      "4      Pokemon Red/Pokemon Blue       GB           1996.0  Role-Playing   \n",
      "5                        Tetris       GB           1989.0        Puzzle   \n",
      "6         New Super Mario Bros.       DS           2006.0      Platform   \n",
      "7                      Wii Play      Wii           2006.0          Misc   \n",
      "8     New Super Mario Bros. Wii      Wii           2009.0      Platform   \n",
      "9                     Duck Hunt      NES           1984.0       Shooter   \n",
      "10                   Nintendogs       DS           2005.0    Simulation   \n",
      "11                Mario Kart DS       DS           2005.0        Racing   \n",
      "12  Pokemon Gold/Pokemon Silver       GB           1999.0  Role-Playing   \n",
      "13                      Wii Fit      Wii           2007.0        Sports   \n",
      "14           Kinect Adventures!     X360           2010.0          Misc   \n",
      "\n",
      "    NA_sales  EU_sales  JP_sales  Other_sales  Critic_Score User_Score Rating  \n",
      "0      41.36     28.96      3.77         8.45          76.0          8      E  \n",
      "1      29.08      3.58      6.81         0.77           NaN        NaN    NaN  \n",
      "2      15.68     12.76      3.79         3.29          82.0        8.3      E  \n",
      "3      15.61     10.93      3.28         2.95          80.0          8      E  \n",
      "4      11.27      8.89     10.22         1.00           NaN        NaN    NaN  \n",
      "5      23.20      2.26      4.22         0.58           NaN        NaN    NaN  \n",
      "6      11.28      9.14      6.50         2.88          89.0        8.5      E  \n",
      "7      13.96      9.18      2.93         2.84          58.0        6.6      E  \n",
      "8      14.44      6.94      4.70         2.24          87.0        8.4      E  \n",
      "9      26.93      0.63      0.28         0.47           NaN        NaN    NaN  \n",
      "10      9.05     10.95      1.93         2.74           NaN        NaN    NaN  \n",
      "11      9.71      7.47      4.13         1.90          91.0        8.6      E  \n",
      "12      9.00      6.18      7.20         0.71           NaN        NaN    NaN  \n",
      "13      8.92      8.03      3.60         2.15          80.0        7.7      E  \n",
      "14     15.00      4.89      0.24         1.69          61.0        6.3      E  \n"
     ]
    }
   ],
   "source": [
    "print(games.head(15))"
   ]
  },
  {
   "cell_type": "markdown",
   "metadata": {},
   "source": [
    "# 2.1 Preparación de datos"
   ]
  },
  {
   "cell_type": "markdown",
   "metadata": {},
   "source": [
    "Instruccion: Renombra las columnas (ponlas en minusculas)"
   ]
  },
  {
   "cell_type": "code",
   "execution_count": 5,
   "metadata": {},
   "outputs": [],
   "source": [
    "old_names = games.columns\n",
    "new_columns= []\n",
    "for col in old_names:\n",
    "    new_columns.append(col.lower())\n",
    "games.columns = new_columns"
   ]
  },
  {
   "cell_type": "markdown",
   "metadata": {},
   "source": [
    "Comentarios: Se utilizo la funcion .lower() dentro de un bucle for para cambiar a minusculas los nombres de cada columna. "
   ]
  },
  {
   "cell_type": "markdown",
   "metadata": {},
   "source": [
    "# 2.2 Manejo de valores nulos"
   ]
  },
  {
   "cell_type": "code",
   "execution_count": 6,
   "metadata": {},
   "outputs": [],
   "source": [
    "#Manejo de valores nulos en columna \"name\"\n",
    "games = games.drop([14244, 659])\n",
    "games.reset_index(drop=True, inplace=True)"
   ]
  },
  {
   "cell_type": "markdown",
   "metadata": {},
   "source": [
    "Comentarios: En este apartado se eliminaron las filas con el indice 659 y 14244. Estos contaban con valores ausentes en la fila aportando poca a casi nada de relevancia al analisis."
   ]
  },
  {
   "cell_type": "code",
   "execution_count": 7,
   "metadata": {},
   "outputs": [],
   "source": [
    "#Manejo de valores nulos en la columna \"critic_score\"\n",
    "games[\"critic_score\"] = games[\"critic_score\"].fillna(games.groupby(\"genre\")[\"critic_score\"].transform(\"mean\"))"
   ]
  },
  {
   "cell_type": "markdown",
   "metadata": {},
   "source": [
    "Comentarios: Los valores ausentes en la columna \"critic_score\" se rellenaron con la media de cada genero (respectivamente). Se realizo esta practica con el afan de tener datos mas asertados. "
   ]
  },
  {
   "cell_type": "code",
   "execution_count": 8,
   "metadata": {},
   "outputs": [],
   "source": [
    "#Manejo de valores nulos en la columna \"user_score\"\n",
    "games['user_score'] = games['user_score'].replace('TBD', np.nan)\n",
    "\n",
    "#Se cambia el tipo de datos de object a float\n",
    "games[\"user_score\"] = pd.to_numeric(games['user_score'], errors='coerce')\n",
    "\n",
    "#Agrupa el dataframe games por genero y adjudica la media de cada genero a los valores nulos correspondientes\n",
    "games[\"user_score\"] = games[\"user_score\"].fillna(games.groupby(\"genre\")[\"user_score\"].transform(\"mean\"))\n"
   ]
  },
  {
   "cell_type": "markdown",
   "metadata": {},
   "source": [
    "Comentarios: Dentro de la columna \"user_score\" se encontraban valores como \"TBD\". Estos valores que no aportan informacion se cambiaron a NaN, para que python los pudiera leer como valores ausentes. Posteriormente, estos valores se cambiaron por la media de cada genero; para hacer mejor manejo de ellos. "
   ]
  },
  {
   "cell_type": "code",
   "execution_count": 9,
   "metadata": {
    "scrolled": true
   },
   "outputs": [],
   "source": [
    "#Manejo de valores nulos en la columna \"rating\"\n",
    "games['rating'] = games['rating'].replace('K-A', \"E\")"
   ]
  },
  {
   "cell_type": "markdown",
   "metadata": {},
   "source": [
    "Comentarios: Dentro de la columna \"rating\" habian varios valores ausentes. Los valores ausentes se dejaron como valores ausentes ya que son mas de la mitad. Por el momento, se considera que los valores ausentes en dicha columna no son impedimento para lograr un analisis efectivo y completo. Se cambio el rating de \"K-A\" a \"E\" ya que \"K-A\" significa kids to adults y posteriormente fue cambiado a Everyone"
   ]
  },
  {
   "cell_type": "markdown",
   "metadata": {},
   "source": [
    "Comentarios generales sobre valores nulos:\n",
    "Los valores ausentes se pueden deber a muchos factores: falta de data, tal como es el caso de \"TBD\" en donde se cree serian datos que recolectaran una vez disponibles, errores, juegos que no fueron lanzados y por ende tienen 0s en las ventas, entre otros factores. "
   ]
  },
  {
   "cell_type": "markdown",
   "metadata": {},
   "source": [
    "# 2.3 Tipos de datos"
   ]
  },
  {
   "cell_type": "code",
   "execution_count": 10,
   "metadata": {},
   "outputs": [],
   "source": [
    "games['year_of_release'] = pd.to_datetime(games['year_of_release'], format='%Y', errors='coerce')\n",
    "games[\"critic_score\"] = games[\"critic_score\"].astype(int)"
   ]
  },
  {
   "cell_type": "code",
   "execution_count": 11,
   "metadata": {},
   "outputs": [
    {
     "data": {
      "text/plain": [
       "name                       object\n",
       "platform                   object\n",
       "year_of_release    datetime64[ns]\n",
       "genre                      object\n",
       "na_sales                  float64\n",
       "eu_sales                  float64\n",
       "jp_sales                  float64\n",
       "other_sales               float64\n",
       "critic_score                int64\n",
       "user_score                float64\n",
       "rating                     object\n",
       "dtype: object"
      ]
     },
     "execution_count": 11,
     "metadata": {},
     "output_type": "execute_result"
    }
   ],
   "source": [
    "games.dtypes"
   ]
  },
  {
   "cell_type": "markdown",
   "metadata": {},
   "source": [
    "Comentarios: Los datos de la columna \"year_of_release\", \"user_score\", y \"critic_score\" fueron cambiados a otro tipos de datos, datetime64, float64, y int64, respectivamente.\n",
    "La columna year_of_release contiene el año de lanzamiento, es por eso que es mejor cambiarlo de float a datetime para poder agrupar, y manipular los datos de mejor manera. "
   ]
  },
  {
   "cell_type": "markdown",
   "metadata": {},
   "source": [
    "# 2.4 Numero total ventas"
   ]
  },
  {
   "cell_type": "code",
   "execution_count": 12,
   "metadata": {},
   "outputs": [],
   "source": [
    "games[\"total_sales\"]= games[\"na_sales\"] + games[\"eu_sales\"] + games[\"jp_sales\"] + games[\"other_sales\"]"
   ]
  },
  {
   "cell_type": "code",
   "execution_count": 13,
   "metadata": {},
   "outputs": [
    {
     "name": "stdout",
     "output_type": "stream",
     "text": [
      "                        name platform year_of_release         genre  na_sales  \\\n",
      "0                 Wii Sports      Wii      2006-01-01        Sports     41.36   \n",
      "1          Super Mario Bros.      NES      1985-01-01      Platform     29.08   \n",
      "2             Mario Kart Wii      Wii      2008-01-01        Racing     15.68   \n",
      "3          Wii Sports Resort      Wii      2009-01-01        Sports     15.61   \n",
      "4   Pokemon Red/Pokemon Blue       GB      1996-01-01  Role-Playing     11.27   \n",
      "5                     Tetris       GB      1989-01-01        Puzzle     23.20   \n",
      "6      New Super Mario Bros.       DS      2006-01-01      Platform     11.28   \n",
      "7                   Wii Play      Wii      2006-01-01          Misc     13.96   \n",
      "8  New Super Mario Bros. Wii      Wii      2009-01-01      Platform     14.44   \n",
      "9                  Duck Hunt      NES      1984-01-01       Shooter     26.93   \n",
      "\n",
      "   eu_sales  jp_sales  other_sales  critic_score  user_score rating  \\\n",
      "0     28.96      3.77         8.45            76    8.000000      E   \n",
      "1      3.58      6.81         0.77            68    7.301402    NaN   \n",
      "2     12.76      3.79         3.29            82    8.300000      E   \n",
      "3     10.93      3.28         2.95            80    8.000000      E   \n",
      "4      8.89     10.22         1.00            72    7.619515    NaN   \n",
      "5      2.26      4.22         0.58            67    7.175000    NaN   \n",
      "6      9.14      6.50         2.88            89    8.500000      E   \n",
      "7      9.18      2.93         2.84            58    6.600000      E   \n",
      "8      6.94      4.70         2.24            87    8.400000      E   \n",
      "9      0.63      0.28         0.47            70    7.041883    NaN   \n",
      "\n",
      "   total_sales  \n",
      "0        82.54  \n",
      "1        40.24  \n",
      "2        35.52  \n",
      "3        32.77  \n",
      "4        31.38  \n",
      "5        30.26  \n",
      "6        29.80  \n",
      "7        28.91  \n",
      "8        28.32  \n",
      "9        28.31  \n"
     ]
    }
   ],
   "source": [
    "print(games.head(10))"
   ]
  },
  {
   "cell_type": "markdown",
   "metadata": {},
   "source": [
    "# 3.1 Analiza los datos"
   ]
  },
  {
   "cell_type": "markdown",
   "metadata": {},
   "source": [
    "Instrucciones: Mira cuántos juegos fueron lanzados en diferentes años. ¿Son significativos los datos de cada período?"
   ]
  },
  {
   "cell_type": "code",
   "execution_count": 14,
   "metadata": {},
   "outputs": [
    {
     "name": "stdout",
     "output_type": "stream",
     "text": [
      "year_of_release\n",
      "1980-01-01       9\n",
      "1981-01-01      46\n",
      "1982-01-01      36\n",
      "1983-01-01      17\n",
      "1984-01-01      14\n",
      "1985-01-01      14\n",
      "1986-01-01      21\n",
      "1987-01-01      16\n",
      "1988-01-01      15\n",
      "1989-01-01      17\n",
      "1990-01-01      16\n",
      "1991-01-01      41\n",
      "1992-01-01      43\n",
      "1993-01-01      60\n",
      "1994-01-01     121\n",
      "1995-01-01     219\n",
      "1996-01-01     263\n",
      "1997-01-01     289\n",
      "1998-01-01     379\n",
      "1999-01-01     338\n",
      "2000-01-01     350\n",
      "2001-01-01     482\n",
      "2002-01-01     829\n",
      "2003-01-01     775\n",
      "2004-01-01     762\n",
      "2005-01-01     939\n",
      "2006-01-01    1006\n",
      "2007-01-01    1197\n",
      "2008-01-01    1427\n",
      "2009-01-01    1426\n",
      "2010-01-01    1255\n",
      "2011-01-01    1136\n",
      "2012-01-01     653\n",
      "2013-01-01     544\n",
      "2014-01-01     581\n",
      "2015-01-01     606\n",
      "2016-01-01     502\n",
      "Name: total_sales, dtype: int64\n",
      "9\n",
      "1427\n"
     ]
    },
    {
     "data": {
      "image/png": "[encoded data removed]",
      "text/plain": [
       "<Figure size 1200x600 with 1 Axes>"
      ]
     },
     "metadata": {},
     "output_type": "display_data"
    }
   ],
   "source": [
    "games_by_year = games.groupby('year_of_release')[\"total_sales\"].count()\n",
    "print(games_by_year)\n",
    "print(games_by_year.min())\n",
    "print(games_by_year.max())\n",
    "\n",
    "games_by_year = games_by_year.reset_index()\n",
    "\n",
    "plt.figure(figsize=(12,6))\n",
    "sns.lineplot(data=games_by_year, x=\"year_of_release\", y=\"total_sales\", marker=\"o\")\n",
    "plt.xlabel(\"Año de lanzamiento\")\n",
    "plt.ylabel(\"Cantidad de juegos\")\n",
    "plt.title(\"Evolución del número de juegos lanzados por año\")\n",
    "plt.show()"
   ]
  },
  {
   "cell_type": "markdown",
   "metadata": {},
   "source": [
    "Comentarios: Los datos son significativos ya que se puede ver el crecimiento de la industria de manera lenta pero constante. De los años 1980 - 1995 se puede ver un crecimiento moderado debido a limitaciones tecnológicas. \n",
    "A partir de 1996 - 2011 hay un crecimiento exponencial que empieza en 263 y termina en 1136. El año 2008 siendo el \"pico\" con 1427 video juegos lanzados a comparación con 1980 que habia lanzado 9 video juegos. \n",
    "A partir del 2012 - 2016 se empieza a ver un declive moderado, esto se puede deber a varios factores. Muchos de los video juegos ahora son en base a suscripción, en app stores como la de google o apple. Posteriormente se añadio una gráfica para visualizar los resultados."
   ]
  },
  {
   "cell_type": "markdown",
   "metadata": {},
   "source": [
    "Instruccion: Observa cómo varían las ventas de una plataforma a otra. Elige las plataformas con las mayores ventas totales y construye una distribución basada en los datos de cada año. "
   ]
  },
  {
   "cell_type": "code",
   "execution_count": 15,
   "metadata": {},
   "outputs": [
    {
     "data": {
      "image/png": "[encoded data removed]",
      "text/plain": [
       "<Figure size 1200x600 with 1 Axes>"
      ]
     },
     "metadata": {},
     "output_type": "display_data"
    }
   ],
   "source": [
    "platform_sales = games.groupby(\"platform\")[\"total_sales\"].sum().sort_values(ascending=False)\n",
    "top_platforms = platform_sales.head(5).index\n",
    "sales_by_year = games[games[\"platform\"].isin(top_platforms)]\n",
    "sales_by_year = sales_by_year.groupby([\"platform\", \"year_of_release\"])[\"total_sales\"].sum().reset_index()\n",
    "sales_by_year.drop(0, inplace=True)\n",
    "\n",
    "plt.figure(figsize=(12,6))\n",
    "sns.lineplot(data=sales_by_year, x=\"year_of_release\", y=\"total_sales\", hue=\"platform\", marker=\"o\")\n",
    "plt.xlabel(\"Año de lanzamiento\")\n",
    "plt.ylabel(\"Ventas Totales (millones)\")\n",
    "plt.title(\"Evolución de ventas de las 5 plataformas más vendidas\")\n",
    "plt.legend(title=\"Plataforma\")\n",
    "plt.show()"
   ]
  },
  {
   "cell_type": "markdown",
   "metadata": {},
   "source": [
    "Comentarios: Se agruparon los juegos por plataforma y total de ventas y se uso el parametro ascending=False para que este imprimiera las plataformas con mas ventas. \n",
    "\n",
    "Despues de identificar las top 5 plataformas en ventas totales se filtro el dataframes games utilizando la funcion isin() para buscar los nombres de la plataforma que estuvieran en el dataframe y en la variable top_platforms. Ese dataframe filtrado se agrupo por plataforma y año y se graficaron sus ventas. \n",
    "\n",
    "En la grafica anterior podemos observar como la PS2 alcanzó su punto máximo alrededor de 2002-2004 con más de 200 millones en ventas antes de descender gradualmente.\n",
    "La DS tuvo un pico alto cerca de 2008, aunque no tan alto como la PS2.\n",
    "La Wii tuvo un pico en 2009-2010, con un declive posterior bastante rápido, mucho mas agresivo que el de la DS. \n",
    "La X360 y la PS3 también tuvieron su auge entre 2008 y 2012.\n",
    "Todas las plataformas siguen un patrón de crecimiento, pico y declive, reflejando el ciclo de vida típico de una consola de videojuegos."
   ]
  },
  {
   "cell_type": "markdown",
   "metadata": {},
   "source": [
    "Instruccion: Busca las plataformas que solían ser populares pero que ahora no tienen ventas. ¿Cuánto tardan generalmente las nuevas plataformas en aparecer y las antiguas en desaparecer?"
   ]
  },
  {
   "cell_type": "code",
   "execution_count": 16,
   "metadata": {},
   "outputs": [
    {
     "name": "stdout",
     "output_type": "stream",
     "text": [
      "El ultimo año que esta plataforma tuvo ventas:\n",
      " platform\n",
      "2600   1989-01-01\n",
      "GG     1992-01-01\n",
      "SCD    1994-01-01\n",
      "GEN    1994-01-01\n",
      "NES    1994-01-01\n",
      "TG16   1995-01-01\n",
      "3DO    1995-01-01\n",
      "NG     1996-01-01\n",
      "PCFX   1996-01-01\n",
      "SNES   1999-01-01\n",
      "SAT    1999-01-01\n",
      "WS     2001-01-01\n",
      "GB     2001-01-01\n",
      "N64    2002-01-01\n",
      "PS     2003-01-01\n",
      "GBA    2007-01-01\n",
      "GC     2007-01-01\n",
      "DC     2008-01-01\n",
      "XB     2008-01-01\n",
      "PS2    2011-01-01\n",
      "DS     2013-01-01\n",
      "PSP    2015-01-01\n",
      "Name: year_of_release, dtype: datetime64[ns]\n",
      "Años que duró en el mercado:\n",
      " platform\n",
      "DS      28.019178\n",
      "GB      13.010959\n",
      "NES     11.008219\n",
      "PSP     11.008219\n",
      "PS2     11.008219\n",
      "DC      10.005479\n",
      "2600     9.008219\n",
      "SNES     9.005479\n",
      "PS       9.005479\n",
      "XB       8.005479\n",
      "GBA      7.005479\n",
      "N64      6.005479\n",
      "GC       6.002740\n",
      "SAT      5.002740\n",
      "GEN      4.002740\n",
      "NG       3.000000\n",
      "WS       2.002740\n",
      "3DO      1.000000\n",
      "SCD      1.000000\n",
      "PCFX     0.000000\n",
      "GG       0.000000\n",
      "TG16     0.000000\n",
      "Name: year_of_release, dtype: float64\n"
     ]
    }
   ],
   "source": [
    "# Encontrar el último año en el que cada plataforma tuvo ventas\n",
    "last_year_sales = games.groupby(\"platform\")[\"year_of_release\"].max()\n",
    "\n",
    "# Encontrar el año más reciente en el dataset\n",
    "max_year = games[\"year_of_release\"].max()\n",
    "\n",
    "# Identificar plataformas que ya no tienen ventas recientes\n",
    "old_platforms = last_year_sales[last_year_sales < max_year]\n",
    "print(\"El ultimo año que esta plataforma tuvo ventas:\\n\", old_platforms.sort_values())\n",
    "\n",
    "first_year_sales = games.groupby(\"platform\")[\"year_of_release\"].min()\n",
    "last_year_sales = games.groupby(\"platform\")[\"year_of_release\"].max()\n",
    "\n",
    "# Calcular la duración de vida de cada plataforma en el mercado\n",
    "platform_lifetime = last_year_sales - first_year_sales\n",
    "platform_lifetime_years = platform_lifetime.dt.days / 365\n",
    "filtered_lifetime = platform_lifetime_years.loc[old_platforms.index]\n",
    "\n",
    "print(\"Años que duró en el mercado:\\n\", filtered_lifetime.sort_values(ascending=False))\n"
   ]
  },
  {
   "cell_type": "markdown",
   "metadata": {},
   "source": [
    "Comentarios: Las top 5 plataformas que solian ser populares y ahora no tienen ventas son DS, GB, NES, PSP, PS2, CS. Estas duraron mas de 10 años en el mercado "
   ]
  },
  {
   "cell_type": "markdown",
   "metadata": {},
   "source": [
    "Instruccion: Determina para qué período debes tomar datos. Para hacerlo mira tus respuestas a las preguntas anteriores. Los datos deberían permitirte construir un modelo para 2017."
   ]
  },
  {
   "cell_type": "code",
   "execution_count": 17,
   "metadata": {},
   "outputs": [
    {
     "name": "stdout",
     "output_type": "stream",
     "text": [
      "                                                  name platform  \\\n",
      "0                                       Mario Kart Wii      Wii   \n",
      "1                                    Wii Sports Resort      Wii   \n",
      "2                            New Super Mario Bros. Wii      Wii   \n",
      "3                                   Kinect Adventures!     X360   \n",
      "4                                         Wii Fit Plus      Wii   \n",
      "...                                                ...      ...   \n",
      "8125                                  Aiyoku no Eustia      PSV   \n",
      "8126  SCORE International Baja 1000: The Official Game      PS2   \n",
      "8127                     Samurai Warriors: Sanada Maru      PS3   \n",
      "8128                           Haitaka no Psychedelica      PSV   \n",
      "8129                               Winning Post 8 2016      PSV   \n",
      "\n",
      "     year_of_release       genre  na_sales  eu_sales  jp_sales  other_sales  \\\n",
      "0         2008-01-01      Racing     15.68     12.76      3.79         3.29   \n",
      "1         2009-01-01      Sports     15.61     10.93      3.28         2.95   \n",
      "2         2009-01-01    Platform     14.44      6.94      4.70         2.24   \n",
      "3         2010-01-01        Misc     15.00      4.89      0.24         1.69   \n",
      "4         2009-01-01      Sports      9.01      8.49      2.53         1.77   \n",
      "...              ...         ...       ...       ...       ...          ...   \n",
      "8125      2014-01-01        Misc      0.00      0.00      0.01         0.00   \n",
      "8126      2008-01-01      Racing      0.00      0.00      0.00         0.00   \n",
      "8127      2016-01-01      Action      0.00      0.00      0.01         0.00   \n",
      "8128      2016-01-01   Adventure      0.00      0.00      0.01         0.00   \n",
      "8129      2016-01-01  Simulation      0.00      0.00      0.01         0.00   \n",
      "\n",
      "      critic_score  user_score rating  total_sales  \n",
      "0               82    8.300000      E        35.52  \n",
      "1               80    8.000000      E        32.77  \n",
      "2               87    8.400000      E        28.32  \n",
      "3               61    6.300000      E        21.82  \n",
      "4               80    7.400000      E        21.80  \n",
      "...            ...         ...    ...          ...  \n",
      "8125            66    6.819362    NaN         0.01  \n",
      "8126            67    7.036193    NaN         0.00  \n",
      "8127            66    7.054044    NaN         0.01  \n",
      "8128            65    7.133000    NaN         0.01  \n",
      "8129            68    7.134593    NaN         0.01  \n",
      "\n",
      "[8130 rows x 12 columns]\n"
     ]
    }
   ],
   "source": [
    "recent_years = games[games[\"year_of_release\"] > pd.Timestamp(\"2007-01-01\")].reset_index(drop=True)\n",
    "print(recent_years)"
   ]
  },
  {
   "cell_type": "markdown",
   "metadata": {},
   "source": [
    "Comentarios: Cree otro dataframe llamado recent_years en donde se muestran solamente los datos con 10 años de anterioridad (2007 a la actualidad). Estos datos son los que son considerados los mas relevantes para el analisis y prediccion para el 2017. "
   ]
  },
  {
   "cell_type": "markdown",
   "metadata": {},
   "source": [
    "Instrucciones: ¿Qué plataformas son líderes en ventas? ¿Cuáles crecen y cuáles se reducen? Elige varias plataformas potencialmente rentables."
   ]
  },
  {
   "cell_type": "code",
   "execution_count": 18,
   "metadata": {},
   "outputs": [
    {
     "name": "stdout",
     "output_type": "stream",
     "text": [
      "Ventas totales por plataforma apartir del 2007:\n",
      " platform\n",
      "PS3     837.19\n",
      "X360    805.96\n",
      "Wii     601.26\n",
      "DS      388.60\n",
      "PS4     314.14\n",
      "3DS     257.81\n",
      "XOne    159.32\n",
      "PC      151.29\n",
      "PSP     136.38\n",
      "PS2      86.39\n",
      "WiiU     82.19\n",
      "PSV      53.81\n",
      "XB        0.18\n",
      "DC        0.04\n",
      "Name: total_sales, dtype: float64\n"
     ]
    },
    {
     "data": {
      "image/png": "[encoded data removed]",
      "text/plain": [
       "<Figure size 1500x700 with 1 Axes>"
      ]
     },
     "metadata": {},
     "output_type": "display_data"
    }
   ],
   "source": [
    "top_10_platforms = recent_years.groupby(\"platform\")[\"total_sales\"].sum().sort_values(ascending=False)\n",
    "print(\"Ventas totales por plataforma apartir del 2007:\\n\", top_10_platforms)\n",
    "\n",
    "top_10_platforms_index = top_10_platforms.head(10).index\n",
    "top_10_platforms = recent_years[recent_years[\"platform\"].isin(top_10_platforms_index)]\n",
    "sales_by_year_platforms = top_10_platforms.groupby([\"platform\", \"year_of_release\"])[\"total_sales\"].sum().reset_index()\n",
    "\n",
    "plt.figure(figsize=(15,7))\n",
    "sns.lineplot(data=sales_by_year_platforms, x=\"year_of_release\", y=\"total_sales\", hue=\"platform\", marker=\"o\")\n",
    "plt.xlabel(\"Año de lanzamiento\")\n",
    "plt.ylabel(\"Ventas totales\")\n",
    "plt.title(\"Evolucion de las ventas por plataforma 2007 - 2016\")\n",
    "plt.show()"
   ]
  },
  {
   "cell_type": "markdown",
   "metadata": {},
   "source": [
    "Comentarios: La gráfica muestra la evolución de las plataformas a lo largo del tiempo, destacando la desaparición de algunas, como PS2 y DS, y la aparición de nuevas, como PS4, XOne y 3DS. Algunas plataformas, como PC, PS3, PSP (hasta 2015), Wii y X360, han mantenido una presencia estable durante nueve años. Este comportamiento puede atribuirse a la sucesión de modelos, donde el declive de una plataforma, como PS2, coincide con la llegada de su sucesora, PS3, y posteriormente PS4 en 2013, con expectativas de mayores ventas.\n",
    "\n",
    "Las cinco plataformas líderes en ventas entre 2007 y 2016 son PS3, X360, Wii, DS y PS4. Sin embargo, algunas han comenzado a declinar debido al lanzamiento de modelos más recientes. En contraste, PS4 y XOne muestran un crecimiento constante. Las plataformas más rentables son PS4, XOne, PS3 y PC. Aunque PS3 y X360 están en declive, su alto volumen de ventas sugiere que seguirán teniendo demanda, especialmente por su ventaja económica frente a las nuevas generaciones. Por otro lado, la PC, aunque no ha registrado picos de ventas, se ha mantenido estable a lo largo del periodo analizado y se espera que continúe con esta tendencia."
   ]
  },
  {
   "cell_type": "markdown",
   "metadata": {},
   "source": [
    "Instrucciones: Crea un diagrama de caja para las ventas globales de todos los juegos, desglosados por plataforma. ¿Son significativas las diferencias en las ventas? ¿Qué sucede con las ventas promedio en varias plataformas? Describe tus hallazgos."
   ]
  },
  {
   "cell_type": "code",
   "execution_count": 19,
   "metadata": {},
   "outputs": [
    {
     "data": {
      "image/png": "[encoded data removed]",
      "text/plain": [
       "<Figure size 640x480 with 1 Axes>"
      ]
     },
     "metadata": {},
     "output_type": "display_data"
    }
   ],
   "source": [
    "sns.boxplot(x=\"platform\", y=\"total_sales\", data=sales_by_year_platforms)\n",
    "\n",
    "plt.xlabel(\"Platform\")\n",
    "plt.ylabel(\"Total Sales\")\n",
    "plt.title(\"Distribution of Total Sales by Platform\")\n",
    "\n",
    "plt.show()"
   ]
  },
  {
   "cell_type": "markdown",
   "metadata": {},
   "source": [
    "Comentario: Aunque las plataformas tienen diferentes promedios de ventas, la mayoría de ellas (3DS, DS, PS3, PS4, Wii, X360 y XOne) tienen un rango de ventas que se solapa en su 50% central. Esto significa que, aunque sus valores promedio varíen, los datos de ventas más comunes (los que están dentro de la caja del boxplot, entre el 25% y el 75% de las ventas) están en rangos similares. Las ventas de estas plataformas no son exactamente iguales, pero los valores más frecuentes de ventas son parecidos."
   ]
  },
  {
   "cell_type": "markdown",
   "metadata": {},
   "source": [
    "Instrucciones: Mira cómo las reseñas de usuarios y profesionales afectan las ventas de una plataforma popular (tu elección). Crea un gráfico de dispersión y calcula la correlación entre las reseñas y las ventas. Saca conclusiones."
   ]
  },
  {
   "cell_type": "code",
   "execution_count": 20,
   "metadata": {},
   "outputs": [
    {
     "data": {
      "image/png": "[encoded data removed]",
      "text/plain": [
       "<Figure size 1000x500 with 1 Axes>"
      ]
     },
     "metadata": {},
     "output_type": "display_data"
    },
    {
     "data": {
      "image/png": "[encoded data removed]",
      "text/plain": [
       "<Figure size 1000x500 with 1 Axes>"
      ]
     },
     "metadata": {},
     "output_type": "display_data"
    },
    {
     "name": "stdout",
     "output_type": "stream",
     "text": [
      "Correlación User Scores y Ventas: -0.05087603661306389\n",
      "Correlación Critic Scores y Ventas 0.3578116726089931\n"
     ]
    }
   ],
   "source": [
    "data_ps4 = recent_years[recent_years[\"platform\"] == \"PS4\"]\n",
    "\n",
    "#User score y total sales\n",
    "plt.figure(figsize=(10, 5))\n",
    "sns.scatterplot(data=data_ps4, x=\"user_score\", y=\"total_sales\", label=\"User Scores\")\n",
    "plt.title(\"User Scores vs Total Sales\")\n",
    "plt.xlabel(\"User Scores\")\n",
    "plt.ylabel(\"Total Sales\")\n",
    "plt.legend()\n",
    "plt.show()\n",
    "\n",
    "#Crtitic score y total sales\n",
    "plt.figure(figsize=(10, 5))\n",
    "sns.scatterplot(data=data_ps4, x=\"critic_score\", y=\"total_sales\", label=\"Critic Scores\")\n",
    "plt.title(\"Critic Scores vs Total Sales\")\n",
    "plt.xlabel(\"Critic Scores\")\n",
    "plt.ylabel(\"Total Sales\")\n",
    "plt.legend()\n",
    "plt.show()\n",
    "\n",
    "# Correlación de critic_score/ user_score y total_sales\n",
    "user_correlation = data_ps4[\"user_score\"].corr(data_ps4[\"total_sales\"])\n",
    "critic_correlation = data_ps4[\"critic_score\"].corr(data_ps4[\"total_sales\"])\n",
    "\n",
    "print(\"Correlación User Scores y Ventas:\", user_correlation)\n",
    "print(\"Correlación Critic Scores y Ventas\", critic_correlation)"
   ]
  },
  {
   "cell_type": "markdown",
   "metadata": {},
   "source": [
    "Comentarios: El análisis de correlación revela que no existe una relación positiva significativa entre critic_score y user_score. La correlación entre user_score y total_sales es de -0.05, lo que indica que las puntuaciones de los usuarios no tienen un impacto relevante en las ventas. Por otro lado, la correlación entre critic_score y total_sales es de 0.36, lo que sugiere una relación positiva moderada. Si bien las calificaciones de los críticos parecen influir en las ventas, este efecto no es lo suficientemente fuerte como para considerarse el único factor determinante.\n"
   ]
  },
  {
   "cell_type": "markdown",
   "metadata": {},
   "source": [
    "Instrucciones: Echa un vistazo a la distribución general de los juegos por género. ¿Qué se puede decir de los géneros más rentables? ¿Puedes generalizar acerca de los géneros con ventas altas y bajas?"
   ]
  },
  {
   "cell_type": "code",
   "execution_count": 21,
   "metadata": {},
   "outputs": [
    {
     "name": "stdout",
     "output_type": "stream",
     "text": [
      "Total de juegos por genero:\n",
      " Action          1775\n",
      "Misc             948\n",
      "Sports           926\n",
      "Adventure        772\n",
      "Role-Playing     691\n",
      "Shooter          568\n",
      "Simulation       454\n",
      "Racing           389\n",
      "Fighting         287\n",
      "Strategy         274\n",
      "Puzzle           250\n",
      "Platform         218\n",
      "Name: genre, dtype: int64\n"
     ]
    },
    {
     "data": {
      "image/png": "[encoded data removed]",
      "text/plain": [
       "<Figure size 1000x500 with 1 Axes>"
      ]
     },
     "metadata": {},
     "output_type": "display_data"
    }
   ],
   "source": [
    "genre_counts = top_10_platforms[\"genre\"].value_counts()\n",
    "print(\"Total de juegos por genero:\\n\",genre_counts)\n",
    "\n",
    "plt.figure(figsize=(10, 5))\n",
    "sns.barplot(data=top_10_platforms, x=\"genre\", y=\"total_sales\")\n",
    "plt.xlabel(\"Genero\")\n",
    "plt.ylabel(\"Ventas Totales\")\n",
    "plt.title(\"Evolucion de las ventas por genero 2007 - 2016\")\n",
    "plt.xticks(rotation=45)\n",
    "plt.show()"
   ]
  },
  {
   "cell_type": "markdown",
   "metadata": {},
   "source": [
    "Comentarios: Se realizó un análisis de la cantidad de juegos por género y las ventas totales para identificar cuáles son los géneros más rentables. Sin embargo, quedó evidente que la cantidad de juegos no está directamente relacionada con la rentabilidad. Un género puede tener una alta cantidad de juegos, pero generar ventas bajas, mientras que otro con menos juegos puede destacar por sus ingresos elevados.\n",
    "\n",
    "De acuerdo con los resultados:\n",
    "\n",
    "Géneros con más juegos: Acción, Misc, y Sports.\n",
    "Géneros con mayores ventas totales: Shooter, Platform, y Sports.\n",
    "\n",
    "El único género que combina una alta cantidad de juegos y ventas significativas es Sports, lo que sugiere que logra atraer tanto a desarrolladores como a consumidores. Por otro lado, géneros como Shooter, aunque cuentan con menos juegos, generan mayores ingresos, posiblemente debido al éxito de franquicias de alto presupuesto.\n",
    "\n",
    "La comparación entre la cantidad de juegos y las ventas sugiere que la rentabilidad depende más de la calidad y el impacto del producto que de la cantidad de lanzamientos en un género determinado."
   ]
  },
  {
   "cell_type": "markdown",
   "metadata": {},
   "source": [
    "# 4.1 Crea un perfil de usuario para cada región"
   ]
  },
  {
   "cell_type": "markdown",
   "metadata": {},
   "source": [
    "Instrucciones: \n",
    "\n",
    "Para cada región (NA, UE, JP) determina:\n",
    "\n",
    "Las cinco plataformas principales.\n"
   ]
  },
  {
   "cell_type": "code",
   "execution_count": 22,
   "metadata": {},
   "outputs": [
    {
     "name": "stdout",
     "output_type": "stream",
     "text": [
      "Top 5 plataformas de NA:\n",
      " platform\n",
      "X360    490.69\n",
      "PS3     349.13\n",
      "Wii     332.87\n",
      "DS      198.73\n",
      "PS4     108.74\n",
      "Name: na_sales, dtype: float64\n",
      "\n",
      "Top 5 plataformas de EU:\n",
      " platform\n",
      "PS3     293.73\n",
      "X360    234.88\n",
      "Wii     170.74\n",
      "PS4     141.09\n",
      "PC       92.17\n",
      "Name: eu_sales, dtype: float64\n",
      "\n",
      "Top 5 plataformas de JP:\n",
      " platform\n",
      "3DS    100.62\n",
      "DS      76.12\n",
      "PS3     74.11\n",
      "PSP     60.46\n",
      "Wii     47.01\n",
      "Name: jp_sales, dtype: float64\n"
     ]
    }
   ],
   "source": [
    "na_top_5_platforms = recent_years.groupby(\"platform\")[\"na_sales\"].sum().nlargest(5)\n",
    "eu_top_5_platforms = recent_years.groupby(\"platform\")[\"eu_sales\"].sum().nlargest(5)\n",
    "jp_top_5_platforms = recent_years.groupby(\"platform\")[\"jp_sales\"].sum().nlargest(5)\n",
    "\n",
    "print(\"Top 5 plataformas de NA:\\n\",na_top_5_platforms)\n",
    "print()\n",
    "print(\"Top 5 plataformas de EU:\\n\",eu_top_5_platforms)\n",
    "print()\n",
    "print(\"Top 5 plataformas de JP:\\n\",jp_top_5_platforms)"
   ]
  },
  {
   "cell_type": "markdown",
   "metadata": {},
   "source": [
    "Describe las variaciones de sus cuotas en las 3 regiones:\n",
    "\n",
    "No todas las plataformas mantienen una popularidad uniforme en las tres regiones analizadas (América del Norte, Europa y Japón). Sin embargo, PlayStation 3 (PS3) y Wii son las únicas plataformas que aparecen en el top 5 de ventas en todas las regiones, lo que indica su impacto global en la industria de los videojuegos.\n",
    "\n",
    "Otras plataformas, como PC y Nintendo 3DS (3DS), presentan un éxito localizado en una sola región, mientras que algunas, como Xbox 360 y Nintendo DS (DS), logran una fuerte presencia en dos de las tres regiones.\n",
    "\n",
    "A continuación, se analiza el desempeño de PS3 y Wii, destacando sus variaciones en ventas por región:\n",
    "\n",
    "PS3:\n",
    "NA: 349.13\n",
    "EU: 293.73\n",
    "JP: 74.11\n",
    "\n",
    "Wii: \n",
    "NA: 332.87\n",
    "EU: 170.74\n",
    "JP: 47.01 \n",
    "\n",
    "Aunque PS3 y Wii lograron posicionarse en las tres regiones, sus ventas en Japón son significativamente menores en comparación con NA y EU. El mercado de NA muestra el mayor volumen de ventas en general, lo que resalta su papel como la región más lucrativa para la industria de los videojuegos.\n"
   ]
  },
  {
   "cell_type": "markdown",
   "metadata": {},
   "source": [
    "Los cinco géneros principales. Explica la diferencia."
   ]
  },
  {
   "cell_type": "code",
   "execution_count": 23,
   "metadata": {},
   "outputs": [
    {
     "name": "stdout",
     "output_type": "stream",
     "text": [
      "Top 5 genre in NA:\n",
      " genre\n",
      "Action          420.32\n",
      "Shooter         307.44\n",
      "Sports          273.49\n",
      "Misc            205.43\n",
      "Role-Playing    152.62\n",
      "Name: na_sales, dtype: float64\n",
      "\n",
      "Top 5 genre in EU:\n",
      " genre\n",
      "Action          299.49\n",
      "Shooter         205.11\n",
      "Sports          182.80\n",
      "Misc            102.34\n",
      "Role-Playing     92.41\n",
      "Name: eu_sales, dtype: float64\n",
      "\n",
      "Top 5 genre in JP:\n",
      " genre\n",
      "Role-Playing    129.45\n",
      "Action           82.23\n",
      "Misc             32.57\n",
      "Sports           29.12\n",
      "Fighting         21.37\n",
      "Name: jp_sales, dtype: float64\n"
     ]
    },
    {
     "data": {
      "image/png": "[encoded data removed]",
      "text/plain": [
       "<Figure size 1000x600 with 1 Axes>"
      ]
     },
     "metadata": {},
     "output_type": "display_data"
    }
   ],
   "source": [
    "top_na_genre = top_10_platforms.groupby(\"genre\")[\"na_sales\"].sum().nlargest(5)\n",
    "top_eu_genre = top_10_platforms.groupby(\"genre\")[\"eu_sales\"].sum().nlargest(5)\n",
    "top_jp_genre = top_10_platforms.groupby(\"genre\")[\"jp_sales\"].sum().nlargest(5)\n",
    "print(\"Top 5 genre in NA:\\n\",top_na_genre)\n",
    "print()\n",
    "print(\"Top 5 genre in EU:\\n\",top_eu_genre)\n",
    "print()\n",
    "print(\"Top 5 genre in JP:\\n\",top_jp_genre)\n",
    "\n",
    "genres = [\"Action\", \"Shooter\", \"Sports\", \"Misc\", \"Role-Playing\", \"Fighting\"]\n",
    "na_sales = [420.32, 307.44, 273.49, 205.43, 152.62, 0]\n",
    "eu_sales = [299.49, 205.11, 182.80, 102.34, 92.41, 0]\n",
    "jp_sales = [82.23, 0, 29.12, 32.57, 129.45, 21.37]\n",
    "\n",
    "x = np.arange(len(genres))\n",
    "width = 0.25\n",
    "\n",
    "fig, ax = plt.subplots(figsize=(10, 6))\n",
    "\n",
    "# Crear las barras para cada región\n",
    "ax.bar(x - width, na_sales, width, label=\"Norteamérica\", color=\"blue\")\n",
    "ax.bar(x, eu_sales, width, label=\"Europa\", color=\"green\")\n",
    "ax.bar(x + width, jp_sales, width, label=\"Japón\", color=\"red\")\n",
    "\n",
    "# Etiquetas y título\n",
    "ax.set_xlabel(\"Género de Videojuegos\")\n",
    "ax.set_ylabel(\"Ventas (millones de unidades)\")\n",
    "ax.set_title(\"Comparación de Ventas por Género y Región\")\n",
    "ax.set_xticks(x)\n",
    "ax.set_xticklabels(genres)\n",
    "ax.legend()\n",
    "\n",
    "# Mostrar el gráfico\n",
    "plt.xticks(rotation=45)  # Rotar etiquetas para mejor visibilidad\n",
    "plt.grid(axis=\"y\", linestyle=\"--\", alpha=0.7)  # Agregar líneas de referencia en Y\n",
    "plt.show()"
   ]
  },
  {
   "cell_type": "markdown",
   "metadata": {},
   "source": [
    "Comentarios:\n",
    "En contraste con el análisis de plataformas, varios géneros son populares en las tres regiones: Action, Sports, Role-Playing y Misc. Norteamérica y Europa presentan patrones de consumo similares, ya que su clasificación de géneros más vendidos es idéntica, aunque con diferencias en volumen de ventas. En cambio, Japón muestra una tendencia distinta, con Role-Playing como el género más vendido, mientras que en NA y EU ocupa la quinta posición. Además, Fighting es el quinto género más popular en Japón, a diferencia de NA y EU, donde Shooter ocupa ese lugar. Esto sugiere diferencias culturales y de preferencia en el consumo de videojuegos entre regiones."
   ]
  },
  {
   "cell_type": "markdown",
   "metadata": {},
   "source": [
    "Si las clasificaciones de ESRB afectan a las ventas en regiones individuales."
   ]
  },
  {
   "cell_type": "code",
   "execution_count": 24,
   "metadata": {},
   "outputs": [
    {
     "data": {
      "image/png": "[encoded data removed]",
      "text/plain": [
       "<Figure size 1000x600 with 1 Axes>"
      ]
     },
     "metadata": {},
     "output_type": "display_data"
    }
   ],
   "source": [
    "na_sales_by_rating = recent_years.groupby(\"rating\")[\"na_sales\"].sum()\n",
    "eu_sales_by_rating = recent_years.groupby(\"rating\")[\"eu_sales\"].sum()\n",
    "jp_sales_by_rating = recent_years.groupby(\"rating\")[\"jp_sales\"].sum()\n",
    "\n",
    "# Crear un DataFrame combinando los datos\n",
    "esrb_sales_df = pd.DataFrame({\n",
    "    \"NA Sales\": na_sales_by_rating,\n",
    "    \"EU Sales\": eu_sales_by_rating,\n",
    "    \"JP Sales\": jp_sales_by_rating\n",
    "})\n",
    "\n",
    "# Crear gráfico de barras para comparar ventas por clasificación ESRB\n",
    "esrb_sales_df.plot(kind=\"bar\", figsize=(10,6), colormap=\"viridis\")\n",
    "\n",
    "# Configurar etiquetas y título\n",
    "plt.title(\"Ventas de Videojuegos por Clasificación ESRB en Diferentes Regiones\")\n",
    "plt.xlabel(\"Clasificación ESRB\")\n",
    "plt.ylabel(\"Ventas Totales (millones)\")\n",
    "plt.xticks(rotation=45)\n",
    "plt.legend(title=\"Región\")\n",
    "\n",
    "# Mostrar gráfico\n",
    "plt.show()"
   ]
  },
  {
   "cell_type": "markdown",
   "metadata": {},
   "source": [
    "Comentarios: En términos generales, los videojuegos con mayor volumen de ventas pertenecen a las clasificaciones E (Everyone), M (Mature) y T (Teen). Se observa que en las regiones de Japón (JP) y Norteamérica (NA), los títulos con clasificación E registran las ventas más altas, mientras que en Europa (EU), los juegos con clasificación M lideran el mercado. Por otro lado, los títulos con clasificación EC (Early Childhood) presenta una presencia prácticamente nula en las ventas globales, (RP, tambien pero este representa rating pending por lo que no se considera influye en las ventas). "
   ]
  },
  {
   "cell_type": "markdown",
   "metadata": {},
   "source": [
    "# Prueba las hipótesis"
   ]
  },
  {
   "cell_type": "markdown",
   "metadata": {},
   "source": [
    "— Las calificaciones promedio de los usuarios para las plataformas Xbox One y PC son las mismas.\n",
    "\n",
    "— Las calificaciones promedio de los usuarios para los géneros de Acción y Deportes son diferentes.\n",
    "\n",
    "Establece tu mismo el valor de umbral alfa.\n",
    "\n",
    "Explica:\n",
    "\n",
    "— Cómo formulaste las hipótesis nula y alternativa.\n",
    "\n",
    "— Qué criterio utilizaste para probar las hipótesis y por qué."
   ]
  },
  {
   "cell_type": "code",
   "execution_count": 25,
   "metadata": {},
   "outputs": [
    {
     "name": "stdout",
     "output_type": "stream",
     "text": [
      "Valor P: 0.12668184482093872\n",
      "No hay suficiente evidencia para rechazar la hipótesis nula: Las calificaciones promedio son iguales.\n"
     ]
    }
   ],
   "source": [
    "from scipy import stats as st\n",
    "\n",
    "xbox_scores = top_10_platforms[top_10_platforms[\"platform\"] == \"XOne\"][\"user_score\"]\n",
    "pc_scores = top_10_platforms[top_10_platforms[\"platform\"] == \"PC\"][\"user_score\"]\n",
    "\n",
    "results = st.ttest_ind(xbox_scores, pc_scores, equal_var=False)\n",
    "\n",
    "print(\"Valor P:\", results.pvalue)\n",
    "\n",
    "alpha = 0.05\n",
    "if results.pvalue < alpha:\n",
    "    print(\"Rechazamos la hipótesis nula: Las calificaciones promedio son diferentes.\")\n",
    "else:\n",
    "    print(\"No hay suficiente evidencia para rechazar la hipótesis nula: Las calificaciones promedio son iguales.\")"
   ]
  },
  {
   "cell_type": "code",
   "execution_count": 26,
   "metadata": {},
   "outputs": [
    {
     "name": "stdout",
     "output_type": "stream",
     "text": [
      "Valor P: 2.5708457236078127e-13\n",
      "Rechazamos la hipótesis nula: Las calificaciones promedio son diferentes.\n"
     ]
    }
   ],
   "source": [
    "action_scores = top_10_platforms[top_10_platforms[\"genre\"] == \"Action\"][\"user_score\"]\n",
    "sports_scores = top_10_platforms[top_10_platforms[\"genre\"] == \"Sports\"][\"user_score\"]\n",
    "\n",
    "results = st.ttest_ind(action_scores, sports_scores, equal_var=False)\n",
    "print(\"Valor P:\", results.pvalue)\n",
    "\n",
    "alpha = 0.5\n",
    "\n",
    "if results.pvalue < alpha:\n",
    "    print(\"Rechazamos la hipótesis nula: Las calificaciones promedio son diferentes.\")\n",
    "else:\n",
    "    print(\"No hay suficiente evidencia para rechazar la hipótesis nula: Las calificaciones promedio son iguales.\")"
   ]
  },
  {
   "cell_type": "markdown",
   "metadata": {},
   "source": [
    "Comentarios: La hipótesis alternativa se formuló como la negación de la hipótesis nula, considerando cualquier diferencia significativa entre los dos grupos sin asumir cuál podría tener un promedio mayor. Además, se utilizó un nivel de significancia estándar de 0.05 para determinar si existía una diferencia estadísticamente significativa."
   ]
  },
  {
   "cell_type": "markdown",
   "metadata": {},
   "source": []
  },
  {
   "cell_type": "markdown",
   "metadata": {},
   "source": [
    "# Conclusión General"
   ]
  },
  {
   "cell_type": "markdown",
   "metadata": {},
   "source": [
    "Desde sus inicios en 1980, la industria de los videojuegos ha experimentado un crecimiento constante, alcanzando un pico de lanzamientos alrededor de 2008. Este auge puede atribuirse a los avances tecnológicos y al aumento de la popularidad de las consolas. Sin embargo, a partir de 2012, se observa un declive moderado, posiblemente impulsado por la transición hacia modelos digitales y juegos basados en suscripción en plataformas móviles y PC.\n",
    "\n",
    "El ciclo de vida de las consolas sigue un patrón predecible de crecimiento, auge y declive, lo que resalta la importancia de la renovación generacional. Un claro ejemplo de esta evolución es la sucesión de modelos de PlayStation, donde la PS2 fue reemplazada por la PS3 y, posteriormente, por la PS4, reflejando el continuo avance tecnológico en la industria. En contraste, la PC ha demostrado ser una plataforma estable, sin picos de ventas, pero con una presencia constante a lo largo del tiempo.\n",
    "\n",
    "En cuanto a los géneros de videojuegos, la cantidad de títulos no siempre se traduce en rentabilidad. El género Sports es el único que combina una alta frecuencia de lanzamientos con ventas significativas. Por otro lado, géneros como Shooter y Platform generan grandes ingresos con menos títulos, lo que sugiere que franquicias exitosas pueden sostener la rentabilidad de un género sin necesidad de una gran cantidad de lanzamientos.\n",
    "\n",
    "En términos de plataformas, PS3 y Wii destacan como las únicas con un éxito verdaderamente global. Sin embargo, su rendimiento en Japón es considerablemente menor en comparación con Norteamérica y Europa. De hecho, Norteamérica se posiciona como el mercado más lucrativo, registrando las mayores ventas en casi todas las plataformas."
   ]
  },
  {
   "cell_type": "code",
   "execution_count": null,
   "metadata": {},
   "outputs": [],
   "source": []
  }
 ],
 "metadata": {
  "ExecuteTimeLog": [
   {
    "duration": 8,
    "start_time": "2025-01-28T03:03:26.972Z"
   },
   {
    "duration": 375,
    "start_time": "2025-01-28T03:03:36.350Z"
   },
   {
    "duration": 26,
    "start_time": "2025-01-28T03:06:33.866Z"
   },
   {
    "duration": 3,
    "start_time": "2025-01-28T03:07:36.714Z"
   },
   {
    "duration": 25,
    "start_time": "2025-01-28T03:09:39.535Z"
   },
   {
    "duration": 6,
    "start_time": "2025-01-28T03:12:05.276Z"
   },
   {
    "duration": 5,
    "start_time": "2025-01-28T03:14:23.591Z"
   },
   {
    "duration": 24,
    "start_time": "2025-01-28T03:18:34.007Z"
   },
   {
    "duration": 32,
    "start_time": "2025-01-28T03:18:42.820Z"
   },
   {
    "duration": 26,
    "start_time": "2025-01-28T03:19:10.713Z"
   },
   {
    "duration": 696,
    "start_time": "2025-01-28T03:34:19.670Z"
   },
   {
    "duration": 83,
    "start_time": "2025-01-28T03:40:16.106Z"
   },
   {
    "duration": 27,
    "start_time": "2025-01-28T03:41:50.378Z"
   },
   {
    "duration": 33,
    "start_time": "2025-01-28T03:41:55.211Z"
   },
   {
    "duration": 224,
    "start_time": "2025-01-28T03:43:00.908Z"
   },
   {
    "duration": 97,
    "start_time": "2025-01-28T03:43:56.304Z"
   },
   {
    "duration": 34,
    "start_time": "2025-01-28T03:44:06.471Z"
   },
   {
    "duration": 31,
    "start_time": "2025-01-28T03:44:36.964Z"
   },
   {
    "duration": 36,
    "start_time": "2025-01-28T03:44:42.965Z"
   },
   {
    "duration": 282,
    "start_time": "2025-01-28T03:45:59.320Z"
   },
   {
    "duration": 23,
    "start_time": "2025-01-28T03:45:59.604Z"
   },
   {
    "duration": 3,
    "start_time": "2025-01-28T03:45:59.628Z"
   },
   {
    "duration": 11,
    "start_time": "2025-01-28T03:45:59.644Z"
   },
   {
    "duration": 5,
    "start_time": "2025-01-28T03:45:59.656Z"
   },
   {
    "duration": 6,
    "start_time": "2025-01-28T03:46:10.186Z"
   },
   {
    "duration": 5,
    "start_time": "2025-01-28T03:52:01.476Z"
   },
   {
    "duration": 5,
    "start_time": "2025-01-28T03:52:11.956Z"
   },
   {
    "duration": 10,
    "start_time": "2025-01-28T03:55:15.558Z"
   },
   {
    "duration": 26,
    "start_time": "2025-01-28T04:02:02.784Z"
   },
   {
    "duration": 324,
    "start_time": "2025-01-28T04:02:13.973Z"
   },
   {
    "duration": 25,
    "start_time": "2025-01-28T04:02:14.306Z"
   },
   {
    "duration": 4,
    "start_time": "2025-01-28T04:02:14.333Z"
   },
   {
    "duration": 33,
    "start_time": "2025-01-28T04:02:14.339Z"
   },
   {
    "duration": 10,
    "start_time": "2025-01-28T04:02:14.374Z"
   },
   {
    "duration": 5,
    "start_time": "2025-01-28T04:02:14.385Z"
   },
   {
    "duration": 12,
    "start_time": "2025-01-28T04:05:02.228Z"
   },
   {
    "duration": 276,
    "start_time": "2025-01-28T04:05:09.501Z"
   },
   {
    "duration": 24,
    "start_time": "2025-01-28T04:05:09.779Z"
   },
   {
    "duration": 3,
    "start_time": "2025-01-28T04:05:09.804Z"
   },
   {
    "duration": 11,
    "start_time": "2025-01-28T04:05:09.809Z"
   },
   {
    "duration": 24,
    "start_time": "2025-01-28T04:05:09.822Z"
   },
   {
    "duration": 4,
    "start_time": "2025-01-28T04:05:09.847Z"
   },
   {
    "duration": 333,
    "start_time": "2025-01-28T04:35:51.768Z"
   },
   {
    "duration": 23,
    "start_time": "2025-01-28T04:35:52.104Z"
   },
   {
    "duration": 32,
    "start_time": "2025-01-28T04:35:52.129Z"
   },
   {
    "duration": 9,
    "start_time": "2025-01-28T04:35:52.163Z"
   },
   {
    "duration": 9,
    "start_time": "2025-01-28T04:35:52.175Z"
   },
   {
    "duration": 5,
    "start_time": "2025-01-28T04:35:52.186Z"
   },
   {
    "duration": 303,
    "start_time": "2025-01-28T04:36:41.177Z"
   },
   {
    "duration": 24,
    "start_time": "2025-01-28T04:36:41.482Z"
   },
   {
    "duration": 37,
    "start_time": "2025-01-28T04:36:41.507Z"
   },
   {
    "duration": 10,
    "start_time": "2025-01-28T04:36:41.545Z"
   },
   {
    "duration": 9,
    "start_time": "2025-01-28T04:36:41.557Z"
   },
   {
    "duration": 4,
    "start_time": "2025-01-28T04:36:41.567Z"
   },
   {
    "duration": 3,
    "start_time": "2025-01-28T04:37:26.055Z"
   },
   {
    "duration": 295,
    "start_time": "2025-01-28T04:37:38.934Z"
   },
   {
    "duration": 37,
    "start_time": "2025-01-28T04:37:39.231Z"
   },
   {
    "duration": 4,
    "start_time": "2025-01-28T04:37:39.271Z"
   },
   {
    "duration": 12,
    "start_time": "2025-01-28T04:37:39.278Z"
   },
   {
    "duration": 11,
    "start_time": "2025-01-28T04:37:39.292Z"
   },
   {
    "duration": 7,
    "start_time": "2025-01-28T04:37:39.305Z"
   },
   {
    "duration": 304,
    "start_time": "2025-01-28T05:41:36.168Z"
   },
   {
    "duration": 34,
    "start_time": "2025-01-28T05:41:36.474Z"
   },
   {
    "duration": 4,
    "start_time": "2025-01-28T05:41:36.509Z"
   },
   {
    "duration": 11,
    "start_time": "2025-01-28T05:41:36.515Z"
   },
   {
    "duration": 10,
    "start_time": "2025-01-28T05:41:36.529Z"
   },
   {
    "duration": 5,
    "start_time": "2025-01-28T05:41:36.540Z"
   },
   {
    "duration": 12,
    "start_time": "2025-01-28T05:42:01.119Z"
   },
   {
    "duration": 12,
    "start_time": "2025-01-28T05:45:42.885Z"
   },
   {
    "duration": 307,
    "start_time": "2025-01-28T05:46:01.255Z"
   },
   {
    "duration": 23,
    "start_time": "2025-01-28T05:46:01.564Z"
   },
   {
    "duration": 3,
    "start_time": "2025-01-28T05:46:01.588Z"
   },
   {
    "duration": 11,
    "start_time": "2025-01-28T05:46:01.593Z"
   },
   {
    "duration": 22,
    "start_time": "2025-01-28T05:46:01.607Z"
   },
   {
    "duration": 11,
    "start_time": "2025-01-28T05:46:01.631Z"
   },
   {
    "duration": 305,
    "start_time": "2025-01-28T05:46:29.025Z"
   },
   {
    "duration": 24,
    "start_time": "2025-01-28T05:46:29.332Z"
   },
   {
    "duration": 4,
    "start_time": "2025-01-28T05:46:29.357Z"
   },
   {
    "duration": 12,
    "start_time": "2025-01-28T05:46:29.362Z"
   },
   {
    "duration": 10,
    "start_time": "2025-01-28T05:46:29.376Z"
   },
   {
    "duration": 4,
    "start_time": "2025-01-28T05:50:17.345Z"
   },
   {
    "duration": 271,
    "start_time": "2025-01-28T05:54:59.198Z"
   },
   {
    "duration": 24,
    "start_time": "2025-01-28T05:54:59.472Z"
   },
   {
    "duration": 3,
    "start_time": "2025-01-28T05:54:59.497Z"
   },
   {
    "duration": 43,
    "start_time": "2025-01-28T05:54:59.502Z"
   },
   {
    "duration": 683,
    "start_time": "2025-01-28T05:54:59.547Z"
   },
   {
    "duration": 60,
    "start_time": "2025-01-28T05:59:49.457Z"
   },
   {
    "duration": 324,
    "start_time": "2025-01-28T05:59:56.043Z"
   },
   {
    "duration": 24,
    "start_time": "2025-01-28T05:59:56.370Z"
   },
   {
    "duration": 3,
    "start_time": "2025-01-28T05:59:56.395Z"
   },
   {
    "duration": 49,
    "start_time": "2025-01-28T05:59:56.400Z"
   },
   {
    "duration": 5,
    "start_time": "2025-01-28T05:59:56.451Z"
   },
   {
    "duration": 332,
    "start_time": "2025-01-28T17:19:50.945Z"
   },
   {
    "duration": 41,
    "start_time": "2025-01-28T17:19:51.279Z"
   },
   {
    "duration": 3,
    "start_time": "2025-01-28T17:19:51.322Z"
   },
   {
    "duration": 33,
    "start_time": "2025-01-28T17:19:51.327Z"
   },
   {
    "duration": 5,
    "start_time": "2025-01-28T17:19:51.363Z"
   },
   {
    "duration": 50,
    "start_time": "2025-01-28T17:43:02.743Z"
   },
   {
    "duration": 273,
    "start_time": "2025-01-28T17:44:26.801Z"
   },
   {
    "duration": 24,
    "start_time": "2025-01-28T17:44:27.076Z"
   },
   {
    "duration": 4,
    "start_time": "2025-01-28T17:44:27.101Z"
   },
   {
    "duration": 59,
    "start_time": "2025-01-28T17:44:27.106Z"
   },
   {
    "duration": 4,
    "start_time": "2025-01-28T17:44:27.168Z"
   },
   {
    "duration": 312,
    "start_time": "2025-01-28T17:56:26.138Z"
   },
   {
    "duration": 25,
    "start_time": "2025-01-28T17:56:26.452Z"
   },
   {
    "duration": 55,
    "start_time": "2025-01-28T17:56:26.479Z"
   },
   {
    "duration": 8,
    "start_time": "2025-01-28T17:56:26.535Z"
   },
   {
    "duration": 3,
    "start_time": "2025-01-28T17:56:26.545Z"
   },
   {
    "duration": 5,
    "start_time": "2025-01-28T17:56:26.549Z"
   },
   {
    "duration": 2,
    "start_time": "2025-01-28T17:58:03.882Z"
   },
   {
    "duration": 290,
    "start_time": "2025-01-28T17:58:09.416Z"
   },
   {
    "duration": 27,
    "start_time": "2025-01-28T17:58:09.708Z"
   },
   {
    "duration": 48,
    "start_time": "2025-01-28T17:58:09.737Z"
   },
   {
    "duration": 8,
    "start_time": "2025-01-28T17:58:09.787Z"
   },
   {
    "duration": 3,
    "start_time": "2025-01-28T17:58:09.797Z"
   },
   {
    "duration": 4,
    "start_time": "2025-01-28T17:58:09.801Z"
   },
   {
    "duration": 26,
    "start_time": "2025-01-28T17:58:09.807Z"
   },
   {
    "duration": 281,
    "start_time": "2025-01-28T17:58:23.587Z"
   },
   {
    "duration": 22,
    "start_time": "2025-01-28T17:58:23.870Z"
   },
   {
    "duration": 57,
    "start_time": "2025-01-28T17:58:23.893Z"
   },
   {
    "duration": 7,
    "start_time": "2025-01-28T17:58:23.952Z"
   },
   {
    "duration": 4,
    "start_time": "2025-01-28T17:58:23.962Z"
   },
   {
    "duration": 6,
    "start_time": "2025-01-28T17:58:23.967Z"
   },
   {
    "duration": 263,
    "start_time": "2025-01-28T17:58:44.620Z"
   },
   {
    "duration": 22,
    "start_time": "2025-01-28T17:58:44.885Z"
   },
   {
    "duration": 57,
    "start_time": "2025-01-28T17:58:44.909Z"
   },
   {
    "duration": 8,
    "start_time": "2025-01-28T17:58:44.968Z"
   },
   {
    "duration": 4,
    "start_time": "2025-01-28T17:58:44.978Z"
   },
   {
    "duration": 5,
    "start_time": "2025-01-28T17:58:44.983Z"
   },
   {
    "duration": 286,
    "start_time": "2025-01-28T17:59:30.400Z"
   },
   {
    "duration": 23,
    "start_time": "2025-01-28T17:59:30.689Z"
   },
   {
    "duration": 52,
    "start_time": "2025-01-28T17:59:30.714Z"
   },
   {
    "duration": 7,
    "start_time": "2025-01-28T17:59:30.769Z"
   },
   {
    "duration": 4,
    "start_time": "2025-01-28T17:59:30.779Z"
   },
   {
    "duration": 5,
    "start_time": "2025-01-28T17:59:30.784Z"
   },
   {
    "duration": 12,
    "start_time": "2025-01-28T18:04:14.716Z"
   },
   {
    "duration": 93,
    "start_time": "2025-01-28T18:04:30.818Z"
   },
   {
    "duration": 8,
    "start_time": "2025-01-28T18:05:59.710Z"
   },
   {
    "duration": 7,
    "start_time": "2025-01-28T18:08:11.824Z"
   },
   {
    "duration": 12,
    "start_time": "2025-01-28T18:08:28.329Z"
   },
   {
    "duration": 11,
    "start_time": "2025-01-28T18:09:27.869Z"
   },
   {
    "duration": 15,
    "start_time": "2025-01-28T18:09:44.932Z"
   },
   {
    "duration": 15,
    "start_time": "2025-01-28T18:09:50.250Z"
   },
   {
    "duration": 283,
    "start_time": "2025-01-28T18:12:47.615Z"
   },
   {
    "duration": 25,
    "start_time": "2025-01-28T18:12:47.900Z"
   },
   {
    "duration": 54,
    "start_time": "2025-01-28T18:12:47.926Z"
   },
   {
    "duration": 10,
    "start_time": "2025-01-28T18:12:47.982Z"
   },
   {
    "duration": 4,
    "start_time": "2025-01-28T18:12:47.995Z"
   },
   {
    "duration": 220,
    "start_time": "2025-01-28T18:12:48.001Z"
   },
   {
    "duration": 328,
    "start_time": "2025-01-28T18:13:06.871Z"
   },
   {
    "duration": 25,
    "start_time": "2025-01-28T18:13:07.201Z"
   },
   {
    "duration": 49,
    "start_time": "2025-01-28T18:13:07.227Z"
   },
   {
    "duration": 7,
    "start_time": "2025-01-28T18:13:07.278Z"
   },
   {
    "duration": 3,
    "start_time": "2025-01-28T18:13:07.289Z"
   },
   {
    "duration": 41,
    "start_time": "2025-01-28T18:13:07.294Z"
   },
   {
    "duration": 321,
    "start_time": "2025-01-28T18:35:48.448Z"
   },
   {
    "duration": 25,
    "start_time": "2025-01-28T18:35:48.771Z"
   },
   {
    "duration": 55,
    "start_time": "2025-01-28T18:35:48.797Z"
   },
   {
    "duration": 8,
    "start_time": "2025-01-28T18:35:48.854Z"
   },
   {
    "duration": 3,
    "start_time": "2025-01-28T18:35:48.864Z"
   },
   {
    "duration": 9,
    "start_time": "2025-01-28T18:35:48.869Z"
   },
   {
    "duration": 312,
    "start_time": "2025-01-28T19:15:05.068Z"
   },
   {
    "duration": 23,
    "start_time": "2025-01-28T19:15:05.382Z"
   },
   {
    "duration": 57,
    "start_time": "2025-01-28T19:15:05.407Z"
   },
   {
    "duration": 8,
    "start_time": "2025-01-28T19:15:05.465Z"
   },
   {
    "duration": 4,
    "start_time": "2025-01-28T19:15:05.475Z"
   },
   {
    "duration": 11,
    "start_time": "2025-01-28T19:15:05.480Z"
   },
   {
    "duration": 8,
    "start_time": "2025-01-28T19:15:05.493Z"
   },
   {
    "duration": 4,
    "start_time": "2025-01-28T19:15:05.531Z"
   },
   {
    "duration": 4,
    "start_time": "2025-01-28T19:17:49.090Z"
   },
   {
    "duration": 640,
    "start_time": "2025-01-28T19:22:40.362Z"
   },
   {
    "duration": 54,
    "start_time": "2025-01-28T19:22:58.353Z"
   },
   {
    "duration": 9,
    "start_time": "2025-01-28T19:27:20.746Z"
   },
   {
    "duration": 18,
    "start_time": "2025-01-28T19:27:38.489Z"
   },
   {
    "duration": 59,
    "start_time": "2025-01-28T19:28:32.993Z"
   },
   {
    "duration": 9,
    "start_time": "2025-01-28T19:28:58.546Z"
   },
   {
    "duration": 14,
    "start_time": "2025-01-28T19:29:07.700Z"
   },
   {
    "duration": 14,
    "start_time": "2025-01-28T19:30:42.359Z"
   },
   {
    "duration": 3,
    "start_time": "2025-01-28T19:31:16.086Z"
   },
   {
    "duration": 6,
    "start_time": "2025-01-28T19:33:27.873Z"
   },
   {
    "duration": 328,
    "start_time": "2025-01-28T19:36:06.943Z"
   },
   {
    "duration": 23,
    "start_time": "2025-01-28T19:36:07.273Z"
   },
   {
    "duration": 55,
    "start_time": "2025-01-28T19:36:07.298Z"
   },
   {
    "duration": 7,
    "start_time": "2025-01-28T19:36:07.355Z"
   },
   {
    "duration": 5,
    "start_time": "2025-01-28T19:36:07.364Z"
   },
   {
    "duration": 10,
    "start_time": "2025-01-28T19:36:07.371Z"
   },
   {
    "duration": 7,
    "start_time": "2025-01-28T19:36:07.382Z"
   },
   {
    "duration": 5,
    "start_time": "2025-01-28T19:36:07.391Z"
   },
   {
    "duration": 37,
    "start_time": "2025-01-28T19:36:07.398Z"
   },
   {
    "duration": 87,
    "start_time": "2025-01-28T20:23:00.248Z"
   },
   {
    "duration": 5,
    "start_time": "2025-01-28T20:23:20.601Z"
   },
   {
    "duration": 6,
    "start_time": "2025-01-28T20:41:35.508Z"
   },
   {
    "duration": 6,
    "start_time": "2025-01-28T20:46:04.833Z"
   },
   {
    "duration": 271,
    "start_time": "2025-01-28T20:47:34.810Z"
   },
   {
    "duration": 24,
    "start_time": "2025-01-28T20:47:35.083Z"
   },
   {
    "duration": 70,
    "start_time": "2025-01-28T20:47:35.109Z"
   },
   {
    "duration": 8,
    "start_time": "2025-01-28T20:47:35.181Z"
   },
   {
    "duration": 5,
    "start_time": "2025-01-28T20:47:35.191Z"
   },
   {
    "duration": 10,
    "start_time": "2025-01-28T20:47:35.198Z"
   },
   {
    "duration": 25,
    "start_time": "2025-01-28T20:47:35.210Z"
   },
   {
    "duration": 4,
    "start_time": "2025-01-28T20:47:35.237Z"
   },
   {
    "duration": 9,
    "start_time": "2025-01-28T20:47:35.243Z"
   },
   {
    "duration": 7,
    "start_time": "2025-01-28T20:47:35.254Z"
   },
   {
    "duration": 11,
    "start_time": "2025-01-28T20:51:54.649Z"
   },
   {
    "duration": 5,
    "start_time": "2025-01-28T20:54:02.264Z"
   },
   {
    "duration": 9,
    "start_time": "2025-01-28T20:54:46.297Z"
   },
   {
    "duration": 15,
    "start_time": "2025-01-28T20:54:52.553Z"
   },
   {
    "duration": 5,
    "start_time": "2025-01-28T20:55:15.056Z"
   },
   {
    "duration": 298,
    "start_time": "2025-01-28T20:55:24.578Z"
   },
   {
    "duration": 25,
    "start_time": "2025-01-28T20:55:24.878Z"
   },
   {
    "duration": 56,
    "start_time": "2025-01-28T20:55:24.905Z"
   },
   {
    "duration": 8,
    "start_time": "2025-01-28T20:55:24.963Z"
   },
   {
    "duration": 4,
    "start_time": "2025-01-28T20:55:24.974Z"
   },
   {
    "duration": 10,
    "start_time": "2025-01-28T20:55:24.980Z"
   },
   {
    "duration": 8,
    "start_time": "2025-01-28T20:55:24.991Z"
   },
   {
    "duration": 5,
    "start_time": "2025-01-28T20:55:25.032Z"
   },
   {
    "duration": 10,
    "start_time": "2025-01-28T20:55:25.040Z"
   },
   {
    "duration": 8,
    "start_time": "2025-01-28T20:55:25.051Z"
   },
   {
    "duration": 6,
    "start_time": "2025-01-28T20:55:25.060Z"
   },
   {
    "duration": 5,
    "start_time": "2025-01-28T20:55:25.067Z"
   },
   {
    "duration": 4,
    "start_time": "2025-01-28T21:12:22.470Z"
   },
   {
    "duration": 7,
    "start_time": "2025-01-28T21:12:36.208Z"
   },
   {
    "duration": 190,
    "start_time": "2025-01-28T22:40:32.536Z"
   },
   {
    "duration": 324,
    "start_time": "2025-01-28T22:40:42.648Z"
   },
   {
    "duration": 36,
    "start_time": "2025-01-28T22:40:42.975Z"
   },
   {
    "duration": 47,
    "start_time": "2025-01-28T22:40:43.013Z"
   },
   {
    "duration": 7,
    "start_time": "2025-01-28T22:40:43.061Z"
   },
   {
    "duration": 3,
    "start_time": "2025-01-28T22:40:43.072Z"
   },
   {
    "duration": 8,
    "start_time": "2025-01-28T22:40:43.077Z"
   },
   {
    "duration": 7,
    "start_time": "2025-01-28T22:40:43.087Z"
   },
   {
    "duration": 4,
    "start_time": "2025-01-28T22:40:43.096Z"
   },
   {
    "duration": 46,
    "start_time": "2025-01-28T22:40:43.102Z"
   },
   {
    "duration": 7,
    "start_time": "2025-01-28T22:40:43.150Z"
   },
   {
    "duration": 5,
    "start_time": "2025-01-28T22:40:43.158Z"
   },
   {
    "duration": 5,
    "start_time": "2025-01-28T22:40:43.164Z"
   },
   {
    "duration": 4,
    "start_time": "2025-01-28T22:40:43.170Z"
   },
   {
    "duration": 7,
    "start_time": "2025-01-28T22:40:43.177Z"
   },
   {
    "duration": 207,
    "start_time": "2025-01-28T22:40:43.186Z"
   },
   {
    "duration": 8,
    "start_time": "2025-01-28T22:41:10.331Z"
   },
   {
    "duration": 10,
    "start_time": "2025-01-28T22:41:30.586Z"
   },
   {
    "duration": 6,
    "start_time": "2025-01-28T22:42:19.148Z"
   },
   {
    "duration": 6,
    "start_time": "2025-01-28T22:42:25.490Z"
   },
   {
    "duration": 6,
    "start_time": "2025-01-28T22:43:33.801Z"
   },
   {
    "duration": 285,
    "start_time": "2025-01-28T22:44:11.306Z"
   },
   {
    "duration": 6,
    "start_time": "2025-01-28T22:44:22.600Z"
   },
   {
    "duration": 16,
    "start_time": "2025-01-28T22:44:58.212Z"
   },
   {
    "duration": 17,
    "start_time": "2025-01-28T22:54:51.844Z"
   },
   {
    "duration": 61,
    "start_time": "2025-01-28T22:55:15.728Z"
   },
   {
    "duration": 6,
    "start_time": "2025-01-28T22:55:27.493Z"
   },
   {
    "duration": 4,
    "start_time": "2025-01-28T23:22:11.703Z"
   },
   {
    "duration": 8,
    "start_time": "2025-01-28T23:22:36.315Z"
   },
   {
    "duration": 8,
    "start_time": "2025-01-28T23:30:29.329Z"
   },
   {
    "duration": 5,
    "start_time": "2025-01-28T23:31:00.271Z"
   },
   {
    "duration": 2335,
    "start_time": "2025-01-28T23:33:50.983Z"
   },
   {
    "duration": 436,
    "start_time": "2025-01-28T23:37:28.663Z"
   },
   {
    "duration": 82,
    "start_time": "2025-01-28T23:37:29.101Z"
   },
   {
    "duration": 44,
    "start_time": "2025-01-28T23:37:29.185Z"
   },
   {
    "duration": 8,
    "start_time": "2025-01-28T23:37:29.231Z"
   },
   {
    "duration": 23,
    "start_time": "2025-01-28T23:37:29.247Z"
   },
   {
    "duration": 10,
    "start_time": "2025-01-28T23:37:29.274Z"
   },
   {
    "duration": 7,
    "start_time": "2025-01-28T23:37:29.286Z"
   },
   {
    "duration": 6,
    "start_time": "2025-01-28T23:37:29.295Z"
   },
   {
    "duration": 10,
    "start_time": "2025-01-28T23:37:29.303Z"
   },
   {
    "duration": 7,
    "start_time": "2025-01-28T23:37:29.315Z"
   },
   {
    "duration": 20,
    "start_time": "2025-01-28T23:37:29.323Z"
   },
   {
    "duration": 7,
    "start_time": "2025-01-28T23:37:29.345Z"
   },
   {
    "duration": 8,
    "start_time": "2025-01-28T23:37:29.354Z"
   },
   {
    "duration": 10,
    "start_time": "2025-01-28T23:37:29.366Z"
   },
   {
    "duration": 8,
    "start_time": "2025-01-28T23:37:29.378Z"
   },
   {
    "duration": 6,
    "start_time": "2025-01-28T23:37:29.388Z"
   },
   {
    "duration": 379,
    "start_time": "2025-01-28T23:37:29.396Z"
   },
   {
    "duration": 396,
    "start_time": "2025-01-28T23:40:54.718Z"
   },
   {
    "duration": 55,
    "start_time": "2025-01-28T23:40:55.116Z"
   },
   {
    "duration": 52,
    "start_time": "2025-01-28T23:40:55.173Z"
   },
   {
    "duration": 17,
    "start_time": "2025-01-28T23:40:55.227Z"
   },
   {
    "duration": 3,
    "start_time": "2025-01-28T23:40:55.248Z"
   },
   {
    "duration": 12,
    "start_time": "2025-01-28T23:40:55.253Z"
   },
   {
    "duration": 7,
    "start_time": "2025-01-28T23:40:55.267Z"
   },
   {
    "duration": 6,
    "start_time": "2025-01-28T23:40:55.275Z"
   },
   {
    "duration": 10,
    "start_time": "2025-01-28T23:40:55.283Z"
   },
   {
    "duration": 6,
    "start_time": "2025-01-28T23:40:55.295Z"
   },
   {
    "duration": 5,
    "start_time": "2025-01-28T23:40:55.343Z"
   },
   {
    "duration": 5,
    "start_time": "2025-01-28T23:40:55.350Z"
   },
   {
    "duration": 4,
    "start_time": "2025-01-28T23:40:55.356Z"
   },
   {
    "duration": 9,
    "start_time": "2025-01-28T23:40:55.362Z"
   },
   {
    "duration": 6,
    "start_time": "2025-01-28T23:40:55.372Z"
   },
   {
    "duration": 6,
    "start_time": "2025-01-28T23:40:55.380Z"
   },
   {
    "duration": 5,
    "start_time": "2025-01-28T23:42:43.683Z"
   },
   {
    "duration": 410,
    "start_time": "2025-01-28T23:44:08.634Z"
   },
   {
    "duration": 55,
    "start_time": "2025-01-28T23:44:09.047Z"
   },
   {
    "duration": 59,
    "start_time": "2025-01-28T23:44:09.104Z"
   },
   {
    "duration": 7,
    "start_time": "2025-01-28T23:44:09.165Z"
   },
   {
    "duration": 4,
    "start_time": "2025-01-28T23:44:09.175Z"
   },
   {
    "duration": 10,
    "start_time": "2025-01-28T23:44:09.180Z"
   },
   {
    "duration": 7,
    "start_time": "2025-01-28T23:44:09.191Z"
   },
   {
    "duration": 5,
    "start_time": "2025-01-28T23:44:09.199Z"
   },
   {
    "duration": 43,
    "start_time": "2025-01-28T23:44:09.206Z"
   },
   {
    "duration": 6,
    "start_time": "2025-01-28T23:44:09.251Z"
   },
   {
    "duration": 7,
    "start_time": "2025-01-28T23:44:09.259Z"
   },
   {
    "duration": 5,
    "start_time": "2025-01-28T23:44:09.267Z"
   },
   {
    "duration": 4,
    "start_time": "2025-01-28T23:44:09.273Z"
   },
   {
    "duration": 7,
    "start_time": "2025-01-28T23:44:09.279Z"
   },
   {
    "duration": 6,
    "start_time": "2025-01-28T23:44:09.287Z"
   },
   {
    "duration": 50,
    "start_time": "2025-01-28T23:44:09.295Z"
   },
   {
    "duration": 5,
    "start_time": "2025-01-28T23:44:09.346Z"
   },
   {
    "duration": 7,
    "start_time": "2025-01-28T23:45:09.972Z"
   },
   {
    "duration": 5,
    "start_time": "2025-01-28T23:45:12.801Z"
   },
   {
    "duration": 506,
    "start_time": "2025-01-28T23:45:32.221Z"
   },
   {
    "duration": 85,
    "start_time": "2025-01-28T23:45:32.730Z"
   },
   {
    "duration": 65,
    "start_time": "2025-01-28T23:45:32.817Z"
   },
   {
    "duration": 10,
    "start_time": "2025-01-28T23:45:32.884Z"
   },
   {
    "duration": 3,
    "start_time": "2025-01-28T23:45:32.898Z"
   },
   {
    "duration": 40,
    "start_time": "2025-01-28T23:45:32.903Z"
   },
   {
    "duration": 11,
    "start_time": "2025-01-28T23:45:32.945Z"
   },
   {
    "duration": 6,
    "start_time": "2025-01-28T23:45:32.958Z"
   },
   {
    "duration": 16,
    "start_time": "2025-01-28T23:45:32.966Z"
   },
   {
    "duration": 7,
    "start_time": "2025-01-28T23:45:32.984Z"
   },
   {
    "duration": 6,
    "start_time": "2025-01-28T23:45:32.993Z"
   },
   {
    "duration": 4,
    "start_time": "2025-01-28T23:45:33.001Z"
   },
   {
    "duration": 39,
    "start_time": "2025-01-28T23:45:33.007Z"
   },
   {
    "duration": 7,
    "start_time": "2025-01-28T23:45:33.049Z"
   },
   {
    "duration": 7,
    "start_time": "2025-01-28T23:45:33.058Z"
   },
   {
    "duration": 7,
    "start_time": "2025-01-28T23:45:33.067Z"
   },
   {
    "duration": 4,
    "start_time": "2025-01-28T23:45:33.076Z"
   },
   {
    "duration": 12,
    "start_time": "2025-01-28T23:46:17.729Z"
   },
   {
    "duration": 529,
    "start_time": "2025-01-28T23:47:42.661Z"
   },
   {
    "duration": 80,
    "start_time": "2025-01-28T23:47:43.192Z"
   },
   {
    "duration": 48,
    "start_time": "2025-01-28T23:47:43.274Z"
   },
   {
    "duration": 20,
    "start_time": "2025-01-28T23:47:43.324Z"
   },
   {
    "duration": 4,
    "start_time": "2025-01-28T23:47:43.348Z"
   },
   {
    "duration": 11,
    "start_time": "2025-01-28T23:47:43.354Z"
   },
   {
    "duration": 8,
    "start_time": "2025-01-28T23:47:43.368Z"
   },
   {
    "duration": 6,
    "start_time": "2025-01-28T23:47:43.378Z"
   },
   {
    "duration": 13,
    "start_time": "2025-01-28T23:47:43.386Z"
   },
   {
    "duration": 44,
    "start_time": "2025-01-28T23:47:43.400Z"
   },
   {
    "duration": 7,
    "start_time": "2025-01-28T23:47:43.446Z"
   },
   {
    "duration": 8,
    "start_time": "2025-01-28T23:47:43.455Z"
   },
   {
    "duration": 15,
    "start_time": "2025-01-28T23:47:43.465Z"
   },
   {
    "duration": 4,
    "start_time": "2025-01-28T23:47:43.484Z"
   },
   {
    "duration": 9,
    "start_time": "2025-01-28T23:47:43.490Z"
   },
   {
    "duration": 7,
    "start_time": "2025-01-28T23:47:43.501Z"
   },
   {
    "duration": 38,
    "start_time": "2025-01-28T23:47:43.510Z"
   },
   {
    "duration": 4,
    "start_time": "2025-01-28T23:47:43.550Z"
   },
   {
    "duration": 5,
    "start_time": "2025-01-28T23:48:09.149Z"
   },
   {
    "duration": 6,
    "start_time": "2025-01-28T23:48:10.318Z"
   },
   {
    "duration": 542,
    "start_time": "2025-01-28T23:48:23.463Z"
   },
   {
    "duration": 146,
    "start_time": "2025-01-28T23:48:24.007Z"
   },
   {
    "duration": 54,
    "start_time": "2025-01-28T23:48:24.156Z"
   },
   {
    "duration": 8,
    "start_time": "2025-01-28T23:48:24.212Z"
   },
   {
    "duration": 23,
    "start_time": "2025-01-28T23:48:24.223Z"
   },
   {
    "duration": 21,
    "start_time": "2025-01-28T23:48:24.249Z"
   },
   {
    "duration": 12,
    "start_time": "2025-01-28T23:48:24.273Z"
   },
   {
    "duration": 7,
    "start_time": "2025-01-28T23:48:24.288Z"
   },
   {
    "duration": 50,
    "start_time": "2025-01-28T23:48:24.297Z"
   },
   {
    "duration": 13,
    "start_time": "2025-01-28T23:48:24.350Z"
   },
   {
    "duration": 12,
    "start_time": "2025-01-28T23:48:24.366Z"
   },
   {
    "duration": 8,
    "start_time": "2025-01-28T23:48:24.380Z"
   },
   {
    "duration": 7,
    "start_time": "2025-01-28T23:48:24.390Z"
   },
   {
    "duration": 47,
    "start_time": "2025-01-28T23:48:24.401Z"
   },
   {
    "duration": 7,
    "start_time": "2025-01-28T23:48:24.451Z"
   },
   {
    "duration": 8,
    "start_time": "2025-01-28T23:48:24.460Z"
   },
   {
    "duration": 5,
    "start_time": "2025-01-28T23:48:24.470Z"
   },
   {
    "duration": 842,
    "start_time": "2025-01-28T23:52:23.471Z"
   },
   {
    "duration": 23,
    "start_time": "2025-01-28T23:52:24.316Z"
   },
   {
    "duration": 67,
    "start_time": "2025-01-28T23:52:24.340Z"
   },
   {
    "duration": 7,
    "start_time": "2025-01-28T23:52:24.409Z"
   },
   {
    "duration": 4,
    "start_time": "2025-01-28T23:52:24.419Z"
   },
   {
    "duration": 34,
    "start_time": "2025-01-28T23:52:24.424Z"
   },
   {
    "duration": 9,
    "start_time": "2025-01-28T23:52:24.468Z"
   },
   {
    "duration": 5,
    "start_time": "2025-01-28T23:52:24.479Z"
   },
   {
    "duration": 9,
    "start_time": "2025-01-28T23:52:24.486Z"
   },
   {
    "duration": 6,
    "start_time": "2025-01-28T23:52:24.497Z"
   },
   {
    "duration": 6,
    "start_time": "2025-01-28T23:52:24.505Z"
   },
   {
    "duration": 4,
    "start_time": "2025-01-28T23:52:24.513Z"
   },
   {
    "duration": 4,
    "start_time": "2025-01-28T23:52:24.518Z"
   },
   {
    "duration": 16,
    "start_time": "2025-01-28T23:52:24.546Z"
   },
   {
    "duration": 9,
    "start_time": "2025-01-28T23:52:24.563Z"
   },
   {
    "duration": 6,
    "start_time": "2025-01-28T23:52:24.575Z"
   },
   {
    "duration": 160,
    "start_time": "2025-01-29T19:28:40.769Z"
   },
   {
    "duration": 2924,
    "start_time": "2025-01-29T19:28:47.812Z"
   },
   {
    "duration": 36,
    "start_time": "2025-01-29T19:28:50.738Z"
   },
   {
    "duration": 57,
    "start_time": "2025-01-29T19:28:50.776Z"
   },
   {
    "duration": 10,
    "start_time": "2025-01-29T19:28:50.835Z"
   },
   {
    "duration": 4,
    "start_time": "2025-01-29T19:28:50.848Z"
   },
   {
    "duration": 10,
    "start_time": "2025-01-29T19:28:50.854Z"
   },
   {
    "duration": 7,
    "start_time": "2025-01-29T19:28:50.867Z"
   },
   {
    "duration": 5,
    "start_time": "2025-01-29T19:28:50.876Z"
   },
   {
    "duration": 10,
    "start_time": "2025-01-29T19:28:50.882Z"
   },
   {
    "duration": 7,
    "start_time": "2025-01-29T19:28:50.931Z"
   },
   {
    "duration": 6,
    "start_time": "2025-01-29T19:28:50.940Z"
   },
   {
    "duration": 4,
    "start_time": "2025-01-29T19:28:50.947Z"
   },
   {
    "duration": 3,
    "start_time": "2025-01-29T19:28:50.953Z"
   },
   {
    "duration": 8,
    "start_time": "2025-01-29T19:28:50.958Z"
   },
   {
    "duration": 6,
    "start_time": "2025-01-29T19:28:50.967Z"
   },
   {
    "duration": 325,
    "start_time": "2025-01-29T19:28:50.975Z"
   },
   {
    "duration": 23,
    "start_time": "2025-01-29T19:29:10.222Z"
   },
   {
    "duration": 6,
    "start_time": "2025-01-29T19:29:16.750Z"
   },
   {
    "duration": 7,
    "start_time": "2025-01-29T19:30:08.450Z"
   },
   {
    "duration": 27,
    "start_time": "2025-01-29T19:30:28.534Z"
   },
   {
    "duration": 19,
    "start_time": "2025-01-29T19:31:16.519Z"
   },
   {
    "duration": 22,
    "start_time": "2025-01-29T19:31:32.601Z"
   },
   {
    "duration": 6,
    "start_time": "2025-01-29T19:33:17.886Z"
   },
   {
    "duration": 6,
    "start_time": "2025-01-29T19:33:45.017Z"
   },
   {
    "duration": 7,
    "start_time": "2025-01-29T19:34:00.347Z"
   },
   {
    "duration": 8,
    "start_time": "2025-01-29T19:34:15.347Z"
   },
   {
    "duration": 167,
    "start_time": "2025-01-29T20:08:40.200Z"
   },
   {
    "duration": 10,
    "start_time": "2025-01-29T20:27:35.694Z"
   },
   {
    "duration": 11,
    "start_time": "2025-01-29T20:27:53.789Z"
   },
   {
    "duration": 4,
    "start_time": "2025-01-29T20:28:24.441Z"
   },
   {
    "duration": 13,
    "start_time": "2025-01-29T20:28:31.102Z"
   },
   {
    "duration": 12,
    "start_time": "2025-01-29T20:28:54.276Z"
   },
   {
    "duration": 306,
    "start_time": "2025-01-29T20:29:25.242Z"
   },
   {
    "duration": 13,
    "start_time": "2025-01-29T20:29:44.143Z"
   },
   {
    "duration": 14,
    "start_time": "2025-01-29T20:30:04.651Z"
   },
   {
    "duration": 11,
    "start_time": "2025-01-29T20:30:47.124Z"
   },
   {
    "duration": 12,
    "start_time": "2025-01-29T20:31:04.929Z"
   },
   {
    "duration": 784,
    "start_time": "2025-01-29T20:31:23.079Z"
   },
   {
    "duration": 25,
    "start_time": "2025-01-29T20:31:23.865Z"
   },
   {
    "duration": 55,
    "start_time": "2025-01-29T20:31:23.893Z"
   },
   {
    "duration": 8,
    "start_time": "2025-01-29T20:31:23.950Z"
   },
   {
    "duration": 4,
    "start_time": "2025-01-29T20:31:23.959Z"
   },
   {
    "duration": 9,
    "start_time": "2025-01-29T20:31:23.965Z"
   },
   {
    "duration": 9,
    "start_time": "2025-01-29T20:31:23.977Z"
   },
   {
    "duration": 5,
    "start_time": "2025-01-29T20:31:23.988Z"
   },
   {
    "duration": 39,
    "start_time": "2025-01-29T20:31:23.995Z"
   },
   {
    "duration": 7,
    "start_time": "2025-01-29T20:31:24.037Z"
   },
   {
    "duration": 5,
    "start_time": "2025-01-29T20:31:24.045Z"
   },
   {
    "duration": 4,
    "start_time": "2025-01-29T20:31:24.052Z"
   },
   {
    "duration": 4,
    "start_time": "2025-01-29T20:31:24.058Z"
   },
   {
    "duration": 7,
    "start_time": "2025-01-29T20:31:24.063Z"
   },
   {
    "duration": 5,
    "start_time": "2025-01-29T20:31:24.071Z"
   },
   {
    "duration": 12,
    "start_time": "2025-01-29T20:31:24.078Z"
   },
   {
    "duration": 11,
    "start_time": "2025-01-29T20:34:34.942Z"
   },
   {
    "duration": 11,
    "start_time": "2025-01-29T20:35:36.146Z"
   },
   {
    "duration": 1064,
    "start_time": "2025-01-29T20:39:15.230Z"
   },
   {
    "duration": 213,
    "start_time": "2025-01-29T20:40:47.655Z"
   },
   {
    "duration": 818,
    "start_time": "2025-01-29T20:41:07.499Z"
   },
   {
    "duration": 36,
    "start_time": "2025-01-29T20:41:08.319Z"
   },
   {
    "duration": 47,
    "start_time": "2025-01-29T20:41:08.357Z"
   },
   {
    "duration": 7,
    "start_time": "2025-01-29T20:41:08.405Z"
   },
   {
    "duration": 17,
    "start_time": "2025-01-29T20:41:08.415Z"
   },
   {
    "duration": 11,
    "start_time": "2025-01-29T20:41:08.434Z"
   },
   {
    "duration": 7,
    "start_time": "2025-01-29T20:41:08.447Z"
   },
   {
    "duration": 6,
    "start_time": "2025-01-29T20:41:08.455Z"
   },
   {
    "duration": 10,
    "start_time": "2025-01-29T20:41:08.462Z"
   },
   {
    "duration": 6,
    "start_time": "2025-01-29T20:41:08.474Z"
   },
   {
    "duration": 4,
    "start_time": "2025-01-29T20:41:08.482Z"
   },
   {
    "duration": 4,
    "start_time": "2025-01-29T20:41:08.488Z"
   },
   {
    "duration": 41,
    "start_time": "2025-01-29T20:41:08.493Z"
   },
   {
    "duration": 7,
    "start_time": "2025-01-29T20:41:08.537Z"
   },
   {
    "duration": 5,
    "start_time": "2025-01-29T20:41:08.545Z"
   },
   {
    "duration": 1115,
    "start_time": "2025-01-29T20:41:08.552Z"
   },
   {
    "duration": 654,
    "start_time": "2025-01-29T20:47:13.534Z"
   },
   {
    "duration": 18,
    "start_time": "2025-01-29T21:40:10.983Z"
   },
   {
    "duration": 662,
    "start_time": "2025-01-29T21:40:19.935Z"
   },
   {
    "duration": 649,
    "start_time": "2025-01-29T21:41:14.085Z"
   },
   {
    "duration": 6,
    "start_time": "2025-01-29T21:41:29.410Z"
   },
   {
    "duration": 5,
    "start_time": "2025-01-29T21:41:46.594Z"
   },
   {
    "duration": 6,
    "start_time": "2025-01-29T21:42:04.246Z"
   },
   {
    "duration": 3,
    "start_time": "2025-01-29T21:42:22.381Z"
   },
   {
    "duration": 9,
    "start_time": "2025-01-29T21:42:28.820Z"
   },
   {
    "duration": 8,
    "start_time": "2025-01-29T21:42:47.705Z"
   },
   {
    "duration": 189,
    "start_time": "2025-01-29T21:45:32.324Z"
   },
   {
    "duration": 9,
    "start_time": "2025-01-29T21:46:23.206Z"
   },
   {
    "duration": 20,
    "start_time": "2025-01-29T21:46:37.727Z"
   },
   {
    "duration": 17,
    "start_time": "2025-01-29T21:47:43.246Z"
   },
   {
    "duration": 7,
    "start_time": "2025-01-29T21:47:49.636Z"
   },
   {
    "duration": 8,
    "start_time": "2025-01-29T21:48:05.494Z"
   },
   {
    "duration": 9,
    "start_time": "2025-01-29T21:48:40.395Z"
   },
   {
    "duration": 8,
    "start_time": "2025-01-29T21:48:57.805Z"
   },
   {
    "duration": 4,
    "start_time": "2025-01-29T21:49:33.171Z"
   },
   {
    "duration": 7,
    "start_time": "2025-01-29T21:49:38.867Z"
   },
   {
    "duration": 7,
    "start_time": "2025-01-29T21:49:48.533Z"
   },
   {
    "duration": 3,
    "start_time": "2025-01-29T21:51:41.555Z"
   },
   {
    "duration": 8,
    "start_time": "2025-01-29T21:51:48.956Z"
   },
   {
    "duration": 255,
    "start_time": "2025-01-29T21:52:49.778Z"
   },
   {
    "duration": 2572,
    "start_time": "2025-01-29T23:15:03.845Z"
   },
   {
    "duration": 36,
    "start_time": "2025-01-29T23:15:06.421Z"
   },
   {
    "duration": 48,
    "start_time": "2025-01-29T23:15:06.459Z"
   },
   {
    "duration": 7,
    "start_time": "2025-01-29T23:15:06.512Z"
   },
   {
    "duration": 3,
    "start_time": "2025-01-29T23:15:06.522Z"
   },
   {
    "duration": 9,
    "start_time": "2025-01-29T23:15:06.527Z"
   },
   {
    "duration": 7,
    "start_time": "2025-01-29T23:15:06.537Z"
   },
   {
    "duration": 4,
    "start_time": "2025-01-29T23:15:06.546Z"
   },
   {
    "duration": 9,
    "start_time": "2025-01-29T23:15:06.552Z"
   },
   {
    "duration": 7,
    "start_time": "2025-01-29T23:15:06.562Z"
   },
   {
    "duration": 47,
    "start_time": "2025-01-29T23:15:06.570Z"
   },
   {
    "duration": 6,
    "start_time": "2025-01-29T23:15:06.618Z"
   },
   {
    "duration": 3,
    "start_time": "2025-01-29T23:15:06.626Z"
   },
   {
    "duration": 6,
    "start_time": "2025-01-29T23:15:06.632Z"
   },
   {
    "duration": 5,
    "start_time": "2025-01-29T23:15:06.640Z"
   },
   {
    "duration": 305,
    "start_time": "2025-01-29T23:15:06.647Z"
   },
   {
    "duration": 258,
    "start_time": "2025-01-29T23:17:17.489Z"
   },
   {
    "duration": 237,
    "start_time": "2025-01-29T23:17:59.119Z"
   },
   {
    "duration": 235,
    "start_time": "2025-01-29T23:18:08.651Z"
   },
   {
    "duration": 780,
    "start_time": "2025-01-29T23:18:22.275Z"
   },
   {
    "duration": 24,
    "start_time": "2025-01-29T23:18:23.058Z"
   },
   {
    "duration": 53,
    "start_time": "2025-01-29T23:18:23.084Z"
   },
   {
    "duration": 7,
    "start_time": "2025-01-29T23:18:23.138Z"
   },
   {
    "duration": 4,
    "start_time": "2025-01-29T23:18:23.147Z"
   },
   {
    "duration": 10,
    "start_time": "2025-01-29T23:18:23.152Z"
   },
   {
    "duration": 7,
    "start_time": "2025-01-29T23:18:23.163Z"
   },
   {
    "duration": 4,
    "start_time": "2025-01-29T23:18:23.172Z"
   },
   {
    "duration": 37,
    "start_time": "2025-01-29T23:18:23.178Z"
   },
   {
    "duration": 7,
    "start_time": "2025-01-29T23:18:23.217Z"
   },
   {
    "duration": 5,
    "start_time": "2025-01-29T23:18:23.225Z"
   },
   {
    "duration": 6,
    "start_time": "2025-01-29T23:18:23.231Z"
   },
   {
    "duration": 8,
    "start_time": "2025-01-29T23:18:23.241Z"
   },
   {
    "duration": 10,
    "start_time": "2025-01-29T23:18:23.252Z"
   },
   {
    "duration": 10,
    "start_time": "2025-01-29T23:18:23.264Z"
   },
   {
    "duration": 300,
    "start_time": "2025-01-29T23:18:23.276Z"
   },
   {
    "duration": 808,
    "start_time": "2025-01-29T23:50:37.354Z"
   },
   {
    "duration": 24,
    "start_time": "2025-01-29T23:50:38.164Z"
   },
   {
    "duration": 57,
    "start_time": "2025-01-29T23:50:38.189Z"
   },
   {
    "duration": 7,
    "start_time": "2025-01-29T23:50:38.247Z"
   },
   {
    "duration": 3,
    "start_time": "2025-01-29T23:50:38.257Z"
   },
   {
    "duration": 10,
    "start_time": "2025-01-29T23:50:38.262Z"
   },
   {
    "duration": 7,
    "start_time": "2025-01-29T23:50:38.273Z"
   },
   {
    "duration": 30,
    "start_time": "2025-01-29T23:50:38.282Z"
   },
   {
    "duration": 9,
    "start_time": "2025-01-29T23:50:38.313Z"
   },
   {
    "duration": 6,
    "start_time": "2025-01-29T23:50:38.324Z"
   },
   {
    "duration": 5,
    "start_time": "2025-01-29T23:50:38.332Z"
   },
   {
    "duration": 5,
    "start_time": "2025-01-29T23:50:38.338Z"
   },
   {
    "duration": 4,
    "start_time": "2025-01-29T23:50:38.344Z"
   },
   {
    "duration": 6,
    "start_time": "2025-01-29T23:50:38.351Z"
   },
   {
    "duration": 5,
    "start_time": "2025-01-29T23:50:38.359Z"
   },
   {
    "duration": 321,
    "start_time": "2025-01-29T23:50:38.365Z"
   },
   {
    "duration": 39,
    "start_time": "2025-01-29T23:50:38.688Z"
   },
   {
    "duration": 822,
    "start_time": "2025-01-30T00:10:23.210Z"
   },
   {
    "duration": 25,
    "start_time": "2025-01-30T00:10:24.034Z"
   },
   {
    "duration": 57,
    "start_time": "2025-01-30T00:10:24.061Z"
   },
   {
    "duration": 7,
    "start_time": "2025-01-30T00:10:24.121Z"
   },
   {
    "duration": 4,
    "start_time": "2025-01-30T00:10:24.130Z"
   },
   {
    "duration": 9,
    "start_time": "2025-01-30T00:10:24.137Z"
   },
   {
    "duration": 9,
    "start_time": "2025-01-30T00:10:24.147Z"
   },
   {
    "duration": 5,
    "start_time": "2025-01-30T00:10:24.158Z"
   },
   {
    "duration": 9,
    "start_time": "2025-01-30T00:10:24.165Z"
   },
   {
    "duration": 38,
    "start_time": "2025-01-30T00:10:24.177Z"
   },
   {
    "duration": 5,
    "start_time": "2025-01-30T00:10:24.217Z"
   },
   {
    "duration": 5,
    "start_time": "2025-01-30T00:10:24.224Z"
   },
   {
    "duration": 4,
    "start_time": "2025-01-30T00:10:24.230Z"
   },
   {
    "duration": 9,
    "start_time": "2025-01-30T00:10:24.235Z"
   },
   {
    "duration": 5,
    "start_time": "2025-01-30T00:10:24.245Z"
   },
   {
    "duration": 308,
    "start_time": "2025-01-30T00:10:24.252Z"
   },
   {
    "duration": 38,
    "start_time": "2025-01-30T00:10:24.562Z"
   },
   {
    "duration": 41,
    "start_time": "2025-01-30T01:54:41.217Z"
   },
   {
    "duration": 50,
    "start_time": "2025-01-30T01:55:07.350Z"
   },
   {
    "duration": 39,
    "start_time": "2025-01-30T01:55:24.762Z"
   },
   {
    "duration": 37,
    "start_time": "2025-01-30T01:55:41.927Z"
   },
   {
    "duration": 842,
    "start_time": "2025-01-30T01:55:52.936Z"
   },
   {
    "duration": 31,
    "start_time": "2025-01-30T01:55:53.780Z"
   },
   {
    "duration": 47,
    "start_time": "2025-01-30T01:55:53.813Z"
   },
   {
    "duration": 7,
    "start_time": "2025-01-30T01:55:53.863Z"
   },
   {
    "duration": 5,
    "start_time": "2025-01-30T01:55:53.872Z"
   },
   {
    "duration": 15,
    "start_time": "2025-01-30T01:55:53.879Z"
   },
   {
    "duration": 7,
    "start_time": "2025-01-30T01:55:53.913Z"
   },
   {
    "duration": 6,
    "start_time": "2025-01-30T01:55:53.922Z"
   },
   {
    "duration": 9,
    "start_time": "2025-01-30T01:55:53.929Z"
   },
   {
    "duration": 9,
    "start_time": "2025-01-30T01:55:53.940Z"
   },
   {
    "duration": 6,
    "start_time": "2025-01-30T01:55:53.950Z"
   },
   {
    "duration": 5,
    "start_time": "2025-01-30T01:55:53.958Z"
   },
   {
    "duration": 3,
    "start_time": "2025-01-30T01:55:53.965Z"
   },
   {
    "duration": 46,
    "start_time": "2025-01-30T01:55:53.972Z"
   },
   {
    "duration": 6,
    "start_time": "2025-01-30T01:55:54.020Z"
   },
   {
    "duration": 275,
    "start_time": "2025-01-30T01:55:54.029Z"
   },
   {
    "duration": 39,
    "start_time": "2025-01-30T01:55:54.306Z"
   },
   {
    "duration": 9,
    "start_time": "2025-01-30T22:50:26.382Z"
   },
   {
    "duration": 159,
    "start_time": "2025-01-30T22:50:32.343Z"
   },
   {
    "duration": 2627,
    "start_time": "2025-01-30T22:50:39.387Z"
   },
   {
    "duration": 37,
    "start_time": "2025-01-30T22:50:42.016Z"
   },
   {
    "duration": 49,
    "start_time": "2025-01-30T22:50:42.054Z"
   },
   {
    "duration": 7,
    "start_time": "2025-01-30T22:50:42.105Z"
   },
   {
    "duration": 4,
    "start_time": "2025-01-30T22:50:42.130Z"
   },
   {
    "duration": 10,
    "start_time": "2025-01-30T22:50:42.137Z"
   },
   {
    "duration": 8,
    "start_time": "2025-01-30T22:50:42.148Z"
   },
   {
    "duration": 5,
    "start_time": "2025-01-30T22:50:42.158Z"
   },
   {
    "duration": 10,
    "start_time": "2025-01-30T22:50:42.164Z"
   },
   {
    "duration": 7,
    "start_time": "2025-01-30T22:50:42.176Z"
   },
   {
    "duration": 6,
    "start_time": "2025-01-30T22:50:42.184Z"
   },
   {
    "duration": 43,
    "start_time": "2025-01-30T22:50:42.191Z"
   },
   {
    "duration": 4,
    "start_time": "2025-01-30T22:50:42.235Z"
   },
   {
    "duration": 7,
    "start_time": "2025-01-30T22:50:42.242Z"
   },
   {
    "duration": 5,
    "start_time": "2025-01-30T22:50:42.251Z"
   },
   {
    "duration": 294,
    "start_time": "2025-01-30T22:50:42.258Z"
   },
   {
    "duration": 11,
    "start_time": "2025-01-30T22:50:42.554Z"
   },
   {
    "duration": 13,
    "start_time": "2025-01-30T22:51:01.938Z"
   },
   {
    "duration": 11,
    "start_time": "2025-01-30T22:51:50.065Z"
   },
   {
    "duration": 2828,
    "start_time": "2025-02-03T18:36:45.829Z"
   },
   {
    "duration": 36,
    "start_time": "2025-02-03T18:36:48.659Z"
   },
   {
    "duration": 57,
    "start_time": "2025-02-03T18:36:48.698Z"
   },
   {
    "duration": 7,
    "start_time": "2025-02-03T18:36:48.757Z"
   },
   {
    "duration": 6,
    "start_time": "2025-02-03T18:36:48.767Z"
   },
   {
    "duration": 10,
    "start_time": "2025-02-03T18:36:48.774Z"
   },
   {
    "duration": 8,
    "start_time": "2025-02-03T18:36:48.786Z"
   },
   {
    "duration": 6,
    "start_time": "2025-02-03T18:36:48.796Z"
   },
   {
    "duration": 39,
    "start_time": "2025-02-03T18:36:48.804Z"
   },
   {
    "duration": 8,
    "start_time": "2025-02-03T18:36:48.845Z"
   },
   {
    "duration": 12,
    "start_time": "2025-02-03T18:36:48.856Z"
   },
   {
    "duration": 5,
    "start_time": "2025-02-03T18:36:48.869Z"
   },
   {
    "duration": 3,
    "start_time": "2025-02-03T18:36:48.876Z"
   },
   {
    "duration": 8,
    "start_time": "2025-02-03T18:36:48.882Z"
   },
   {
    "duration": 5,
    "start_time": "2025-02-03T18:36:48.892Z"
   },
   {
    "duration": 372,
    "start_time": "2025-02-03T18:36:48.899Z"
   },
   {
    "duration": 14,
    "start_time": "2025-02-03T18:36:49.273Z"
   },
   {
    "duration": 809,
    "start_time": "2025-02-03T18:37:21.563Z"
   },
   {
    "duration": 24,
    "start_time": "2025-02-03T18:37:22.375Z"
   },
   {
    "duration": 63,
    "start_time": "2025-02-03T18:37:22.400Z"
   },
   {
    "duration": 8,
    "start_time": "2025-02-03T18:37:22.466Z"
   },
   {
    "duration": 3,
    "start_time": "2025-02-03T18:37:22.476Z"
   },
   {
    "duration": 11,
    "start_time": "2025-02-03T18:37:22.481Z"
   },
   {
    "duration": 8,
    "start_time": "2025-02-03T18:37:22.493Z"
   },
   {
    "duration": 5,
    "start_time": "2025-02-03T18:37:22.503Z"
   },
   {
    "duration": 39,
    "start_time": "2025-02-03T18:37:22.510Z"
   },
   {
    "duration": 7,
    "start_time": "2025-02-03T18:37:22.553Z"
   },
   {
    "duration": 5,
    "start_time": "2025-02-03T18:37:22.561Z"
   },
   {
    "duration": 7,
    "start_time": "2025-02-03T18:37:22.568Z"
   },
   {
    "duration": 4,
    "start_time": "2025-02-03T18:37:22.576Z"
   },
   {
    "duration": 9,
    "start_time": "2025-02-03T18:37:22.581Z"
   },
   {
    "duration": 5,
    "start_time": "2025-02-03T18:37:22.593Z"
   },
   {
    "duration": 328,
    "start_time": "2025-02-03T18:37:22.599Z"
   },
   {
    "duration": 11,
    "start_time": "2025-02-03T18:37:22.929Z"
   },
   {
    "duration": 13,
    "start_time": "2025-02-03T18:57:04.649Z"
   },
   {
    "duration": 12,
    "start_time": "2025-02-03T18:57:20.523Z"
   },
   {
    "duration": 12,
    "start_time": "2025-02-03T18:57:46.596Z"
   },
   {
    "duration": 60,
    "start_time": "2025-02-03T19:00:37.365Z"
   },
   {
    "duration": 769,
    "start_time": "2025-02-03T19:00:43.708Z"
   },
   {
    "duration": 27,
    "start_time": "2025-02-03T19:00:44.479Z"
   },
   {
    "duration": 55,
    "start_time": "2025-02-03T19:00:44.508Z"
   },
   {
    "duration": 8,
    "start_time": "2025-02-03T19:00:44.566Z"
   },
   {
    "duration": 4,
    "start_time": "2025-02-03T19:00:44.576Z"
   },
   {
    "duration": 9,
    "start_time": "2025-02-03T19:00:44.582Z"
   },
   {
    "duration": 7,
    "start_time": "2025-02-03T19:00:44.593Z"
   },
   {
    "duration": 6,
    "start_time": "2025-02-03T19:00:44.601Z"
   },
   {
    "duration": 44,
    "start_time": "2025-02-03T19:00:44.608Z"
   },
   {
    "duration": 6,
    "start_time": "2025-02-03T19:00:44.655Z"
   },
   {
    "duration": 5,
    "start_time": "2025-02-03T19:00:44.663Z"
   },
   {
    "duration": 5,
    "start_time": "2025-02-03T19:00:44.670Z"
   },
   {
    "duration": 4,
    "start_time": "2025-02-03T19:00:44.676Z"
   },
   {
    "duration": 7,
    "start_time": "2025-02-03T19:00:44.681Z"
   },
   {
    "duration": 5,
    "start_time": "2025-02-03T19:00:44.690Z"
   },
   {
    "duration": 266,
    "start_time": "2025-02-03T19:00:44.697Z"
   },
   {
    "duration": 13,
    "start_time": "2025-02-03T19:00:44.964Z"
   },
   {
    "duration": 6,
    "start_time": "2025-02-03T19:10:27.922Z"
   },
   {
    "duration": 6,
    "start_time": "2025-02-03T19:11:00.432Z"
   },
   {
    "duration": 898,
    "start_time": "2025-02-03T19:11:06.022Z"
   },
   {
    "duration": 29,
    "start_time": "2025-02-03T19:11:06.923Z"
   },
   {
    "duration": 65,
    "start_time": "2025-02-03T19:11:06.953Z"
   },
   {
    "duration": 8,
    "start_time": "2025-02-03T19:11:07.020Z"
   },
   {
    "duration": 4,
    "start_time": "2025-02-03T19:11:07.045Z"
   },
   {
    "duration": 14,
    "start_time": "2025-02-03T19:11:07.053Z"
   },
   {
    "duration": 7,
    "start_time": "2025-02-03T19:11:07.069Z"
   },
   {
    "duration": 6,
    "start_time": "2025-02-03T19:11:07.078Z"
   },
   {
    "duration": 11,
    "start_time": "2025-02-03T19:11:07.085Z"
   },
   {
    "duration": 7,
    "start_time": "2025-02-03T19:11:07.097Z"
   },
   {
    "duration": 40,
    "start_time": "2025-02-03T19:11:07.106Z"
   },
   {
    "duration": 6,
    "start_time": "2025-02-03T19:11:07.148Z"
   },
   {
    "duration": 3,
    "start_time": "2025-02-03T19:11:07.157Z"
   },
   {
    "duration": 9,
    "start_time": "2025-02-03T19:11:07.163Z"
   },
   {
    "duration": 6,
    "start_time": "2025-02-03T19:11:07.174Z"
   },
   {
    "duration": 358,
    "start_time": "2025-02-03T19:11:07.182Z"
   },
   {
    "duration": 14,
    "start_time": "2025-02-03T19:11:07.541Z"
   },
   {
    "duration": 900,
    "start_time": "2025-02-03T19:12:09.980Z"
   },
   {
    "duration": 35,
    "start_time": "2025-02-03T19:12:10.884Z"
   },
   {
    "duration": 74,
    "start_time": "2025-02-03T19:12:10.921Z"
   },
   {
    "duration": 8,
    "start_time": "2025-02-03T19:12:10.997Z"
   },
   {
    "duration": 6,
    "start_time": "2025-02-03T19:12:11.009Z"
   },
   {
    "duration": 33,
    "start_time": "2025-02-03T19:12:11.017Z"
   },
   {
    "duration": 12,
    "start_time": "2025-02-03T19:12:11.052Z"
   },
   {
    "duration": 8,
    "start_time": "2025-02-03T19:12:11.070Z"
   },
   {
    "duration": 13,
    "start_time": "2025-02-03T19:12:11.080Z"
   },
   {
    "duration": 9,
    "start_time": "2025-02-03T19:12:11.095Z"
   },
   {
    "duration": 6,
    "start_time": "2025-02-03T19:12:11.106Z"
   },
   {
    "duration": 6,
    "start_time": "2025-02-03T19:12:11.115Z"
   },
   {
    "duration": 20,
    "start_time": "2025-02-03T19:12:11.124Z"
   },
   {
    "duration": 10,
    "start_time": "2025-02-03T19:12:11.148Z"
   },
   {
    "duration": 6,
    "start_time": "2025-02-03T19:12:11.160Z"
   },
   {
    "duration": 263,
    "start_time": "2025-02-03T19:12:11.168Z"
   },
   {
    "duration": 13,
    "start_time": "2025-02-03T19:12:11.434Z"
   },
   {
    "duration": 72,
    "start_time": "2025-02-03T19:12:39.445Z"
   },
   {
    "duration": 834,
    "start_time": "2025-02-03T19:12:54.670Z"
   },
   {
    "duration": 25,
    "start_time": "2025-02-03T19:12:55.506Z"
   },
   {
    "duration": 64,
    "start_time": "2025-02-03T19:12:55.533Z"
   },
   {
    "duration": 9,
    "start_time": "2025-02-03T19:12:55.599Z"
   },
   {
    "duration": 4,
    "start_time": "2025-02-03T19:12:55.611Z"
   },
   {
    "duration": 38,
    "start_time": "2025-02-03T19:12:55.617Z"
   },
   {
    "duration": 10,
    "start_time": "2025-02-03T19:12:55.658Z"
   },
   {
    "duration": 5,
    "start_time": "2025-02-03T19:12:55.670Z"
   },
   {
    "duration": 10,
    "start_time": "2025-02-03T19:12:55.677Z"
   },
   {
    "duration": 6,
    "start_time": "2025-02-03T19:12:55.689Z"
   },
   {
    "duration": 5,
    "start_time": "2025-02-03T19:12:55.697Z"
   },
   {
    "duration": 4,
    "start_time": "2025-02-03T19:12:55.704Z"
   },
   {
    "duration": 4,
    "start_time": "2025-02-03T19:12:55.743Z"
   },
   {
    "duration": 7,
    "start_time": "2025-02-03T19:12:55.749Z"
   },
   {
    "duration": 5,
    "start_time": "2025-02-03T19:12:55.758Z"
   },
   {
    "duration": 248,
    "start_time": "2025-02-03T19:12:55.765Z"
   },
   {
    "duration": 12,
    "start_time": "2025-02-03T19:12:56.015Z"
   },
   {
    "duration": 267,
    "start_time": "2025-02-03T19:17:03.651Z"
   },
   {
    "duration": 6,
    "start_time": "2025-02-03T19:17:11.872Z"
   },
   {
    "duration": 5,
    "start_time": "2025-02-03T19:17:13.447Z"
   },
   {
    "duration": 855,
    "start_time": "2025-02-03T19:17:19.848Z"
   },
   {
    "duration": 23,
    "start_time": "2025-02-03T19:17:20.705Z"
   },
   {
    "duration": 57,
    "start_time": "2025-02-03T19:17:20.730Z"
   },
   {
    "duration": 8,
    "start_time": "2025-02-03T19:17:20.790Z"
   },
   {
    "duration": 4,
    "start_time": "2025-02-03T19:17:20.800Z"
   },
   {
    "duration": 10,
    "start_time": "2025-02-03T19:17:20.806Z"
   },
   {
    "duration": 30,
    "start_time": "2025-02-03T19:17:20.818Z"
   },
   {
    "duration": 5,
    "start_time": "2025-02-03T19:17:20.850Z"
   },
   {
    "duration": 11,
    "start_time": "2025-02-03T19:17:20.857Z"
   },
   {
    "duration": 6,
    "start_time": "2025-02-03T19:17:20.870Z"
   },
   {
    "duration": 6,
    "start_time": "2025-02-03T19:17:20.878Z"
   },
   {
    "duration": 4,
    "start_time": "2025-02-03T19:17:20.886Z"
   },
   {
    "duration": 3,
    "start_time": "2025-02-03T19:17:20.892Z"
   },
   {
    "duration": 45,
    "start_time": "2025-02-03T19:17:20.898Z"
   },
   {
    "duration": 5,
    "start_time": "2025-02-03T19:17:20.945Z"
   },
   {
    "duration": 245,
    "start_time": "2025-02-03T19:17:20.952Z"
   },
   {
    "duration": 13,
    "start_time": "2025-02-03T19:17:21.199Z"
   },
   {
    "duration": 11,
    "start_time": "2025-02-03T19:17:42.106Z"
   },
   {
    "duration": 846,
    "start_time": "2025-02-03T19:17:56.085Z"
   },
   {
    "duration": 29,
    "start_time": "2025-02-03T19:17:56.934Z"
   },
   {
    "duration": 46,
    "start_time": "2025-02-03T19:17:56.965Z"
   },
   {
    "duration": 7,
    "start_time": "2025-02-03T19:17:57.012Z"
   },
   {
    "duration": 3,
    "start_time": "2025-02-03T19:17:57.022Z"
   },
   {
    "duration": 9,
    "start_time": "2025-02-03T19:17:57.043Z"
   },
   {
    "duration": 7,
    "start_time": "2025-02-03T19:17:57.054Z"
   },
   {
    "duration": 5,
    "start_time": "2025-02-03T19:17:57.064Z"
   },
   {
    "duration": 9,
    "start_time": "2025-02-03T19:17:57.070Z"
   },
   {
    "duration": 7,
    "start_time": "2025-02-03T19:17:57.080Z"
   },
   {
    "duration": 6,
    "start_time": "2025-02-03T19:17:57.088Z"
   },
   {
    "duration": 4,
    "start_time": "2025-02-03T19:17:57.096Z"
   },
   {
    "duration": 44,
    "start_time": "2025-02-03T19:17:57.101Z"
   },
   {
    "duration": 8,
    "start_time": "2025-02-03T19:17:57.149Z"
   },
   {
    "duration": 5,
    "start_time": "2025-02-03T19:17:57.159Z"
   },
   {
    "duration": 244,
    "start_time": "2025-02-03T19:17:57.166Z"
   },
   {
    "duration": 11,
    "start_time": "2025-02-03T19:17:57.413Z"
   },
   {
    "duration": 2672,
    "start_time": "2025-02-04T16:56:31.843Z"
   },
   {
    "duration": 42,
    "start_time": "2025-02-04T16:56:34.517Z"
   },
   {
    "duration": 48,
    "start_time": "2025-02-04T16:56:34.561Z"
   },
   {
    "duration": 7,
    "start_time": "2025-02-04T16:56:34.611Z"
   },
   {
    "duration": 4,
    "start_time": "2025-02-04T16:56:34.620Z"
   },
   {
    "duration": 9,
    "start_time": "2025-02-04T16:56:34.643Z"
   },
   {
    "duration": 8,
    "start_time": "2025-02-04T16:56:34.654Z"
   },
   {
    "duration": 5,
    "start_time": "2025-02-04T16:56:34.663Z"
   },
   {
    "duration": 9,
    "start_time": "2025-02-04T16:56:34.670Z"
   },
   {
    "duration": 6,
    "start_time": "2025-02-04T16:56:34.682Z"
   },
   {
    "duration": 6,
    "start_time": "2025-02-04T16:56:34.690Z"
   },
   {
    "duration": 46,
    "start_time": "2025-02-04T16:56:34.698Z"
   },
   {
    "duration": 4,
    "start_time": "2025-02-04T16:56:34.746Z"
   },
   {
    "duration": 8,
    "start_time": "2025-02-04T16:56:34.753Z"
   },
   {
    "duration": 5,
    "start_time": "2025-02-04T16:56:34.763Z"
   },
   {
    "duration": 247,
    "start_time": "2025-02-04T16:56:34.770Z"
   },
   {
    "duration": 11,
    "start_time": "2025-02-04T16:56:35.019Z"
   },
   {
    "duration": 5,
    "start_time": "2025-02-04T17:07:45.141Z"
   },
   {
    "duration": 922,
    "start_time": "2025-02-04T17:08:02.746Z"
   },
   {
    "duration": 6,
    "start_time": "2025-02-04T17:08:04.015Z"
   },
   {
    "duration": 803,
    "start_time": "2025-02-04T17:08:16.960Z"
   },
   {
    "duration": 25,
    "start_time": "2025-02-04T17:08:17.765Z"
   },
   {
    "duration": 54,
    "start_time": "2025-02-04T17:08:17.791Z"
   },
   {
    "duration": 8,
    "start_time": "2025-02-04T17:08:17.846Z"
   },
   {
    "duration": 4,
    "start_time": "2025-02-04T17:08:17.856Z"
   },
   {
    "duration": 9,
    "start_time": "2025-02-04T17:08:17.861Z"
   },
   {
    "duration": 7,
    "start_time": "2025-02-04T17:08:17.872Z"
   },
   {
    "duration": 5,
    "start_time": "2025-02-04T17:08:17.881Z"
   },
   {
    "duration": 9,
    "start_time": "2025-02-04T17:08:17.888Z"
   },
   {
    "duration": 47,
    "start_time": "2025-02-04T17:08:17.898Z"
   },
   {
    "duration": 882,
    "start_time": "2025-02-04T17:08:17.947Z"
   },
   {
    "duration": 0,
    "start_time": "2025-02-04T17:08:18.831Z"
   },
   {
    "duration": 0,
    "start_time": "2025-02-04T17:08:18.832Z"
   },
   {
    "duration": 0,
    "start_time": "2025-02-04T17:08:18.833Z"
   },
   {
    "duration": 0,
    "start_time": "2025-02-04T17:08:18.843Z"
   },
   {
    "duration": 0,
    "start_time": "2025-02-04T17:08:18.844Z"
   },
   {
    "duration": 0,
    "start_time": "2025-02-04T17:08:18.846Z"
   },
   {
    "duration": 10,
    "start_time": "2025-02-04T17:08:34.249Z"
   },
   {
    "duration": 10,
    "start_time": "2025-02-04T17:08:37.166Z"
   },
   {
    "duration": 777,
    "start_time": "2025-02-04T17:08:43.891Z"
   },
   {
    "duration": 24,
    "start_time": "2025-02-04T17:08:44.670Z"
   },
   {
    "duration": 53,
    "start_time": "2025-02-04T17:08:44.696Z"
   },
   {
    "duration": 7,
    "start_time": "2025-02-04T17:08:44.750Z"
   },
   {
    "duration": 4,
    "start_time": "2025-02-04T17:08:44.760Z"
   },
   {
    "duration": 9,
    "start_time": "2025-02-04T17:08:44.765Z"
   },
   {
    "duration": 7,
    "start_time": "2025-02-04T17:08:44.775Z"
   },
   {
    "duration": 4,
    "start_time": "2025-02-04T17:08:44.784Z"
   },
   {
    "duration": 9,
    "start_time": "2025-02-04T17:08:44.790Z"
   },
   {
    "duration": 42,
    "start_time": "2025-02-04T17:08:44.801Z"
   },
   {
    "duration": 5,
    "start_time": "2025-02-04T17:08:44.844Z"
   },
   {
    "duration": 4,
    "start_time": "2025-02-04T17:08:44.851Z"
   },
   {
    "duration": 4,
    "start_time": "2025-02-04T17:08:44.857Z"
   },
   {
    "duration": 7,
    "start_time": "2025-02-04T17:08:44.863Z"
   },
   {
    "duration": 5,
    "start_time": "2025-02-04T17:08:44.872Z"
   },
   {
    "duration": 269,
    "start_time": "2025-02-04T17:08:44.878Z"
   },
   {
    "duration": 13,
    "start_time": "2025-02-04T17:08:45.149Z"
   },
   {
    "duration": 853,
    "start_time": "2025-02-04T17:10:09.547Z"
   },
   {
    "duration": 773,
    "start_time": "2025-02-04T17:10:15.790Z"
   },
   {
    "duration": 26,
    "start_time": "2025-02-04T17:10:16.565Z"
   },
   {
    "duration": 53,
    "start_time": "2025-02-04T17:10:16.592Z"
   },
   {
    "duration": 8,
    "start_time": "2025-02-04T17:10:16.646Z"
   },
   {
    "duration": 3,
    "start_time": "2025-02-04T17:10:16.657Z"
   },
   {
    "duration": 9,
    "start_time": "2025-02-04T17:10:16.662Z"
   },
   {
    "duration": 7,
    "start_time": "2025-02-04T17:10:16.673Z"
   },
   {
    "duration": 6,
    "start_time": "2025-02-04T17:10:16.681Z"
   },
   {
    "duration": 933,
    "start_time": "2025-02-04T17:10:16.689Z"
   },
   {
    "duration": 0,
    "start_time": "2025-02-04T17:10:17.624Z"
   },
   {
    "duration": 0,
    "start_time": "2025-02-04T17:10:17.625Z"
   },
   {
    "duration": 0,
    "start_time": "2025-02-04T17:10:17.627Z"
   },
   {
    "duration": 0,
    "start_time": "2025-02-04T17:10:17.628Z"
   },
   {
    "duration": 0,
    "start_time": "2025-02-04T17:10:17.630Z"
   },
   {
    "duration": 0,
    "start_time": "2025-02-04T17:10:17.631Z"
   },
   {
    "duration": 0,
    "start_time": "2025-02-04T17:10:17.632Z"
   },
   {
    "duration": 0,
    "start_time": "2025-02-04T17:10:17.633Z"
   },
   {
    "duration": 81,
    "start_time": "2025-02-04T17:13:58.574Z"
   },
   {
    "duration": 810,
    "start_time": "2025-02-04T17:14:40.224Z"
   },
   {
    "duration": 32,
    "start_time": "2025-02-04T17:14:41.037Z"
   },
   {
    "duration": 47,
    "start_time": "2025-02-04T17:14:41.071Z"
   },
   {
    "duration": 8,
    "start_time": "2025-02-04T17:14:41.119Z"
   },
   {
    "duration": 4,
    "start_time": "2025-02-04T17:14:41.145Z"
   },
   {
    "duration": 10,
    "start_time": "2025-02-04T17:14:41.151Z"
   },
   {
    "duration": 8,
    "start_time": "2025-02-04T17:14:41.163Z"
   },
   {
    "duration": 5,
    "start_time": "2025-02-04T17:14:41.175Z"
   },
   {
    "duration": 905,
    "start_time": "2025-02-04T17:14:41.182Z"
   },
   {
    "duration": 0,
    "start_time": "2025-02-04T17:14:42.089Z"
   },
   {
    "duration": 0,
    "start_time": "2025-02-04T17:14:42.090Z"
   },
   {
    "duration": 0,
    "start_time": "2025-02-04T17:14:42.092Z"
   },
   {
    "duration": 0,
    "start_time": "2025-02-04T17:14:42.093Z"
   },
   {
    "duration": 0,
    "start_time": "2025-02-04T17:14:42.094Z"
   },
   {
    "duration": 0,
    "start_time": "2025-02-04T17:14:42.096Z"
   },
   {
    "duration": 0,
    "start_time": "2025-02-04T17:14:42.097Z"
   },
   {
    "duration": 0,
    "start_time": "2025-02-04T17:14:42.099Z"
   },
   {
    "duration": 9,
    "start_time": "2025-02-04T17:17:43.802Z"
   },
   {
    "duration": 795,
    "start_time": "2025-02-04T17:17:51.995Z"
   },
   {
    "duration": 26,
    "start_time": "2025-02-04T17:17:52.793Z"
   },
   {
    "duration": 59,
    "start_time": "2025-02-04T17:17:52.820Z"
   },
   {
    "duration": 7,
    "start_time": "2025-02-04T17:17:52.881Z"
   },
   {
    "duration": 3,
    "start_time": "2025-02-04T17:17:52.892Z"
   },
   {
    "duration": 9,
    "start_time": "2025-02-04T17:17:52.897Z"
   },
   {
    "duration": 7,
    "start_time": "2025-02-04T17:17:52.908Z"
   },
   {
    "duration": 29,
    "start_time": "2025-02-04T17:17:52.917Z"
   },
   {
    "duration": 13,
    "start_time": "2025-02-04T17:17:52.947Z"
   },
   {
    "duration": 12,
    "start_time": "2025-02-04T17:17:52.962Z"
   },
   {
    "duration": 5,
    "start_time": "2025-02-04T17:17:52.976Z"
   },
   {
    "duration": 5,
    "start_time": "2025-02-04T17:17:52.982Z"
   },
   {
    "duration": 4,
    "start_time": "2025-02-04T17:17:52.988Z"
   },
   {
    "duration": 7,
    "start_time": "2025-02-04T17:17:52.995Z"
   },
   {
    "duration": 5,
    "start_time": "2025-02-04T17:17:53.003Z"
   },
   {
    "duration": 269,
    "start_time": "2025-02-04T17:17:53.043Z"
   },
   {
    "duration": 10,
    "start_time": "2025-02-04T17:17:53.314Z"
   },
   {
    "duration": 5,
    "start_time": "2025-02-04T17:20:41.903Z"
   },
   {
    "duration": 754,
    "start_time": "2025-02-04T17:20:46.926Z"
   },
   {
    "duration": 24,
    "start_time": "2025-02-04T17:20:47.682Z"
   },
   {
    "duration": 60,
    "start_time": "2025-02-04T17:20:47.707Z"
   },
   {
    "duration": 7,
    "start_time": "2025-02-04T17:20:47.770Z"
   },
   {
    "duration": 4,
    "start_time": "2025-02-04T17:20:47.779Z"
   },
   {
    "duration": 9,
    "start_time": "2025-02-04T17:20:47.785Z"
   },
   {
    "duration": 8,
    "start_time": "2025-02-04T17:20:47.796Z"
   },
   {
    "duration": 37,
    "start_time": "2025-02-04T17:20:47.806Z"
   },
   {
    "duration": 9,
    "start_time": "2025-02-04T17:20:47.844Z"
   },
   {
    "duration": 7,
    "start_time": "2025-02-04T17:20:47.856Z"
   },
   {
    "duration": 5,
    "start_time": "2025-02-04T17:20:47.865Z"
   },
   {
    "duration": 4,
    "start_time": "2025-02-04T17:20:47.872Z"
   },
   {
    "duration": 4,
    "start_time": "2025-02-04T17:20:47.877Z"
   },
   {
    "duration": 8,
    "start_time": "2025-02-04T17:20:47.883Z"
   },
   {
    "duration": 6,
    "start_time": "2025-02-04T17:20:47.892Z"
   },
   {
    "duration": 317,
    "start_time": "2025-02-04T17:20:47.899Z"
   },
   {
    "duration": 11,
    "start_time": "2025-02-04T17:20:48.217Z"
   },
   {
    "duration": 13,
    "start_time": "2025-02-04T18:23:17.122Z"
   },
   {
    "duration": 14,
    "start_time": "2025-02-04T18:23:43.963Z"
   },
   {
    "duration": 11,
    "start_time": "2025-02-04T18:50:21.945Z"
   },
   {
    "duration": 12,
    "start_time": "2025-02-04T18:50:48.852Z"
   },
   {
    "duration": 11,
    "start_time": "2025-02-04T18:51:01.838Z"
   },
   {
    "duration": 12,
    "start_time": "2025-02-04T18:51:19.169Z"
   },
   {
    "duration": 12,
    "start_time": "2025-02-04T18:51:28.126Z"
   },
   {
    "duration": 15,
    "start_time": "2025-02-04T18:52:10.357Z"
   },
   {
    "duration": 12,
    "start_time": "2025-02-04T18:54:45.697Z"
   },
   {
    "duration": 16,
    "start_time": "2025-02-04T18:55:20.067Z"
   },
   {
    "duration": 352,
    "start_time": "2025-02-04T18:56:22.129Z"
   },
   {
    "duration": 16,
    "start_time": "2025-02-04T18:56:43.909Z"
   },
   {
    "duration": 233,
    "start_time": "2025-02-04T18:57:01.305Z"
   },
   {
    "duration": 12,
    "start_time": "2025-02-04T18:57:15.140Z"
   },
   {
    "duration": 13,
    "start_time": "2025-02-04T18:58:52.602Z"
   },
   {
    "duration": 12,
    "start_time": "2025-02-04T20:36:42.400Z"
   },
   {
    "duration": 12,
    "start_time": "2025-02-04T20:37:16.347Z"
   },
   {
    "duration": 824,
    "start_time": "2025-02-04T20:47:07.531Z"
   },
   {
    "duration": 24,
    "start_time": "2025-02-04T20:47:08.357Z"
   },
   {
    "duration": 45,
    "start_time": "2025-02-04T20:47:08.383Z"
   },
   {
    "duration": 20,
    "start_time": "2025-02-04T20:47:08.429Z"
   },
   {
    "duration": 3,
    "start_time": "2025-02-04T20:47:08.452Z"
   },
   {
    "duration": 10,
    "start_time": "2025-02-04T20:47:08.456Z"
   },
   {
    "duration": 7,
    "start_time": "2025-02-04T20:47:08.468Z"
   },
   {
    "duration": 4,
    "start_time": "2025-02-04T20:47:08.477Z"
   },
   {
    "duration": 9,
    "start_time": "2025-02-04T20:47:08.483Z"
   },
   {
    "duration": 7,
    "start_time": "2025-02-04T20:47:08.493Z"
   },
   {
    "duration": 41,
    "start_time": "2025-02-04T20:47:08.501Z"
   },
   {
    "duration": 4,
    "start_time": "2025-02-04T20:47:08.544Z"
   },
   {
    "duration": 4,
    "start_time": "2025-02-04T20:47:08.550Z"
   },
   {
    "duration": 7,
    "start_time": "2025-02-04T20:47:08.557Z"
   },
   {
    "duration": 5,
    "start_time": "2025-02-04T20:47:08.566Z"
   },
   {
    "duration": 287,
    "start_time": "2025-02-04T20:47:08.572Z"
   },
   {
    "duration": 13,
    "start_time": "2025-02-04T20:47:08.861Z"
   },
   {
    "duration": 6,
    "start_time": "2025-02-04T20:47:30.542Z"
   },
   {
    "duration": 760,
    "start_time": "2025-02-04T20:47:36.509Z"
   },
   {
    "duration": 25,
    "start_time": "2025-02-04T20:47:37.271Z"
   },
   {
    "duration": 62,
    "start_time": "2025-02-04T20:47:37.298Z"
   },
   {
    "duration": 10,
    "start_time": "2025-02-04T20:47:37.362Z"
   },
   {
    "duration": 4,
    "start_time": "2025-02-04T20:47:37.374Z"
   },
   {
    "duration": 11,
    "start_time": "2025-02-04T20:47:37.380Z"
   },
   {
    "duration": 7,
    "start_time": "2025-02-04T20:47:37.394Z"
   },
   {
    "duration": 5,
    "start_time": "2025-02-04T20:47:37.403Z"
   },
   {
    "duration": 10,
    "start_time": "2025-02-04T20:47:37.443Z"
   },
   {
    "duration": 7,
    "start_time": "2025-02-04T20:47:37.454Z"
   },
   {
    "duration": 5,
    "start_time": "2025-02-04T20:47:37.463Z"
   },
   {
    "duration": 4,
    "start_time": "2025-02-04T20:47:37.469Z"
   },
   {
    "duration": 4,
    "start_time": "2025-02-04T20:47:37.475Z"
   },
   {
    "duration": 7,
    "start_time": "2025-02-04T20:47:37.481Z"
   },
   {
    "duration": 6,
    "start_time": "2025-02-04T20:47:37.490Z"
   },
   {
    "duration": 294,
    "start_time": "2025-02-04T20:47:37.497Z"
   },
   {
    "duration": 12,
    "start_time": "2025-02-04T20:47:37.793Z"
   },
   {
    "duration": 133,
    "start_time": "2025-02-04T21:55:01.304Z"
   },
   {
    "duration": 812,
    "start_time": "2025-02-04T22:14:53.436Z"
   },
   {
    "duration": 26,
    "start_time": "2025-02-04T22:14:54.250Z"
   },
   {
    "duration": 46,
    "start_time": "2025-02-04T22:14:54.278Z"
   },
   {
    "duration": 20,
    "start_time": "2025-02-04T22:14:54.326Z"
   },
   {
    "duration": 138,
    "start_time": "2025-02-04T22:14:54.348Z"
   },
   {
    "duration": 0,
    "start_time": "2025-02-04T22:14:54.488Z"
   },
   {
    "duration": 0,
    "start_time": "2025-02-04T22:14:54.490Z"
   },
   {
    "duration": 0,
    "start_time": "2025-02-04T22:14:54.491Z"
   },
   {
    "duration": 0,
    "start_time": "2025-02-04T22:14:54.492Z"
   },
   {
    "duration": 0,
    "start_time": "2025-02-04T22:14:54.493Z"
   },
   {
    "duration": 0,
    "start_time": "2025-02-04T22:14:54.494Z"
   },
   {
    "duration": 0,
    "start_time": "2025-02-04T22:14:54.495Z"
   },
   {
    "duration": 0,
    "start_time": "2025-02-04T22:14:54.496Z"
   },
   {
    "duration": 0,
    "start_time": "2025-02-04T22:14:54.497Z"
   },
   {
    "duration": 0,
    "start_time": "2025-02-04T22:14:54.498Z"
   },
   {
    "duration": 0,
    "start_time": "2025-02-04T22:14:54.500Z"
   },
   {
    "duration": 0,
    "start_time": "2025-02-04T22:14:54.502Z"
   },
   {
    "duration": 174,
    "start_time": "2025-02-04T22:15:11.195Z"
   },
   {
    "duration": 15,
    "start_time": "2025-02-04T22:20:01.389Z"
   },
   {
    "duration": 16,
    "start_time": "2025-02-04T22:20:07.829Z"
   },
   {
    "duration": 4,
    "start_time": "2025-02-04T22:21:29.465Z"
   },
   {
    "duration": 796,
    "start_time": "2025-02-04T22:21:35.974Z"
   },
   {
    "duration": 24,
    "start_time": "2025-02-04T22:21:36.772Z"
   },
   {
    "duration": 53,
    "start_time": "2025-02-04T22:21:36.798Z"
   },
   {
    "duration": 8,
    "start_time": "2025-02-04T22:21:36.854Z"
   },
   {
    "duration": 4,
    "start_time": "2025-02-04T22:21:36.864Z"
   },
   {
    "duration": 10,
    "start_time": "2025-02-04T22:21:36.869Z"
   },
   {
    "duration": 7,
    "start_time": "2025-02-04T22:21:36.881Z"
   },
   {
    "duration": 5,
    "start_time": "2025-02-04T22:21:36.889Z"
   },
   {
    "duration": 47,
    "start_time": "2025-02-04T22:21:36.896Z"
   },
   {
    "duration": 8,
    "start_time": "2025-02-04T22:21:36.945Z"
   },
   {
    "duration": 6,
    "start_time": "2025-02-04T22:21:36.955Z"
   },
   {
    "duration": 6,
    "start_time": "2025-02-04T22:21:36.963Z"
   },
   {
    "duration": 4,
    "start_time": "2025-02-04T22:21:36.971Z"
   },
   {
    "duration": 7,
    "start_time": "2025-02-04T22:21:36.978Z"
   },
   {
    "duration": 6,
    "start_time": "2025-02-04T22:21:36.987Z"
   },
   {
    "duration": 301,
    "start_time": "2025-02-04T22:21:36.994Z"
   },
   {
    "duration": 6,
    "start_time": "2025-02-04T22:21:37.298Z"
   },
   {
    "duration": 12,
    "start_time": "2025-02-04T22:22:27.430Z"
   },
   {
    "duration": 817,
    "start_time": "2025-02-04T22:22:37.368Z"
   },
   {
    "duration": 25,
    "start_time": "2025-02-04T22:22:38.187Z"
   },
   {
    "duration": 55,
    "start_time": "2025-02-04T22:22:38.214Z"
   },
   {
    "duration": 8,
    "start_time": "2025-02-04T22:22:38.271Z"
   },
   {
    "duration": 3,
    "start_time": "2025-02-04T22:22:38.281Z"
   },
   {
    "duration": 9,
    "start_time": "2025-02-04T22:22:38.286Z"
   },
   {
    "duration": 7,
    "start_time": "2025-02-04T22:22:38.296Z"
   },
   {
    "duration": 38,
    "start_time": "2025-02-04T22:22:38.305Z"
   },
   {
    "duration": 10,
    "start_time": "2025-02-04T22:22:38.345Z"
   },
   {
    "duration": 6,
    "start_time": "2025-02-04T22:22:38.357Z"
   },
   {
    "duration": 4,
    "start_time": "2025-02-04T22:22:38.365Z"
   },
   {
    "duration": 4,
    "start_time": "2025-02-04T22:22:38.371Z"
   },
   {
    "duration": 3,
    "start_time": "2025-02-04T22:22:38.377Z"
   },
   {
    "duration": 6,
    "start_time": "2025-02-04T22:22:38.383Z"
   },
   {
    "duration": 4,
    "start_time": "2025-02-04T22:22:38.391Z"
   },
   {
    "duration": 322,
    "start_time": "2025-02-04T22:22:38.397Z"
   },
   {
    "duration": 6,
    "start_time": "2025-02-04T22:22:38.721Z"
   },
   {
    "duration": 805,
    "start_time": "2025-02-04T22:22:46.310Z"
   },
   {
    "duration": 28,
    "start_time": "2025-02-04T22:22:47.117Z"
   },
   {
    "duration": 47,
    "start_time": "2025-02-04T22:22:47.147Z"
   },
   {
    "duration": 7,
    "start_time": "2025-02-04T22:22:47.196Z"
   },
   {
    "duration": 3,
    "start_time": "2025-02-04T22:22:47.205Z"
   },
   {
    "duration": 34,
    "start_time": "2025-02-04T22:22:47.210Z"
   },
   {
    "duration": 7,
    "start_time": "2025-02-04T22:22:47.245Z"
   },
   {
    "duration": 5,
    "start_time": "2025-02-04T22:22:47.254Z"
   },
   {
    "duration": 9,
    "start_time": "2025-02-04T22:22:47.261Z"
   },
   {
    "duration": 7,
    "start_time": "2025-02-04T22:22:47.272Z"
   },
   {
    "duration": 5,
    "start_time": "2025-02-04T22:22:47.281Z"
   },
   {
    "duration": 4,
    "start_time": "2025-02-04T22:22:47.288Z"
   },
   {
    "duration": 4,
    "start_time": "2025-02-04T22:22:47.294Z"
   },
   {
    "duration": 8,
    "start_time": "2025-02-04T22:22:47.342Z"
   },
   {
    "duration": 5,
    "start_time": "2025-02-04T22:22:47.352Z"
   },
   {
    "duration": 294,
    "start_time": "2025-02-04T22:22:47.359Z"
   },
   {
    "duration": 15,
    "start_time": "2025-02-04T22:22:47.655Z"
   },
   {
    "duration": 5,
    "start_time": "2025-02-04T22:23:42.083Z"
   },
   {
    "duration": 826,
    "start_time": "2025-02-04T22:23:50.879Z"
   },
   {
    "duration": 24,
    "start_time": "2025-02-04T22:23:51.707Z"
   },
   {
    "duration": 54,
    "start_time": "2025-02-04T22:23:51.732Z"
   },
   {
    "duration": 9,
    "start_time": "2025-02-04T22:23:51.788Z"
   },
   {
    "duration": 3,
    "start_time": "2025-02-04T22:23:51.800Z"
   },
   {
    "duration": 5,
    "start_time": "2025-02-04T22:23:51.805Z"
   },
   {
    "duration": 30,
    "start_time": "2025-02-04T22:23:51.814Z"
   },
   {
    "duration": 5,
    "start_time": "2025-02-04T22:23:51.845Z"
   },
   {
    "duration": 9,
    "start_time": "2025-02-04T22:23:51.852Z"
   },
   {
    "duration": 7,
    "start_time": "2025-02-04T22:23:51.863Z"
   },
   {
    "duration": 5,
    "start_time": "2025-02-04T22:23:51.872Z"
   },
   {
    "duration": 4,
    "start_time": "2025-02-04T22:23:51.879Z"
   },
   {
    "duration": 4,
    "start_time": "2025-02-04T22:23:51.884Z"
   },
   {
    "duration": 7,
    "start_time": "2025-02-04T22:23:51.890Z"
   },
   {
    "duration": 47,
    "start_time": "2025-02-04T22:23:51.899Z"
   },
   {
    "duration": 264,
    "start_time": "2025-02-04T22:23:51.947Z"
   },
   {
    "duration": 17,
    "start_time": "2025-02-04T22:23:52.213Z"
   },
   {
    "duration": 842,
    "start_time": "2025-02-04T22:24:16.030Z"
   },
   {
    "duration": 26,
    "start_time": "2025-02-04T22:24:16.875Z"
   },
   {
    "duration": 63,
    "start_time": "2025-02-04T22:24:16.903Z"
   },
   {
    "duration": 9,
    "start_time": "2025-02-04T22:24:16.968Z"
   },
   {
    "duration": 3,
    "start_time": "2025-02-04T22:24:16.980Z"
   },
   {
    "duration": 4,
    "start_time": "2025-02-04T22:24:16.987Z"
   },
   {
    "duration": 5,
    "start_time": "2025-02-04T22:24:16.994Z"
   },
   {
    "duration": 14,
    "start_time": "2025-02-04T22:24:17.002Z"
   },
   {
    "duration": 7,
    "start_time": "2025-02-04T22:24:17.043Z"
   },
   {
    "duration": 5,
    "start_time": "2025-02-04T22:24:17.052Z"
   },
   {
    "duration": 7,
    "start_time": "2025-02-04T22:24:17.060Z"
   },
   {
    "duration": 4,
    "start_time": "2025-02-04T22:24:17.069Z"
   },
   {
    "duration": 8,
    "start_time": "2025-02-04T22:24:17.074Z"
   },
   {
    "duration": 5,
    "start_time": "2025-02-04T22:24:17.085Z"
   },
   {
    "duration": 315,
    "start_time": "2025-02-04T22:24:17.092Z"
   },
   {
    "duration": 12,
    "start_time": "2025-02-04T22:24:17.409Z"
   },
   {
    "duration": 11,
    "start_time": "2025-02-04T22:24:36.009Z"
   },
   {
    "duration": 806,
    "start_time": "2025-02-04T22:24:53.164Z"
   },
   {
    "duration": 24,
    "start_time": "2025-02-04T22:24:53.973Z"
   },
   {
    "duration": 53,
    "start_time": "2025-02-04T22:24:53.999Z"
   },
   {
    "duration": 7,
    "start_time": "2025-02-04T22:24:54.054Z"
   },
   {
    "duration": 2,
    "start_time": "2025-02-04T22:24:54.065Z"
   },
   {
    "duration": 5,
    "start_time": "2025-02-04T22:24:54.069Z"
   },
   {
    "duration": 5,
    "start_time": "2025-02-04T22:24:54.075Z"
   },
   {
    "duration": 9,
    "start_time": "2025-02-04T22:24:54.082Z"
   },
   {
    "duration": 6,
    "start_time": "2025-02-04T22:24:54.092Z"
   },
   {
    "duration": 43,
    "start_time": "2025-02-04T22:24:54.101Z"
   },
   {
    "duration": 4,
    "start_time": "2025-02-04T22:24:54.145Z"
   },
   {
    "duration": 4,
    "start_time": "2025-02-04T22:24:54.151Z"
   },
   {
    "duration": 7,
    "start_time": "2025-02-04T22:24:54.157Z"
   },
   {
    "duration": 5,
    "start_time": "2025-02-04T22:24:54.167Z"
   },
   {
    "duration": 282,
    "start_time": "2025-02-04T22:24:54.173Z"
   },
   {
    "duration": 13,
    "start_time": "2025-02-04T22:24:54.457Z"
   },
   {
    "duration": 7,
    "start_time": "2025-02-04T23:17:25.911Z"
   },
   {
    "duration": 6,
    "start_time": "2025-02-04T23:17:44.790Z"
   },
   {
    "duration": 406,
    "start_time": "2025-02-04T23:20:10.875Z"
   },
   {
    "duration": 8,
    "start_time": "2025-02-04T23:20:19.599Z"
   },
   {
    "duration": 15,
    "start_time": "2025-02-04T23:20:32.971Z"
   },
   {
    "duration": 778,
    "start_time": "2025-02-04T23:21:02.090Z"
   },
   {
    "duration": 25,
    "start_time": "2025-02-04T23:21:02.870Z"
   },
   {
    "duration": 55,
    "start_time": "2025-02-04T23:21:02.897Z"
   },
   {
    "duration": 10,
    "start_time": "2025-02-04T23:21:02.954Z"
   },
   {
    "duration": 4,
    "start_time": "2025-02-04T23:21:02.966Z"
   },
   {
    "duration": 7,
    "start_time": "2025-02-04T23:21:02.972Z"
   },
   {
    "duration": 6,
    "start_time": "2025-02-04T23:21:02.981Z"
   },
   {
    "duration": 14,
    "start_time": "2025-02-04T23:21:02.989Z"
   },
   {
    "duration": 7,
    "start_time": "2025-02-04T23:21:03.004Z"
   },
   {
    "duration": 33,
    "start_time": "2025-02-04T23:21:03.012Z"
   },
   {
    "duration": 5,
    "start_time": "2025-02-04T23:21:03.046Z"
   },
   {
    "duration": 4,
    "start_time": "2025-02-04T23:21:03.053Z"
   },
   {
    "duration": 8,
    "start_time": "2025-02-04T23:21:03.059Z"
   },
   {
    "duration": 5,
    "start_time": "2025-02-04T23:21:03.070Z"
   },
   {
    "duration": 289,
    "start_time": "2025-02-04T23:21:03.078Z"
   },
   {
    "duration": 13,
    "start_time": "2025-02-04T23:21:03.369Z"
   },
   {
    "duration": 8,
    "start_time": "2025-02-04T23:24:05.704Z"
   },
   {
    "duration": 4,
    "start_time": "2025-02-04T23:24:39.187Z"
   },
   {
    "duration": 844,
    "start_time": "2025-02-04T23:25:05.369Z"
   },
   {
    "duration": 28,
    "start_time": "2025-02-04T23:25:06.216Z"
   },
   {
    "duration": 47,
    "start_time": "2025-02-04T23:25:06.246Z"
   },
   {
    "duration": 8,
    "start_time": "2025-02-04T23:25:06.295Z"
   },
   {
    "duration": 3,
    "start_time": "2025-02-04T23:25:06.305Z"
   },
   {
    "duration": 5,
    "start_time": "2025-02-04T23:25:06.310Z"
   },
   {
    "duration": 29,
    "start_time": "2025-02-04T23:25:06.316Z"
   },
   {
    "duration": 9,
    "start_time": "2025-02-04T23:25:06.347Z"
   },
   {
    "duration": 4,
    "start_time": "2025-02-04T23:25:06.357Z"
   },
   {
    "duration": 6,
    "start_time": "2025-02-04T23:25:06.362Z"
   },
   {
    "duration": 5,
    "start_time": "2025-02-04T23:25:06.369Z"
   },
   {
    "duration": 4,
    "start_time": "2025-02-04T23:25:06.376Z"
   },
   {
    "duration": 7,
    "start_time": "2025-02-04T23:25:06.381Z"
   },
   {
    "duration": 5,
    "start_time": "2025-02-04T23:25:06.391Z"
   },
   {
    "duration": 326,
    "start_time": "2025-02-04T23:25:06.397Z"
   },
   {
    "duration": 13,
    "start_time": "2025-02-04T23:25:06.725Z"
   },
   {
    "duration": 13,
    "start_time": "2025-02-04T23:25:17.804Z"
   },
   {
    "duration": 7,
    "start_time": "2025-02-04T23:29:21.223Z"
   },
   {
    "duration": 780,
    "start_time": "2025-02-04T23:33:58.707Z"
   },
   {
    "duration": 23,
    "start_time": "2025-02-04T23:33:59.489Z"
   },
   {
    "duration": 55,
    "start_time": "2025-02-04T23:33:59.513Z"
   },
   {
    "duration": 7,
    "start_time": "2025-02-04T23:33:59.569Z"
   },
   {
    "duration": 3,
    "start_time": "2025-02-04T23:33:59.578Z"
   },
   {
    "duration": 4,
    "start_time": "2025-02-04T23:33:59.583Z"
   },
   {
    "duration": 4,
    "start_time": "2025-02-04T23:33:59.589Z"
   },
   {
    "duration": 9,
    "start_time": "2025-02-04T23:33:59.594Z"
   },
   {
    "duration": 4,
    "start_time": "2025-02-04T23:33:59.604Z"
   },
   {
    "duration": 37,
    "start_time": "2025-02-04T23:33:59.609Z"
   },
   {
    "duration": 5,
    "start_time": "2025-02-04T23:33:59.648Z"
   },
   {
    "duration": 4,
    "start_time": "2025-02-04T23:33:59.654Z"
   },
   {
    "duration": 8,
    "start_time": "2025-02-04T23:33:59.662Z"
   },
   {
    "duration": 4,
    "start_time": "2025-02-04T23:33:59.674Z"
   },
   {
    "duration": 295,
    "start_time": "2025-02-04T23:33:59.680Z"
   },
   {
    "duration": 12,
    "start_time": "2025-02-04T23:33:59.977Z"
   },
   {
    "duration": 410,
    "start_time": "2025-02-04T23:36:53.001Z"
   },
   {
    "duration": 167,
    "start_time": "2025-02-04T23:38:20.197Z"
   },
   {
    "duration": 229,
    "start_time": "2025-02-04T23:42:41.986Z"
   },
   {
    "duration": 228,
    "start_time": "2025-02-04T23:43:29.496Z"
   },
   {
    "duration": 241,
    "start_time": "2025-02-04T23:43:45.755Z"
   },
   {
    "duration": 244,
    "start_time": "2025-02-04T23:43:58.978Z"
   },
   {
    "duration": 793,
    "start_time": "2025-02-04T23:46:17.988Z"
   },
   {
    "duration": 25,
    "start_time": "2025-02-04T23:46:18.783Z"
   },
   {
    "duration": 54,
    "start_time": "2025-02-04T23:46:18.809Z"
   },
   {
    "duration": 7,
    "start_time": "2025-02-04T23:46:18.865Z"
   },
   {
    "duration": 3,
    "start_time": "2025-02-04T23:46:18.874Z"
   },
   {
    "duration": 4,
    "start_time": "2025-02-04T23:46:18.878Z"
   },
   {
    "duration": 5,
    "start_time": "2025-02-04T23:46:18.884Z"
   },
   {
    "duration": 10,
    "start_time": "2025-02-04T23:46:18.890Z"
   },
   {
    "duration": 3,
    "start_time": "2025-02-04T23:46:18.902Z"
   },
   {
    "duration": 39,
    "start_time": "2025-02-04T23:46:18.907Z"
   },
   {
    "duration": 5,
    "start_time": "2025-02-04T23:46:18.948Z"
   },
   {
    "duration": 4,
    "start_time": "2025-02-04T23:46:18.954Z"
   },
   {
    "duration": 8,
    "start_time": "2025-02-04T23:46:18.959Z"
   },
   {
    "duration": 214,
    "start_time": "2025-02-04T23:46:18.970Z"
   },
   {
    "duration": 254,
    "start_time": "2025-02-04T23:46:19.186Z"
   },
   {
    "duration": 11,
    "start_time": "2025-02-04T23:46:19.442Z"
   },
   {
    "duration": 14,
    "start_time": "2025-02-04T23:47:18.242Z"
   },
   {
    "duration": 12,
    "start_time": "2025-02-04T23:47:33.521Z"
   },
   {
    "duration": 527,
    "start_time": "2025-02-04T23:56:59.154Z"
   },
   {
    "duration": 4,
    "start_time": "2025-02-04T23:57:16.351Z"
   },
   {
    "duration": 60,
    "start_time": "2025-02-04T23:57:32.719Z"
   },
   {
    "duration": 12,
    "start_time": "2025-02-04T23:58:43.925Z"
   },
   {
    "duration": 13,
    "start_time": "2025-02-04T23:58:53.185Z"
   },
   {
    "duration": 16,
    "start_time": "2025-02-04T23:59:05.250Z"
   },
   {
    "duration": 11,
    "start_time": "2025-02-04T23:59:44.602Z"
   },
   {
    "duration": 6,
    "start_time": "2025-02-05T00:04:58.908Z"
   },
   {
    "duration": 437,
    "start_time": "2025-02-05T00:06:27.108Z"
   },
   {
    "duration": 25,
    "start_time": "2025-02-05T00:06:40.856Z"
   },
   {
    "duration": 357,
    "start_time": "2025-02-05T00:06:48.860Z"
   },
   {
    "duration": 360,
    "start_time": "2025-02-05T00:09:12.685Z"
   },
   {
    "duration": 22,
    "start_time": "2025-02-05T00:13:57.199Z"
   },
   {
    "duration": 25,
    "start_time": "2025-02-05T00:14:36.755Z"
   },
   {
    "duration": 300,
    "start_time": "2025-02-05T00:16:16.312Z"
   },
   {
    "duration": 20,
    "start_time": "2025-02-05T00:23:39.386Z"
   },
   {
    "duration": 818,
    "start_time": "2025-02-05T00:23:48.747Z"
   },
   {
    "duration": 25,
    "start_time": "2025-02-05T00:23:49.567Z"
   },
   {
    "duration": 54,
    "start_time": "2025-02-05T00:23:49.593Z"
   },
   {
    "duration": 6,
    "start_time": "2025-02-05T00:23:49.649Z"
   },
   {
    "duration": 4,
    "start_time": "2025-02-05T00:23:49.658Z"
   },
   {
    "duration": 4,
    "start_time": "2025-02-05T00:23:49.663Z"
   },
   {
    "duration": 4,
    "start_time": "2025-02-05T00:23:49.670Z"
   },
   {
    "duration": 9,
    "start_time": "2025-02-05T00:23:49.676Z"
   },
   {
    "duration": 3,
    "start_time": "2025-02-05T00:23:49.687Z"
   },
   {
    "duration": 5,
    "start_time": "2025-02-05T00:23:49.691Z"
   },
   {
    "duration": 44,
    "start_time": "2025-02-05T00:23:49.698Z"
   },
   {
    "duration": 4,
    "start_time": "2025-02-05T00:23:49.745Z"
   },
   {
    "duration": 8,
    "start_time": "2025-02-05T00:23:49.750Z"
   },
   {
    "duration": 193,
    "start_time": "2025-02-05T00:23:49.760Z"
   },
   {
    "duration": 276,
    "start_time": "2025-02-05T00:23:49.955Z"
   },
   {
    "duration": 14,
    "start_time": "2025-02-05T00:23:50.233Z"
   },
   {
    "duration": 12,
    "start_time": "2025-02-05T00:23:50.250Z"
   },
   {
    "duration": 293,
    "start_time": "2025-02-05T00:23:50.263Z"
   },
   {
    "duration": 21,
    "start_time": "2025-02-05T00:24:09.672Z"
   },
   {
    "duration": 23,
    "start_time": "2025-02-05T00:24:26.451Z"
   },
   {
    "duration": 18,
    "start_time": "2025-02-05T00:24:34.134Z"
   },
   {
    "duration": 7,
    "start_time": "2025-02-05T00:25:00.100Z"
   },
   {
    "duration": 13,
    "start_time": "2025-02-05T00:26:04.807Z"
   },
   {
    "duration": 242,
    "start_time": "2025-02-05T00:27:47.412Z"
   },
   {
    "duration": 239,
    "start_time": "2025-02-05T00:28:23.629Z"
   },
   {
    "duration": 307,
    "start_time": "2025-02-05T00:28:42.216Z"
   },
   {
    "duration": 777,
    "start_time": "2025-02-05T00:52:38.285Z"
   },
   {
    "duration": 24,
    "start_time": "2025-02-05T00:52:39.065Z"
   },
   {
    "duration": 56,
    "start_time": "2025-02-05T00:52:39.091Z"
   },
   {
    "duration": 7,
    "start_time": "2025-02-05T00:52:39.149Z"
   },
   {
    "duration": 3,
    "start_time": "2025-02-05T00:52:39.158Z"
   },
   {
    "duration": 4,
    "start_time": "2025-02-05T00:52:39.163Z"
   },
   {
    "duration": 4,
    "start_time": "2025-02-05T00:52:39.169Z"
   },
   {
    "duration": 9,
    "start_time": "2025-02-05T00:52:39.175Z"
   },
   {
    "duration": 3,
    "start_time": "2025-02-05T00:52:39.186Z"
   },
   {
    "duration": 5,
    "start_time": "2025-02-05T00:52:39.191Z"
   },
   {
    "duration": 5,
    "start_time": "2025-02-05T00:52:39.198Z"
   },
   {
    "duration": 4,
    "start_time": "2025-02-05T00:52:39.244Z"
   },
   {
    "duration": 8,
    "start_time": "2025-02-05T00:52:39.250Z"
   },
   {
    "duration": 203,
    "start_time": "2025-02-05T00:52:39.262Z"
   },
   {
    "duration": 257,
    "start_time": "2025-02-05T00:52:39.466Z"
   },
   {
    "duration": 12,
    "start_time": "2025-02-05T00:52:39.725Z"
   },
   {
    "duration": 10,
    "start_time": "2025-02-05T00:52:39.739Z"
   },
   {
    "duration": 356,
    "start_time": "2025-02-05T00:52:39.751Z"
   },
   {
    "duration": 5,
    "start_time": "2025-02-05T00:52:40.108Z"
   },
   {
    "duration": 333,
    "start_time": "2025-02-05T02:00:34.212Z"
   },
   {
    "duration": 300,
    "start_time": "2025-02-05T02:00:42.045Z"
   },
   {
    "duration": 8,
    "start_time": "2025-02-05T02:08:57.760Z"
   },
   {
    "duration": 711,
    "start_time": "2025-02-05T02:10:41.862Z"
   },
   {
    "duration": 1290,
    "start_time": "2025-02-05T03:24:54.319Z"
   },
   {
    "duration": 324,
    "start_time": "2025-02-05T03:28:15.025Z"
   },
   {
    "duration": 249,
    "start_time": "2025-02-05T03:33:10.074Z"
   },
   {
    "duration": 252,
    "start_time": "2025-02-05T03:36:46.102Z"
   },
   {
    "duration": 244,
    "start_time": "2025-02-05T03:38:31.700Z"
   },
   {
    "duration": 21,
    "start_time": "2025-02-05T03:39:52.973Z"
   },
   {
    "duration": 158,
    "start_time": "2025-02-05T03:40:18.080Z"
   },
   {
    "duration": 156,
    "start_time": "2025-02-05T03:42:24.147Z"
   },
   {
    "duration": 168,
    "start_time": "2025-02-05T03:42:42.938Z"
   },
   {
    "duration": 163,
    "start_time": "2025-02-05T03:42:50.624Z"
   },
   {
    "duration": 842,
    "start_time": "2025-02-05T03:57:05.794Z"
   },
   {
    "duration": 28,
    "start_time": "2025-02-05T03:57:06.638Z"
   },
   {
    "duration": 47,
    "start_time": "2025-02-05T03:57:06.667Z"
   },
   {
    "duration": 7,
    "start_time": "2025-02-05T03:57:06.716Z"
   },
   {
    "duration": 19,
    "start_time": "2025-02-05T03:57:06.726Z"
   },
   {
    "duration": 5,
    "start_time": "2025-02-05T03:57:06.748Z"
   },
   {
    "duration": 5,
    "start_time": "2025-02-05T03:57:06.755Z"
   },
   {
    "duration": 9,
    "start_time": "2025-02-05T03:57:06.762Z"
   },
   {
    "duration": 3,
    "start_time": "2025-02-05T03:57:06.773Z"
   },
   {
    "duration": 6,
    "start_time": "2025-02-05T03:57:06.778Z"
   },
   {
    "duration": 6,
    "start_time": "2025-02-05T03:57:06.785Z"
   },
   {
    "duration": 4,
    "start_time": "2025-02-05T03:57:06.793Z"
   },
   {
    "duration": 51,
    "start_time": "2025-02-05T03:57:06.798Z"
   },
   {
    "duration": 194,
    "start_time": "2025-02-05T03:57:06.853Z"
   },
   {
    "duration": 263,
    "start_time": "2025-02-05T03:57:07.048Z"
   },
   {
    "duration": 21,
    "start_time": "2025-02-05T03:57:07.313Z"
   },
   {
    "duration": 16,
    "start_time": "2025-02-05T03:57:07.337Z"
   },
   {
    "duration": 235,
    "start_time": "2025-02-05T03:57:07.355Z"
   },
   {
    "duration": 2570,
    "start_time": "2025-02-05T16:17:22.891Z"
   },
   {
    "duration": 38,
    "start_time": "2025-02-05T16:17:25.463Z"
   },
   {
    "duration": 45,
    "start_time": "2025-02-05T16:17:25.503Z"
   },
   {
    "duration": 7,
    "start_time": "2025-02-05T16:17:25.551Z"
   },
   {
    "duration": 3,
    "start_time": "2025-02-05T16:17:25.559Z"
   },
   {
    "duration": 5,
    "start_time": "2025-02-05T16:17:25.564Z"
   },
   {
    "duration": 5,
    "start_time": "2025-02-05T16:17:25.570Z"
   },
   {
    "duration": 34,
    "start_time": "2025-02-05T16:17:25.577Z"
   },
   {
    "duration": 3,
    "start_time": "2025-02-05T16:17:25.613Z"
   },
   {
    "duration": 5,
    "start_time": "2025-02-05T16:17:25.619Z"
   },
   {
    "duration": 5,
    "start_time": "2025-02-05T16:17:25.625Z"
   },
   {
    "duration": 4,
    "start_time": "2025-02-05T16:17:25.631Z"
   },
   {
    "duration": 8,
    "start_time": "2025-02-05T16:17:25.636Z"
   },
   {
    "duration": 207,
    "start_time": "2025-02-05T16:17:25.645Z"
   },
   {
    "duration": 255,
    "start_time": "2025-02-05T16:17:25.854Z"
   },
   {
    "duration": 15,
    "start_time": "2025-02-05T16:17:26.112Z"
   },
   {
    "duration": 12,
    "start_time": "2025-02-05T16:17:26.131Z"
   },
   {
    "duration": 173,
    "start_time": "2025-02-05T16:17:26.145Z"
   },
   {
    "duration": 6,
    "start_time": "2025-02-05T16:29:35.090Z"
   },
   {
    "duration": 12,
    "start_time": "2025-02-05T16:31:36.100Z"
   },
   {
    "duration": 13,
    "start_time": "2025-02-05T16:32:27.733Z"
   },
   {
    "duration": 294,
    "start_time": "2025-02-05T16:37:14.646Z"
   },
   {
    "duration": 11,
    "start_time": "2025-02-05T16:37:29.623Z"
   },
   {
    "duration": 11,
    "start_time": "2025-02-05T16:38:47.014Z"
   },
   {
    "duration": 11,
    "start_time": "2025-02-05T16:39:22.638Z"
   },
   {
    "duration": 13,
    "start_time": "2025-02-05T16:40:01.323Z"
   },
   {
    "duration": 13,
    "start_time": "2025-02-05T16:40:34.846Z"
   },
   {
    "duration": 25,
    "start_time": "2025-02-05T16:41:45.358Z"
   },
   {
    "duration": 507,
    "start_time": "2025-02-05T16:41:56.584Z"
   },
   {
    "duration": 276,
    "start_time": "2025-02-05T16:42:07.243Z"
   },
   {
    "duration": 262,
    "start_time": "2025-02-05T16:42:24.388Z"
   },
   {
    "duration": 275,
    "start_time": "2025-02-05T16:49:08.182Z"
   },
   {
    "duration": 321,
    "start_time": "2025-02-05T16:49:17.069Z"
   },
   {
    "duration": 334,
    "start_time": "2025-02-05T16:49:31.015Z"
   },
   {
    "duration": 287,
    "start_time": "2025-02-05T16:49:45.597Z"
   },
   {
    "duration": 382,
    "start_time": "2025-02-05T16:55:59.181Z"
   },
   {
    "duration": 805,
    "start_time": "2025-02-05T16:56:35.329Z"
   },
   {
    "duration": 25,
    "start_time": "2025-02-05T16:56:36.136Z"
   },
   {
    "duration": 54,
    "start_time": "2025-02-05T16:56:36.162Z"
   },
   {
    "duration": 7,
    "start_time": "2025-02-05T16:56:36.218Z"
   },
   {
    "duration": 2,
    "start_time": "2025-02-05T16:56:36.228Z"
   },
   {
    "duration": 5,
    "start_time": "2025-02-05T16:56:36.232Z"
   },
   {
    "duration": 4,
    "start_time": "2025-02-05T16:56:36.239Z"
   },
   {
    "duration": 10,
    "start_time": "2025-02-05T16:56:36.245Z"
   },
   {
    "duration": 3,
    "start_time": "2025-02-05T16:56:36.256Z"
   },
   {
    "duration": 5,
    "start_time": "2025-02-05T16:56:36.261Z"
   },
   {
    "duration": 42,
    "start_time": "2025-02-05T16:56:36.268Z"
   },
   {
    "duration": 4,
    "start_time": "2025-02-05T16:56:36.312Z"
   },
   {
    "duration": 7,
    "start_time": "2025-02-05T16:56:36.317Z"
   },
   {
    "duration": 191,
    "start_time": "2025-02-05T16:56:36.327Z"
   },
   {
    "duration": 261,
    "start_time": "2025-02-05T16:56:36.520Z"
   },
   {
    "duration": 12,
    "start_time": "2025-02-05T16:56:36.783Z"
   },
   {
    "duration": 11,
    "start_time": "2025-02-05T16:56:36.796Z"
   },
   {
    "duration": 470,
    "start_time": "2025-02-05T16:56:36.808Z"
   },
   {
    "duration": 305,
    "start_time": "2025-02-05T16:57:10.627Z"
   },
   {
    "duration": 328,
    "start_time": "2025-02-05T17:06:09.732Z"
   },
   {
    "duration": 297,
    "start_time": "2025-02-05T17:06:29.284Z"
   },
   {
    "duration": 2535,
    "start_time": "2025-02-05T22:40:33.448Z"
   },
   {
    "duration": 36,
    "start_time": "2025-02-05T22:40:35.986Z"
   },
   {
    "duration": 45,
    "start_time": "2025-02-05T22:40:36.023Z"
   },
   {
    "duration": 7,
    "start_time": "2025-02-05T22:40:36.070Z"
   },
   {
    "duration": 2,
    "start_time": "2025-02-05T22:40:36.081Z"
   },
   {
    "duration": 4,
    "start_time": "2025-02-05T22:40:36.105Z"
   },
   {
    "duration": 4,
    "start_time": "2025-02-05T22:40:36.111Z"
   },
   {
    "duration": 9,
    "start_time": "2025-02-05T22:40:36.117Z"
   },
   {
    "duration": 3,
    "start_time": "2025-02-05T22:40:36.128Z"
   },
   {
    "duration": 5,
    "start_time": "2025-02-05T22:40:36.133Z"
   },
   {
    "duration": 4,
    "start_time": "2025-02-05T22:40:36.140Z"
   },
   {
    "duration": 4,
    "start_time": "2025-02-05T22:40:36.146Z"
   },
   {
    "duration": 8,
    "start_time": "2025-02-05T22:40:36.151Z"
   },
   {
    "duration": 187,
    "start_time": "2025-02-05T22:40:36.204Z"
   },
   {
    "duration": 272,
    "start_time": "2025-02-05T22:40:36.393Z"
   },
   {
    "duration": 12,
    "start_time": "2025-02-05T22:40:36.667Z"
   },
   {
    "duration": 10,
    "start_time": "2025-02-05T22:40:36.681Z"
   },
   {
    "duration": 306,
    "start_time": "2025-02-05T22:40:36.693Z"
   },
   {
    "duration": 138,
    "start_time": "2025-02-05T22:42:33.272Z"
   },
   {
    "duration": 11,
    "start_time": "2025-02-05T22:42:49.927Z"
   },
   {
    "duration": 13,
    "start_time": "2025-02-05T22:43:06.774Z"
   },
   {
    "duration": 7,
    "start_time": "2025-02-05T22:45:00.844Z"
   },
   {
    "duration": 5,
    "start_time": "2025-02-05T22:52:25.809Z"
   },
   {
    "duration": 91,
    "start_time": "2025-02-05T22:53:01.106Z"
   },
   {
    "duration": 271,
    "start_time": "2025-02-05T22:53:15.000Z"
   },
   {
    "duration": 221,
    "start_time": "2025-02-05T22:53:37.979Z"
   },
   {
    "duration": 108,
    "start_time": "2025-02-05T23:00:51.906Z"
   },
   {
    "duration": 839,
    "start_time": "2025-02-05T23:01:02.149Z"
   },
   {
    "duration": 27,
    "start_time": "2025-02-05T23:01:02.990Z"
   },
   {
    "duration": 46,
    "start_time": "2025-02-05T23:01:03.018Z"
   },
   {
    "duration": 8,
    "start_time": "2025-02-05T23:01:03.065Z"
   },
   {
    "duration": 3,
    "start_time": "2025-02-05T23:01:03.075Z"
   },
   {
    "duration": 29,
    "start_time": "2025-02-05T23:01:03.080Z"
   },
   {
    "duration": 7,
    "start_time": "2025-02-05T23:01:03.110Z"
   },
   {
    "duration": 9,
    "start_time": "2025-02-05T23:01:03.119Z"
   },
   {
    "duration": 4,
    "start_time": "2025-02-05T23:01:03.129Z"
   },
   {
    "duration": 6,
    "start_time": "2025-02-05T23:01:03.134Z"
   },
   {
    "duration": 5,
    "start_time": "2025-02-05T23:01:03.142Z"
   },
   {
    "duration": 7,
    "start_time": "2025-02-05T23:01:03.149Z"
   },
   {
    "duration": 8,
    "start_time": "2025-02-05T23:01:03.158Z"
   },
   {
    "duration": 241,
    "start_time": "2025-02-05T23:01:03.169Z"
   },
   {
    "duration": 253,
    "start_time": "2025-02-05T23:01:03.412Z"
   },
   {
    "duration": 12,
    "start_time": "2025-02-05T23:01:03.667Z"
   },
   {
    "duration": 10,
    "start_time": "2025-02-05T23:01:03.680Z"
   },
   {
    "duration": 363,
    "start_time": "2025-02-05T23:01:03.692Z"
   },
   {
    "duration": 249,
    "start_time": "2025-02-05T23:01:04.057Z"
   },
   {
    "duration": 167,
    "start_time": "2025-02-05T23:01:13.783Z"
   },
   {
    "duration": 229,
    "start_time": "2025-02-05T23:01:54.643Z"
   },
   {
    "duration": 176,
    "start_time": "2025-02-05T23:05:31.533Z"
   },
   {
    "duration": 243,
    "start_time": "2025-02-05T23:07:11.956Z"
   },
   {
    "duration": 180,
    "start_time": "2025-02-05T23:34:16.272Z"
   },
   {
    "duration": 183,
    "start_time": "2025-02-05T23:35:23.579Z"
   },
   {
    "duration": 820,
    "start_time": "2025-02-05T23:35:41.405Z"
   },
   {
    "duration": 24,
    "start_time": "2025-02-05T23:35:42.227Z"
   },
   {
    "duration": 54,
    "start_time": "2025-02-05T23:35:42.252Z"
   },
   {
    "duration": 7,
    "start_time": "2025-02-05T23:35:42.308Z"
   },
   {
    "duration": 3,
    "start_time": "2025-02-05T23:35:42.317Z"
   },
   {
    "duration": 4,
    "start_time": "2025-02-05T23:35:42.322Z"
   },
   {
    "duration": 4,
    "start_time": "2025-02-05T23:35:42.327Z"
   },
   {
    "duration": 9,
    "start_time": "2025-02-05T23:35:42.333Z"
   },
   {
    "duration": 4,
    "start_time": "2025-02-05T23:35:42.343Z"
   },
   {
    "duration": 6,
    "start_time": "2025-02-05T23:35:42.348Z"
   },
   {
    "duration": 5,
    "start_time": "2025-02-05T23:35:42.355Z"
   },
   {
    "duration": 4,
    "start_time": "2025-02-05T23:35:42.406Z"
   },
   {
    "duration": 11,
    "start_time": "2025-02-05T23:35:42.412Z"
   },
   {
    "duration": 210,
    "start_time": "2025-02-05T23:35:42.426Z"
   },
   {
    "duration": 259,
    "start_time": "2025-02-05T23:35:42.638Z"
   },
   {
    "duration": 13,
    "start_time": "2025-02-05T23:35:42.899Z"
   },
   {
    "duration": 10,
    "start_time": "2025-02-05T23:35:42.914Z"
   },
   {
    "duration": 387,
    "start_time": "2025-02-05T23:35:42.926Z"
   },
   {
    "duration": 395,
    "start_time": "2025-02-05T23:35:43.314Z"
   },
   {
    "duration": 13,
    "start_time": "2025-02-05T23:37:41.093Z"
   },
   {
    "duration": 299,
    "start_time": "2025-02-05T23:38:09.863Z"
   },
   {
    "duration": 16,
    "start_time": "2025-02-05T23:38:15.068Z"
   },
   {
    "duration": 4,
    "start_time": "2025-02-05T23:38:58.834Z"
   },
   {
    "duration": 761,
    "start_time": "2025-02-05T23:39:35.559Z"
   },
   {
    "duration": 23,
    "start_time": "2025-02-05T23:39:36.322Z"
   },
   {
    "duration": 45,
    "start_time": "2025-02-05T23:39:36.347Z"
   },
   {
    "duration": 7,
    "start_time": "2025-02-05T23:39:36.405Z"
   },
   {
    "duration": 3,
    "start_time": "2025-02-05T23:39:36.415Z"
   },
   {
    "duration": 6,
    "start_time": "2025-02-05T23:39:36.420Z"
   },
   {
    "duration": 5,
    "start_time": "2025-02-05T23:39:36.427Z"
   },
   {
    "duration": 10,
    "start_time": "2025-02-05T23:39:36.433Z"
   },
   {
    "duration": 4,
    "start_time": "2025-02-05T23:39:36.444Z"
   },
   {
    "duration": 5,
    "start_time": "2025-02-05T23:39:36.449Z"
   },
   {
    "duration": 5,
    "start_time": "2025-02-05T23:39:36.455Z"
   },
   {
    "duration": 44,
    "start_time": "2025-02-05T23:39:36.461Z"
   },
   {
    "duration": 9,
    "start_time": "2025-02-05T23:39:36.507Z"
   },
   {
    "duration": 205,
    "start_time": "2025-02-05T23:39:36.520Z"
   },
   {
    "duration": 264,
    "start_time": "2025-02-05T23:39:36.726Z"
   },
   {
    "duration": 12,
    "start_time": "2025-02-05T23:39:36.992Z"
   },
   {
    "duration": 10,
    "start_time": "2025-02-05T23:39:37.005Z"
   },
   {
    "duration": 354,
    "start_time": "2025-02-05T23:39:37.016Z"
   },
   {
    "duration": 3,
    "start_time": "2025-02-05T23:39:37.372Z"
   },
   {
    "duration": 182,
    "start_time": "2025-02-05T23:40:26.888Z"
   },
   {
    "duration": 298,
    "start_time": "2025-02-05T23:52:36.721Z"
   },
   {
    "duration": 192,
    "start_time": "2025-02-05T23:52:42.531Z"
   },
   {
    "duration": 815,
    "start_time": "2025-02-05T23:52:53.511Z"
   },
   {
    "duration": 27,
    "start_time": "2025-02-05T23:52:54.328Z"
   },
   {
    "duration": 55,
    "start_time": "2025-02-05T23:52:54.357Z"
   },
   {
    "duration": 7,
    "start_time": "2025-02-05T23:52:54.414Z"
   },
   {
    "duration": 3,
    "start_time": "2025-02-05T23:52:54.423Z"
   },
   {
    "duration": 4,
    "start_time": "2025-02-05T23:52:54.428Z"
   },
   {
    "duration": 5,
    "start_time": "2025-02-05T23:52:54.434Z"
   },
   {
    "duration": 9,
    "start_time": "2025-02-05T23:52:54.442Z"
   },
   {
    "duration": 3,
    "start_time": "2025-02-05T23:52:54.453Z"
   },
   {
    "duration": 5,
    "start_time": "2025-02-05T23:52:54.459Z"
   },
   {
    "duration": 42,
    "start_time": "2025-02-05T23:52:54.465Z"
   },
   {
    "duration": 5,
    "start_time": "2025-02-05T23:52:54.509Z"
   },
   {
    "duration": 8,
    "start_time": "2025-02-05T23:52:54.515Z"
   },
   {
    "duration": 200,
    "start_time": "2025-02-05T23:52:54.525Z"
   },
   {
    "duration": 259,
    "start_time": "2025-02-05T23:52:54.727Z"
   },
   {
    "duration": 11,
    "start_time": "2025-02-05T23:52:54.988Z"
   },
   {
    "duration": 11,
    "start_time": "2025-02-05T23:52:55.001Z"
   },
   {
    "duration": 350,
    "start_time": "2025-02-05T23:52:55.014Z"
   },
   {
    "duration": 201,
    "start_time": "2025-02-05T23:52:55.366Z"
   },
   {
    "duration": 187,
    "start_time": "2025-02-05T23:53:03.467Z"
   },
   {
    "duration": 207,
    "start_time": "2025-02-05T23:53:12.688Z"
   },
   {
    "duration": 811,
    "start_time": "2025-02-05T23:53:21.411Z"
   },
   {
    "duration": 26,
    "start_time": "2025-02-05T23:53:22.224Z"
   },
   {
    "duration": 58,
    "start_time": "2025-02-05T23:53:22.251Z"
   },
   {
    "duration": 8,
    "start_time": "2025-02-05T23:53:22.311Z"
   },
   {
    "duration": 3,
    "start_time": "2025-02-05T23:53:22.321Z"
   },
   {
    "duration": 4,
    "start_time": "2025-02-05T23:53:22.326Z"
   },
   {
    "duration": 6,
    "start_time": "2025-02-05T23:53:22.331Z"
   },
   {
    "duration": 10,
    "start_time": "2025-02-05T23:53:22.338Z"
   },
   {
    "duration": 3,
    "start_time": "2025-02-05T23:53:22.349Z"
   },
   {
    "duration": 5,
    "start_time": "2025-02-05T23:53:22.356Z"
   },
   {
    "duration": 43,
    "start_time": "2025-02-05T23:53:22.363Z"
   },
   {
    "duration": 5,
    "start_time": "2025-02-05T23:53:22.408Z"
   },
   {
    "duration": 11,
    "start_time": "2025-02-05T23:53:22.414Z"
   },
   {
    "duration": 204,
    "start_time": "2025-02-05T23:53:22.427Z"
   },
   {
    "duration": 264,
    "start_time": "2025-02-05T23:53:22.633Z"
   },
   {
    "duration": 14,
    "start_time": "2025-02-05T23:53:22.899Z"
   },
   {
    "duration": 11,
    "start_time": "2025-02-05T23:53:22.915Z"
   },
   {
    "duration": 377,
    "start_time": "2025-02-05T23:53:22.928Z"
   },
   {
    "duration": 209,
    "start_time": "2025-02-05T23:53:23.307Z"
   },
   {
    "duration": 314,
    "start_time": "2025-02-05T23:54:59.633Z"
   },
   {
    "duration": 204,
    "start_time": "2025-02-05T23:55:04.607Z"
   },
   {
    "duration": 308,
    "start_time": "2025-02-06T00:02:25.925Z"
   },
   {
    "duration": 10,
    "start_time": "2025-02-06T00:02:56.002Z"
   },
   {
    "duration": 10,
    "start_time": "2025-02-06T00:03:14.853Z"
   },
   {
    "duration": 2577,
    "start_time": "2025-02-06T21:29:45.191Z"
   },
   {
    "duration": 37,
    "start_time": "2025-02-06T21:29:47.770Z"
   },
   {
    "duration": 48,
    "start_time": "2025-02-06T21:29:47.808Z"
   },
   {
    "duration": 7,
    "start_time": "2025-02-06T21:29:47.858Z"
   },
   {
    "duration": 3,
    "start_time": "2025-02-06T21:29:47.868Z"
   },
   {
    "duration": 4,
    "start_time": "2025-02-06T21:29:47.873Z"
   },
   {
    "duration": 5,
    "start_time": "2025-02-06T21:29:47.879Z"
   },
   {
    "duration": 9,
    "start_time": "2025-02-06T21:29:47.886Z"
   },
   {
    "duration": 5,
    "start_time": "2025-02-06T21:29:47.930Z"
   },
   {
    "duration": 7,
    "start_time": "2025-02-06T21:29:47.938Z"
   },
   {
    "duration": 5,
    "start_time": "2025-02-06T21:29:47.947Z"
   },
   {
    "duration": 5,
    "start_time": "2025-02-06T21:29:47.954Z"
   },
   {
    "duration": 7,
    "start_time": "2025-02-06T21:29:47.961Z"
   },
   {
    "duration": 246,
    "start_time": "2025-02-06T21:29:47.971Z"
   },
   {
    "duration": 251,
    "start_time": "2025-02-06T21:29:48.219Z"
   },
   {
    "duration": 12,
    "start_time": "2025-02-06T21:29:48.472Z"
   },
   {
    "duration": 11,
    "start_time": "2025-02-06T21:29:48.486Z"
   },
   {
    "duration": 336,
    "start_time": "2025-02-06T21:29:48.499Z"
   },
   {
    "duration": 8,
    "start_time": "2025-02-06T21:29:48.837Z"
   },
   {
    "duration": 13,
    "start_time": "2025-02-06T21:52:01.504Z"
   },
   {
    "duration": 5,
    "start_time": "2025-02-06T21:54:35.190Z"
   },
   {
    "duration": 175,
    "start_time": "2025-02-06T21:56:49.159Z"
   },
   {
    "duration": 176,
    "start_time": "2025-02-06T21:57:26.455Z"
   },
   {
    "duration": 236,
    "start_time": "2025-02-06T22:04:09.774Z"
   },
   {
    "duration": 166,
    "start_time": "2025-02-06T22:20:02.031Z"
   },
   {
    "duration": 166,
    "start_time": "2025-02-06T22:20:44.399Z"
   },
   {
    "duration": 167,
    "start_time": "2025-02-06T22:21:09.422Z"
   },
   {
    "duration": 304,
    "start_time": "2025-02-07T01:21:59.198Z"
   },
   {
    "duration": 296,
    "start_time": "2025-02-07T01:33:22.124Z"
   },
   {
    "duration": 159,
    "start_time": "2025-02-07T01:44:52.773Z"
   },
   {
    "duration": 251,
    "start_time": "2025-02-07T01:47:21.997Z"
   },
   {
    "duration": 785,
    "start_time": "2025-02-07T02:00:39.168Z"
   },
   {
    "duration": 24,
    "start_time": "2025-02-07T02:00:39.955Z"
   },
   {
    "duration": 54,
    "start_time": "2025-02-07T02:00:39.981Z"
   },
   {
    "duration": 7,
    "start_time": "2025-02-07T02:00:40.037Z"
   },
   {
    "duration": 2,
    "start_time": "2025-02-07T02:00:40.047Z"
   },
   {
    "duration": 5,
    "start_time": "2025-02-07T02:00:40.051Z"
   },
   {
    "duration": 5,
    "start_time": "2025-02-07T02:00:40.057Z"
   },
   {
    "duration": 9,
    "start_time": "2025-02-07T02:00:40.063Z"
   },
   {
    "duration": 3,
    "start_time": "2025-02-07T02:00:40.075Z"
   },
   {
    "duration": 5,
    "start_time": "2025-02-07T02:00:40.080Z"
   },
   {
    "duration": 45,
    "start_time": "2025-02-07T02:00:40.086Z"
   },
   {
    "duration": 5,
    "start_time": "2025-02-07T02:00:40.133Z"
   },
   {
    "duration": 8,
    "start_time": "2025-02-07T02:00:40.140Z"
   },
   {
    "duration": 193,
    "start_time": "2025-02-07T02:00:40.151Z"
   },
   {
    "duration": 258,
    "start_time": "2025-02-07T02:00:40.346Z"
   },
   {
    "duration": 11,
    "start_time": "2025-02-07T02:00:40.606Z"
   },
   {
    "duration": 10,
    "start_time": "2025-02-07T02:00:40.619Z"
   },
   {
    "duration": 368,
    "start_time": "2025-02-07T02:00:40.631Z"
   },
   {
    "duration": 168,
    "start_time": "2025-02-07T02:00:41.001Z"
   },
   {
    "duration": 360,
    "start_time": "2025-02-07T03:23:27.617Z"
   },
   {
    "duration": 539,
    "start_time": "2025-02-07T03:24:05.768Z"
   },
   {
    "duration": 399,
    "start_time": "2025-02-07T03:24:16.511Z"
   },
   {
    "duration": 812,
    "start_time": "2025-02-07T03:25:06.298Z"
   },
   {
    "duration": 79,
    "start_time": "2025-02-07T03:25:07.112Z"
   },
   {
    "duration": 73,
    "start_time": "2025-02-07T03:25:07.193Z"
   },
   {
    "duration": 10,
    "start_time": "2025-02-07T03:25:07.268Z"
   },
   {
    "duration": 3,
    "start_time": "2025-02-07T03:25:07.281Z"
   },
   {
    "duration": 4,
    "start_time": "2025-02-07T03:25:07.286Z"
   },
   {
    "duration": 6,
    "start_time": "2025-02-07T03:25:07.292Z"
   },
   {
    "duration": 37,
    "start_time": "2025-02-07T03:25:07.300Z"
   },
   {
    "duration": 4,
    "start_time": "2025-02-07T03:25:07.339Z"
   },
   {
    "duration": 5,
    "start_time": "2025-02-07T03:25:07.345Z"
   },
   {
    "duration": 4,
    "start_time": "2025-02-07T03:25:07.352Z"
   },
   {
    "duration": 5,
    "start_time": "2025-02-07T03:25:07.358Z"
   },
   {
    "duration": 9,
    "start_time": "2025-02-07T03:25:07.364Z"
   },
   {
    "duration": 219,
    "start_time": "2025-02-07T03:25:07.377Z"
   },
   {
    "duration": 294,
    "start_time": "2025-02-07T03:25:07.598Z"
   },
   {
    "duration": 17,
    "start_time": "2025-02-07T03:25:07.894Z"
   },
   {
    "duration": 13,
    "start_time": "2025-02-07T03:25:07.913Z"
   },
   {
    "duration": 327,
    "start_time": "2025-02-07T03:25:07.928Z"
   },
   {
    "duration": 196,
    "start_time": "2025-02-07T03:25:08.257Z"
   },
   {
    "duration": 345,
    "start_time": "2025-02-07T03:25:08.455Z"
   },
   {
    "duration": 193,
    "start_time": "2025-02-07T03:37:20.288Z"
   },
   {
    "duration": 320,
    "start_time": "2025-02-07T03:40:51.075Z"
   },
   {
    "duration": 456,
    "start_time": "2025-02-07T03:43:34.037Z"
   },
   {
    "duration": 291,
    "start_time": "2025-02-07T04:03:39.047Z"
   },
   {
    "duration": 299,
    "start_time": "2025-02-07T04:12:36.946Z"
   },
   {
    "duration": 23,
    "start_time": "2025-02-07T05:12:14.563Z"
   },
   {
    "duration": 15,
    "start_time": "2025-02-07T05:13:06.230Z"
   },
   {
    "duration": 5,
    "start_time": "2025-02-07T05:13:27.494Z"
   },
   {
    "duration": 4,
    "start_time": "2025-02-07T05:14:08.711Z"
   },
   {
    "duration": 8,
    "start_time": "2025-02-07T05:14:31.178Z"
   },
   {
    "duration": 788,
    "start_time": "2025-02-07T05:46:22.880Z"
   },
   {
    "duration": 25,
    "start_time": "2025-02-07T05:46:23.672Z"
   },
   {
    "duration": 62,
    "start_time": "2025-02-07T05:46:23.699Z"
   },
   {
    "duration": 9,
    "start_time": "2025-02-07T05:46:23.763Z"
   },
   {
    "duration": 3,
    "start_time": "2025-02-07T05:46:23.775Z"
   },
   {
    "duration": 5,
    "start_time": "2025-02-07T05:46:23.779Z"
   },
   {
    "duration": 5,
    "start_time": "2025-02-07T05:46:23.785Z"
   },
   {
    "duration": 12,
    "start_time": "2025-02-07T05:46:23.792Z"
   },
   {
    "duration": 4,
    "start_time": "2025-02-07T05:46:23.831Z"
   },
   {
    "duration": 5,
    "start_time": "2025-02-07T05:46:23.837Z"
   },
   {
    "duration": 4,
    "start_time": "2025-02-07T05:46:23.845Z"
   },
   {
    "duration": 3,
    "start_time": "2025-02-07T05:46:23.851Z"
   },
   {
    "duration": 8,
    "start_time": "2025-02-07T05:46:23.856Z"
   },
   {
    "duration": 205,
    "start_time": "2025-02-07T05:46:23.867Z"
   },
   {
    "duration": 300,
    "start_time": "2025-02-07T05:46:24.075Z"
   },
   {
    "duration": 15,
    "start_time": "2025-02-07T05:46:24.377Z"
   },
   {
    "duration": 12,
    "start_time": "2025-02-07T05:46:24.393Z"
   },
   {
    "duration": 376,
    "start_time": "2025-02-07T05:46:24.407Z"
   },
   {
    "duration": 181,
    "start_time": "2025-02-07T05:46:24.784Z"
   },
   {
    "duration": 325,
    "start_time": "2025-02-07T05:46:24.967Z"
   },
   {
    "duration": 6,
    "start_time": "2025-02-07T05:46:25.294Z"
   },
   {
    "duration": 128,
    "start_time": "2025-02-07T05:52:06.528Z"
   },
   {
    "duration": 15,
    "start_time": "2025-02-07T05:54:36.777Z"
   },
   {
    "duration": 12,
    "start_time": "2025-02-07T05:54:45.594Z"
   },
   {
    "duration": 157,
    "start_time": "2025-02-07T21:06:51.563Z"
   },
   {
    "duration": 2528,
    "start_time": "2025-02-07T21:07:11.375Z"
   },
   {
    "duration": 38,
    "start_time": "2025-02-07T21:07:13.906Z"
   },
   {
    "duration": 47,
    "start_time": "2025-02-07T21:07:13.945Z"
   },
   {
    "duration": 8,
    "start_time": "2025-02-07T21:07:13.993Z"
   },
   {
    "duration": 2,
    "start_time": "2025-02-07T21:07:14.005Z"
   },
   {
    "duration": 20,
    "start_time": "2025-02-07T21:07:14.008Z"
   },
   {
    "duration": 4,
    "start_time": "2025-02-07T21:07:14.030Z"
   },
   {
    "duration": 10,
    "start_time": "2025-02-07T21:07:14.037Z"
   },
   {
    "duration": 4,
    "start_time": "2025-02-07T21:07:14.048Z"
   },
   {
    "duration": 5,
    "start_time": "2025-02-07T21:07:14.053Z"
   },
   {
    "duration": 5,
    "start_time": "2025-02-07T21:07:14.060Z"
   },
   {
    "duration": 4,
    "start_time": "2025-02-07T21:07:14.067Z"
   },
   {
    "duration": 7,
    "start_time": "2025-02-07T21:07:14.073Z"
   },
   {
    "duration": 179,
    "start_time": "2025-02-07T21:07:14.123Z"
   },
   {
    "duration": 267,
    "start_time": "2025-02-07T21:07:14.306Z"
   },
   {
    "duration": 13,
    "start_time": "2025-02-07T21:07:14.574Z"
   },
   {
    "duration": 11,
    "start_time": "2025-02-07T21:07:14.588Z"
   },
   {
    "duration": 314,
    "start_time": "2025-02-07T21:07:14.601Z"
   },
   {
    "duration": 236,
    "start_time": "2025-02-07T21:07:14.917Z"
   },
   {
    "duration": 310,
    "start_time": "2025-02-07T21:07:15.155Z"
   },
   {
    "duration": 4,
    "start_time": "2025-02-07T21:07:15.468Z"
   },
   {
    "duration": 358,
    "start_time": "2025-02-07T21:09:55.354Z"
   },
   {
    "duration": 351,
    "start_time": "2025-02-07T21:11:30.160Z"
   },
   {
    "duration": 1143,
    "start_time": "2025-02-07T21:14:05.244Z"
   },
   {
    "duration": 380,
    "start_time": "2025-02-07T21:14:18.406Z"
   },
   {
    "duration": 369,
    "start_time": "2025-02-07T21:35:24.060Z"
   },
   {
    "duration": 391,
    "start_time": "2025-02-07T21:35:32.959Z"
   },
   {
    "duration": 357,
    "start_time": "2025-02-07T21:35:40.613Z"
   },
   {
    "duration": 6,
    "start_time": "2025-02-07T21:52:23.951Z"
   },
   {
    "duration": 9,
    "start_time": "2025-02-07T21:59:07.689Z"
   },
   {
    "duration": 8,
    "start_time": "2025-02-07T22:30:02.317Z"
   },
   {
    "duration": 14,
    "start_time": "2025-02-07T22:30:07.188Z"
   },
   {
    "duration": 14,
    "start_time": "2025-02-07T22:30:57.946Z"
   },
   {
    "duration": 282,
    "start_time": "2025-02-07T22:34:18.078Z"
   },
   {
    "duration": 166,
    "start_time": "2025-02-07T22:34:40.156Z"
   },
   {
    "duration": 158,
    "start_time": "2025-02-07T22:34:46.985Z"
   },
   {
    "duration": 287,
    "start_time": "2025-02-07T22:35:12.286Z"
   },
   {
    "duration": 11,
    "start_time": "2025-02-07T22:35:34.765Z"
   },
   {
    "duration": 11,
    "start_time": "2025-02-07T22:35:50.093Z"
   },
   {
    "duration": 11,
    "start_time": "2025-02-07T22:37:57.106Z"
   },
   {
    "duration": 11,
    "start_time": "2025-02-07T22:38:04.075Z"
   },
   {
    "duration": 19,
    "start_time": "2025-02-07T22:51:59.120Z"
   },
   {
    "duration": 118,
    "start_time": "2025-02-07T22:52:32.663Z"
   },
   {
    "duration": 26,
    "start_time": "2025-02-07T22:53:11.662Z"
   },
   {
    "duration": 27,
    "start_time": "2025-02-07T22:53:19.051Z"
   },
   {
    "duration": 12,
    "start_time": "2025-02-07T22:53:24.400Z"
   },
   {
    "duration": 6,
    "start_time": "2025-02-07T22:56:04.099Z"
   },
   {
    "duration": 10,
    "start_time": "2025-02-07T22:57:27.694Z"
   },
   {
    "duration": 10,
    "start_time": "2025-02-07T22:58:24.205Z"
   },
   {
    "duration": 9,
    "start_time": "2025-02-07T22:58:33.742Z"
   },
   {
    "duration": 321,
    "start_time": "2025-02-07T23:35:29.388Z"
   },
   {
    "duration": 10,
    "start_time": "2025-02-07T23:36:51.728Z"
   },
   {
    "duration": 9,
    "start_time": "2025-02-07T23:47:38.825Z"
   },
   {
    "duration": 10,
    "start_time": "2025-02-07T23:54:45.558Z"
   },
   {
    "duration": 302,
    "start_time": "2025-02-08T00:11:30.570Z"
   },
   {
    "duration": 178,
    "start_time": "2025-02-08T00:12:43.680Z"
   },
   {
    "duration": 9,
    "start_time": "2025-02-08T00:13:15.329Z"
   },
   {
    "duration": 170,
    "start_time": "2025-02-08T00:17:59.138Z"
   },
   {
    "duration": 6,
    "start_time": "2025-02-08T00:52:29.616Z"
   },
   {
    "duration": 144,
    "start_time": "2025-02-08T00:55:27.449Z"
   },
   {
    "duration": 23,
    "start_time": "2025-02-08T00:59:53.304Z"
   },
   {
    "duration": 80,
    "start_time": "2025-02-08T01:00:11.852Z"
   },
   {
    "duration": 400,
    "start_time": "2025-02-08T01:00:30.422Z"
   },
   {
    "duration": 50,
    "start_time": "2025-02-08T01:00:39.936Z"
   },
   {
    "duration": 10,
    "start_time": "2025-02-08T01:00:58.579Z"
   },
   {
    "duration": 7,
    "start_time": "2025-02-08T01:04:34.827Z"
   },
   {
    "duration": 7,
    "start_time": "2025-02-08T01:06:15.911Z"
   },
   {
    "duration": 8,
    "start_time": "2025-02-08T01:08:46.125Z"
   },
   {
    "duration": 8,
    "start_time": "2025-02-08T01:11:23.958Z"
   },
   {
    "duration": 6,
    "start_time": "2025-02-08T01:16:31.149Z"
   },
   {
    "duration": 6,
    "start_time": "2025-02-08T01:16:53.843Z"
   },
   {
    "duration": 8,
    "start_time": "2025-02-08T01:17:33.272Z"
   },
   {
    "duration": 8,
    "start_time": "2025-02-08T01:25:00.805Z"
   },
   {
    "duration": 794,
    "start_time": "2025-02-08T01:27:22.264Z"
   },
   {
    "duration": 24,
    "start_time": "2025-02-08T01:27:23.060Z"
   },
   {
    "duration": 55,
    "start_time": "2025-02-08T01:27:23.085Z"
   },
   {
    "duration": 8,
    "start_time": "2025-02-08T01:27:23.141Z"
   },
   {
    "duration": 2,
    "start_time": "2025-02-08T01:27:23.152Z"
   },
   {
    "duration": 5,
    "start_time": "2025-02-08T01:27:23.156Z"
   },
   {
    "duration": 5,
    "start_time": "2025-02-08T01:27:23.162Z"
   },
   {
    "duration": 9,
    "start_time": "2025-02-08T01:27:23.169Z"
   },
   {
    "duration": 4,
    "start_time": "2025-02-08T01:27:23.180Z"
   },
   {
    "duration": 39,
    "start_time": "2025-02-08T01:27:23.185Z"
   },
   {
    "duration": 4,
    "start_time": "2025-02-08T01:27:23.226Z"
   },
   {
    "duration": 3,
    "start_time": "2025-02-08T01:27:23.232Z"
   },
   {
    "duration": 8,
    "start_time": "2025-02-08T01:27:23.238Z"
   },
   {
    "duration": 202,
    "start_time": "2025-02-08T01:27:23.249Z"
   },
   {
    "duration": 277,
    "start_time": "2025-02-08T01:27:23.452Z"
   },
   {
    "duration": 13,
    "start_time": "2025-02-08T01:27:23.730Z"
   },
   {
    "duration": 11,
    "start_time": "2025-02-08T01:27:23.745Z"
   },
   {
    "duration": 366,
    "start_time": "2025-02-08T01:27:23.758Z"
   },
   {
    "duration": 171,
    "start_time": "2025-02-08T01:27:24.126Z"
   },
   {
    "duration": 312,
    "start_time": "2025-02-08T01:27:24.299Z"
   },
   {
    "duration": 384,
    "start_time": "2025-02-08T01:27:24.614Z"
   },
   {
    "duration": 9,
    "start_time": "2025-02-08T01:27:24.999Z"
   },
   {
    "duration": 185,
    "start_time": "2025-02-08T01:27:25.010Z"
   },
   {
    "duration": 180,
    "start_time": "2025-02-08T01:27:25.197Z"
   },
   {
    "duration": 7,
    "start_time": "2025-02-08T01:27:25.379Z"
   },
   {
    "duration": 7,
    "start_time": "2025-02-08T01:27:25.388Z"
   }
  ],
  "kernelspec": {
   "display_name": "Python 3 (ipykernel)",
   "language": "python",
   "name": "python3"
  },
  "language_info": {
   "codemirror_mode": {
    "name": "ipython",
    "version": 3
   },
   "file_extension": ".py",
   "mimetype": "text/x-python",
   "name": "python",
   "nbconvert_exporter": "python",
   "pygments_lexer": "ipython3",
   "version": "3.9.19"
  },
  "toc": {
   "base_numbering": 1,
   "nav_menu": {},
   "number_sections": true,
   "sideBar": true,
   "skip_h1_title": true,
   "title_cell": "Table of Contents",
   "title_sidebar": "Contents",
   "toc_cell": false,
   "toc_position": {},
   "toc_section_display": true,
   "toc_window_display": false
  }
 },
 "nbformat": 4,
 "nbformat_minor": 2
}
